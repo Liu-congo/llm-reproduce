{
 "cells": [
  {
   "cell_type": "code",
   "execution_count": null,
   "id": "32016418-6c4c-4bec-86e6-c39696c06a66",
   "metadata": {},
   "outputs": [],
   "source": [
    "# 基本分析流程与main一致， 同样需要下载预训练模型， 找bert官方git clone即可"
   ]
  },
  {
   "cell_type": "code",
   "execution_count": 1,
   "id": "b27d536e-f247-4976-8fb4-8ff7ed47f21a",
   "metadata": {
    "tags": []
   },
   "outputs": [
    {
     "data": {
      "text/plain": [
       "BertTokenizerFast(name_or_path='../bert_uncased_L-12_H-768_A-12', vocab_size=30522, model_max_length=512, is_fast=True, padding_side='right', truncation_side='right', special_tokens={'unk_token': '[UNK]', 'sep_token': '[SEP]', 'pad_token': '[PAD]', 'cls_token': '[CLS]', 'mask_token': '[MASK]'}, clean_up_tokenization_spaces=True),  added_tokens_decoder={\n",
       "\t0: AddedToken(\"[PAD]\", rstrip=False, lstrip=False, single_word=False, normalized=False, special=True),\n",
       "\t100: AddedToken(\"[UNK]\", rstrip=False, lstrip=False, single_word=False, normalized=False, special=True),\n",
       "\t101: AddedToken(\"[CLS]\", rstrip=False, lstrip=False, single_word=False, normalized=False, special=True),\n",
       "\t102: AddedToken(\"[SEP]\", rstrip=False, lstrip=False, single_word=False, normalized=False, special=True),\n",
       "\t103: AddedToken(\"[MASK]\", rstrip=False, lstrip=False, single_word=False, normalized=False, special=True),\n",
       "}"
      ]
     },
     "execution_count": 1,
     "metadata": {},
     "output_type": "execute_result"
    }
   ],
   "source": [
    "from transformers import AutoTokenizer\n",
    "tokenizer = AutoTokenizer.from_pretrained(\"../bert_uncased_L-12_H-768_A-12\")\n",
    "tokenizer"
   ]
  },
  {
   "cell_type": "code",
   "execution_count": 2,
   "id": "4fe14a9f-ead7-4349-a0fb-360b576ec2c9",
   "metadata": {
    "tags": []
   },
   "outputs": [
    {
     "data": {
      "text/plain": [
       "{'input_ids': [101, 100, 1811, 1811, 100, 1921, 100, 1986, 102], 'token_type_ids': [0, 0, 0, 0, 0, 0, 0, 0, 0], 'attention_mask': [1, 1, 1, 1, 1, 1, 1, 1, 1]}"
      ]
     },
     "execution_count": 2,
     "metadata": {},
     "output_type": "execute_result"
    }
   ],
   "source": [
    "tokenizer(\"今天天气真好！\")"
   ]
  },
  {
   "cell_type": "code",
   "execution_count": 3,
   "id": "453e1a14-9d63-4e61-a708-8c5507e75aa6",
   "metadata": {
    "tags": []
   },
   "outputs": [
    {
     "name": "stdout",
     "output_type": "stream",
     "text": [
      "['我', '[UNK]', '中', '[UNK]', '大', '地']\n",
      "[1855, 100, 1746, 100, 1810, 1802]\n",
      "我 [UNK] 中 [UNK] 大 地\n"
     ]
    }
   ],
   "source": [
    "tokens = tokenizer.tokenize('我爱中华大地')\n",
    "print(tokens)\n",
    "ids = tokenizer.convert_tokens_to_ids(tokens)\n",
    "print(ids)\n",
    "sentence = tokenizer.decode(ids)\n",
    "print(sentence)"
   ]
  },
  {
   "cell_type": "code",
   "execution_count": 4,
   "id": "5079de86-eec3-4351-8970-f1c6a096cb16",
   "metadata": {
    "scrolled": true,
    "tags": []
   },
   "outputs": [
    {
     "name": "stdout",
     "output_type": "stream",
     "text": [
      "[\n",
      "    \"bert.embeddings.LayerNorm.beta\",\n",
      "    \"bert.embeddings.LayerNorm.gamma\",\n",
      "    \"bert.embeddings.position_embeddings.weight\",\n",
      "    \"bert.embeddings.token_type_embeddings.weight\",\n",
      "    \"bert.embeddings.word_embeddings.weight\",\n",
      "    \"bert.encoder.layer.0.attention.output.LayerNorm.beta\",\n",
      "    \"bert.encoder.layer.0.attention.output.LayerNorm.gamma\",\n",
      "    \"bert.encoder.layer.0.attention.output.dense.bias\",\n",
      "    \"bert.encoder.layer.0.attention.output.dense.weight\",\n",
      "    \"bert.encoder.layer.0.attention.self.key.bias\",\n",
      "    \"bert.encoder.layer.0.attention.self.key.weight\",\n",
      "    \"bert.encoder.layer.0.attention.self.query.bias\",\n",
      "    \"bert.encoder.layer.0.attention.self.query.weight\",\n",
      "    \"bert.encoder.layer.0.attention.self.value.bias\",\n",
      "    \"bert.encoder.layer.0.attention.self.value.weight\",\n",
      "    \"bert.encoder.layer.0.intermediate.dense.bias\",\n",
      "    \"bert.encoder.layer.0.intermediate.dense.weight\",\n",
      "    \"bert.encoder.layer.0.output.LayerNorm.beta\",\n",
      "    \"bert.encoder.layer.0.output.LayerNorm.gamma\",\n",
      "    \"bert.encoder.layer.0.output.dense.bias\",\n",
      "    \"bert.encoder.layer.0.output.dense.weight\",\n",
      "    \"bert.encoder.layer.1.attention.output.LayerNorm.beta\",\n",
      "    \"bert.encoder.layer.1.attention.output.LayerNorm.gamma\",\n",
      "    \"bert.encoder.layer.1.attention.output.dense.bias\",\n",
      "    \"bert.encoder.layer.1.attention.output.dense.weight\",\n",
      "    \"bert.encoder.layer.1.attention.self.key.bias\",\n",
      "    \"bert.encoder.layer.1.attention.self.key.weight\",\n",
      "    \"bert.encoder.layer.1.attention.self.query.bias\",\n",
      "    \"bert.encoder.layer.1.attention.self.query.weight\",\n",
      "    \"bert.encoder.layer.1.attention.self.value.bias\",\n",
      "    \"bert.encoder.layer.1.attention.self.value.weight\",\n",
      "    \"bert.encoder.layer.1.intermediate.dense.bias\",\n",
      "    \"bert.encoder.layer.1.intermediate.dense.weight\",\n",
      "    \"bert.encoder.layer.1.output.LayerNorm.beta\",\n",
      "    \"bert.encoder.layer.1.output.LayerNorm.gamma\",\n",
      "    \"bert.encoder.layer.1.output.dense.bias\",\n",
      "    \"bert.encoder.layer.1.output.dense.weight\",\n",
      "    \"bert.encoder.layer.10.attention.output.LayerNorm.beta\",\n",
      "    \"bert.encoder.layer.10.attention.output.LayerNorm.gamma\",\n",
      "    \"bert.encoder.layer.10.attention.output.dense.bias\",\n",
      "    \"bert.encoder.layer.10.attention.output.dense.weight\",\n",
      "    \"bert.encoder.layer.10.attention.self.key.bias\",\n",
      "    \"bert.encoder.layer.10.attention.self.key.weight\",\n",
      "    \"bert.encoder.layer.10.attention.self.query.bias\",\n",
      "    \"bert.encoder.layer.10.attention.self.query.weight\",\n",
      "    \"bert.encoder.layer.10.attention.self.value.bias\",\n",
      "    \"bert.encoder.layer.10.attention.self.value.weight\",\n",
      "    \"bert.encoder.layer.10.intermediate.dense.bias\",\n",
      "    \"bert.encoder.layer.10.intermediate.dense.weight\",\n",
      "    \"bert.encoder.layer.10.output.LayerNorm.beta\",\n",
      "    \"bert.encoder.layer.10.output.LayerNorm.gamma\",\n",
      "    \"bert.encoder.layer.10.output.dense.bias\",\n",
      "    \"bert.encoder.layer.10.output.dense.weight\",\n",
      "    \"bert.encoder.layer.11.attention.output.LayerNorm.beta\",\n",
      "    \"bert.encoder.layer.11.attention.output.LayerNorm.gamma\",\n",
      "    \"bert.encoder.layer.11.attention.output.dense.bias\",\n",
      "    \"bert.encoder.layer.11.attention.output.dense.weight\",\n",
      "    \"bert.encoder.layer.11.attention.self.key.bias\",\n",
      "    \"bert.encoder.layer.11.attention.self.key.weight\",\n",
      "    \"bert.encoder.layer.11.attention.self.query.bias\",\n",
      "    \"bert.encoder.layer.11.attention.self.query.weight\",\n",
      "    \"bert.encoder.layer.11.attention.self.value.bias\",\n",
      "    \"bert.encoder.layer.11.attention.self.value.weight\",\n",
      "    \"bert.encoder.layer.11.intermediate.dense.bias\",\n",
      "    \"bert.encoder.layer.11.intermediate.dense.weight\",\n",
      "    \"bert.encoder.layer.11.output.LayerNorm.beta\",\n",
      "    \"bert.encoder.layer.11.output.LayerNorm.gamma\",\n",
      "    \"bert.encoder.layer.11.output.dense.bias\",\n",
      "    \"bert.encoder.layer.11.output.dense.weight\",\n",
      "    \"bert.encoder.layer.2.attention.output.LayerNorm.beta\",\n",
      "    \"bert.encoder.layer.2.attention.output.LayerNorm.gamma\",\n",
      "    \"bert.encoder.layer.2.attention.output.dense.bias\",\n",
      "    \"bert.encoder.layer.2.attention.output.dense.weight\",\n",
      "    \"bert.encoder.layer.2.attention.self.key.bias\",\n",
      "    \"bert.encoder.layer.2.attention.self.key.weight\",\n",
      "    \"bert.encoder.layer.2.attention.self.query.bias\",\n",
      "    \"bert.encoder.layer.2.attention.self.query.weight\",\n",
      "    \"bert.encoder.layer.2.attention.self.value.bias\",\n",
      "    \"bert.encoder.layer.2.attention.self.value.weight\",\n",
      "    \"bert.encoder.layer.2.intermediate.dense.bias\",\n",
      "    \"bert.encoder.layer.2.intermediate.dense.weight\",\n",
      "    \"bert.encoder.layer.2.output.LayerNorm.beta\",\n",
      "    \"bert.encoder.layer.2.output.LayerNorm.gamma\",\n",
      "    \"bert.encoder.layer.2.output.dense.bias\",\n",
      "    \"bert.encoder.layer.2.output.dense.weight\",\n",
      "    \"bert.encoder.layer.3.attention.output.LayerNorm.beta\",\n",
      "    \"bert.encoder.layer.3.attention.output.LayerNorm.gamma\",\n",
      "    \"bert.encoder.layer.3.attention.output.dense.bias\",\n",
      "    \"bert.encoder.layer.3.attention.output.dense.weight\",\n",
      "    \"bert.encoder.layer.3.attention.self.key.bias\",\n",
      "    \"bert.encoder.layer.3.attention.self.key.weight\",\n",
      "    \"bert.encoder.layer.3.attention.self.query.bias\",\n",
      "    \"bert.encoder.layer.3.attention.self.query.weight\",\n",
      "    \"bert.encoder.layer.3.attention.self.value.bias\",\n",
      "    \"bert.encoder.layer.3.attention.self.value.weight\",\n",
      "    \"bert.encoder.layer.3.intermediate.dense.bias\",\n",
      "    \"bert.encoder.layer.3.intermediate.dense.weight\",\n",
      "    \"bert.encoder.layer.3.output.LayerNorm.beta\",\n",
      "    \"bert.encoder.layer.3.output.LayerNorm.gamma\",\n",
      "    \"bert.encoder.layer.3.output.dense.bias\",\n",
      "    \"bert.encoder.layer.3.output.dense.weight\",\n",
      "    \"bert.encoder.layer.4.attention.output.LayerNorm.beta\",\n",
      "    \"bert.encoder.layer.4.attention.output.LayerNorm.gamma\",\n",
      "    \"bert.encoder.layer.4.attention.output.dense.bias\",\n",
      "    \"bert.encoder.layer.4.attention.output.dense.weight\",\n",
      "    \"bert.encoder.layer.4.attention.self.key.bias\",\n",
      "    \"bert.encoder.layer.4.attention.self.key.weight\",\n",
      "    \"bert.encoder.layer.4.attention.self.query.bias\",\n",
      "    \"bert.encoder.layer.4.attention.self.query.weight\",\n",
      "    \"bert.encoder.layer.4.attention.self.value.bias\",\n",
      "    \"bert.encoder.layer.4.attention.self.value.weight\",\n",
      "    \"bert.encoder.layer.4.intermediate.dense.bias\",\n",
      "    \"bert.encoder.layer.4.intermediate.dense.weight\",\n",
      "    \"bert.encoder.layer.4.output.LayerNorm.beta\",\n",
      "    \"bert.encoder.layer.4.output.LayerNorm.gamma\",\n",
      "    \"bert.encoder.layer.4.output.dense.bias\",\n",
      "    \"bert.encoder.layer.4.output.dense.weight\",\n",
      "    \"bert.encoder.layer.5.attention.output.LayerNorm.beta\",\n",
      "    \"bert.encoder.layer.5.attention.output.LayerNorm.gamma\",\n",
      "    \"bert.encoder.layer.5.attention.output.dense.bias\",\n",
      "    \"bert.encoder.layer.5.attention.output.dense.weight\",\n",
      "    \"bert.encoder.layer.5.attention.self.key.bias\",\n",
      "    \"bert.encoder.layer.5.attention.self.key.weight\",\n",
      "    \"bert.encoder.layer.5.attention.self.query.bias\",\n",
      "    \"bert.encoder.layer.5.attention.self.query.weight\",\n",
      "    \"bert.encoder.layer.5.attention.self.value.bias\",\n",
      "    \"bert.encoder.layer.5.attention.self.value.weight\",\n",
      "    \"bert.encoder.layer.5.intermediate.dense.bias\",\n",
      "    \"bert.encoder.layer.5.intermediate.dense.weight\",\n",
      "    \"bert.encoder.layer.5.output.LayerNorm.beta\",\n",
      "    \"bert.encoder.layer.5.output.LayerNorm.gamma\",\n",
      "    \"bert.encoder.layer.5.output.dense.bias\",\n",
      "    \"bert.encoder.layer.5.output.dense.weight\",\n",
      "    \"bert.encoder.layer.6.attention.output.LayerNorm.beta\",\n",
      "    \"bert.encoder.layer.6.attention.output.LayerNorm.gamma\",\n",
      "    \"bert.encoder.layer.6.attention.output.dense.bias\",\n",
      "    \"bert.encoder.layer.6.attention.output.dense.weight\",\n",
      "    \"bert.encoder.layer.6.attention.self.key.bias\",\n",
      "    \"bert.encoder.layer.6.attention.self.key.weight\",\n",
      "    \"bert.encoder.layer.6.attention.self.query.bias\",\n",
      "    \"bert.encoder.layer.6.attention.self.query.weight\",\n",
      "    \"bert.encoder.layer.6.attention.self.value.bias\",\n",
      "    \"bert.encoder.layer.6.attention.self.value.weight\",\n",
      "    \"bert.encoder.layer.6.intermediate.dense.bias\",\n",
      "    \"bert.encoder.layer.6.intermediate.dense.weight\",\n",
      "    \"bert.encoder.layer.6.output.LayerNorm.beta\",\n",
      "    \"bert.encoder.layer.6.output.LayerNorm.gamma\",\n",
      "    \"bert.encoder.layer.6.output.dense.bias\",\n",
      "    \"bert.encoder.layer.6.output.dense.weight\",\n",
      "    \"bert.encoder.layer.7.attention.output.LayerNorm.beta\",\n",
      "    \"bert.encoder.layer.7.attention.output.LayerNorm.gamma\",\n",
      "    \"bert.encoder.layer.7.attention.output.dense.bias\",\n",
      "    \"bert.encoder.layer.7.attention.output.dense.weight\",\n",
      "    \"bert.encoder.layer.7.attention.self.key.bias\",\n",
      "    \"bert.encoder.layer.7.attention.self.key.weight\",\n",
      "    \"bert.encoder.layer.7.attention.self.query.bias\",\n",
      "    \"bert.encoder.layer.7.attention.self.query.weight\",\n",
      "    \"bert.encoder.layer.7.attention.self.value.bias\",\n",
      "    \"bert.encoder.layer.7.attention.self.value.weight\",\n",
      "    \"bert.encoder.layer.7.intermediate.dense.bias\",\n",
      "    \"bert.encoder.layer.7.intermediate.dense.weight\",\n",
      "    \"bert.encoder.layer.7.output.LayerNorm.beta\",\n",
      "    \"bert.encoder.layer.7.output.LayerNorm.gamma\",\n",
      "    \"bert.encoder.layer.7.output.dense.bias\",\n",
      "    \"bert.encoder.layer.7.output.dense.weight\",\n",
      "    \"bert.encoder.layer.8.attention.output.LayerNorm.beta\",\n",
      "    \"bert.encoder.layer.8.attention.output.LayerNorm.gamma\",\n",
      "    \"bert.encoder.layer.8.attention.output.dense.bias\",\n",
      "    \"bert.encoder.layer.8.attention.output.dense.weight\",\n",
      "    \"bert.encoder.layer.8.attention.self.key.bias\",\n",
      "    \"bert.encoder.layer.8.attention.self.key.weight\",\n",
      "    \"bert.encoder.layer.8.attention.self.query.bias\",\n",
      "    \"bert.encoder.layer.8.attention.self.query.weight\",\n",
      "    \"bert.encoder.layer.8.attention.self.value.bias\",\n",
      "    \"bert.encoder.layer.8.attention.self.value.weight\",\n",
      "    \"bert.encoder.layer.8.intermediate.dense.bias\",\n",
      "    \"bert.encoder.layer.8.intermediate.dense.weight\",\n",
      "    \"bert.encoder.layer.8.output.LayerNorm.beta\",\n",
      "    \"bert.encoder.layer.8.output.LayerNorm.gamma\",\n",
      "    \"bert.encoder.layer.8.output.dense.bias\",\n",
      "    \"bert.encoder.layer.8.output.dense.weight\",\n",
      "    \"bert.encoder.layer.9.attention.output.LayerNorm.beta\",\n",
      "    \"bert.encoder.layer.9.attention.output.LayerNorm.gamma\",\n",
      "    \"bert.encoder.layer.9.attention.output.dense.bias\",\n",
      "    \"bert.encoder.layer.9.attention.output.dense.weight\",\n",
      "    \"bert.encoder.layer.9.attention.self.key.bias\",\n",
      "    \"bert.encoder.layer.9.attention.self.key.weight\",\n",
      "    \"bert.encoder.layer.9.attention.self.query.bias\",\n",
      "    \"bert.encoder.layer.9.attention.self.query.weight\",\n",
      "    \"bert.encoder.layer.9.attention.self.value.bias\",\n",
      "    \"bert.encoder.layer.9.attention.self.value.weight\",\n",
      "    \"bert.encoder.layer.9.intermediate.dense.bias\",\n",
      "    \"bert.encoder.layer.9.intermediate.dense.weight\",\n",
      "    \"bert.encoder.layer.9.output.LayerNorm.beta\",\n",
      "    \"bert.encoder.layer.9.output.LayerNorm.gamma\",\n",
      "    \"bert.encoder.layer.9.output.dense.bias\",\n",
      "    \"bert.encoder.layer.9.output.dense.weight\",\n",
      "    \"bert.pooler.dense.bias\",\n",
      "    \"bert.pooler.dense.weight\",\n",
      "    \"cls.predictions.bias\",\n",
      "    \"cls.predictions.transform.LayerNorm.beta\",\n",
      "    \"cls.predictions.transform.LayerNorm.gamma\",\n",
      "    \"cls.predictions.transform.dense.bias\",\n",
      "    \"cls.predictions.transform.dense.weight\",\n",
      "    \"cls.seq_relationship.bias\",\n",
      "    \"cls.seq_relationship.weight\"\n",
      "]\n"
     ]
    }
   ],
   "source": [
    "from safetensors.torch import load_file \n",
    "import json\n",
    "model = load_file(\"../bert_uncased_L-12_H-768_A-12/model.safetensors\")\n",
    "print(json.dumps(list(model.keys())[:], indent=4))"
   ]
  },
  {
   "cell_type": "code",
   "execution_count": 5,
   "id": "7ab7b6e6-0209-4285-ba2b-6e7740235430",
   "metadata": {
    "tags": []
   },
   "outputs": [
    {
     "data": {
      "text/plain": [
       "{'architectures': ['BertForMaskedLM'],\n",
       " 'attention_probs_dropout_prob': 0.1,\n",
       " 'gradient_checkpointing': False,\n",
       " 'hidden_act': 'gelu',\n",
       " 'hidden_dropout_prob': 0.1,\n",
       " 'hidden_size': 768,\n",
       " 'initializer_range': 0.02,\n",
       " 'intermediate_size': 3072,\n",
       " 'layer_norm_eps': 1e-12,\n",
       " 'max_position_embeddings': 512,\n",
       " 'model_type': 'bert',\n",
       " 'num_attention_heads': 12,\n",
       " 'num_hidden_layers': 12,\n",
       " 'pad_token_id': 0,\n",
       " 'position_embedding_type': 'absolute',\n",
       " 'transformers_version': '4.6.0.dev0',\n",
       " 'type_vocab_size': 2,\n",
       " 'use_cache': True,\n",
       " 'vocab_size': 30522}"
      ]
     },
     "execution_count": 5,
     "metadata": {},
     "output_type": "execute_result"
    }
   ],
   "source": [
    "with open(\"../bert_uncased_L-12_H-768_A-12/config.json\", \"r\") as f:\n",
    "    config = json.load(f)\n",
    "config"
   ]
  },
  {
   "cell_type": "code",
   "execution_count": 6,
   "id": "0fe9f6c4-9263-4f1f-a4bb-c985ab9b27aa",
   "metadata": {
    "tags": []
   },
   "outputs": [
    {
     "name": "stdout",
     "output_type": "stream",
     "text": [
      "tensor([ 101, 1996, 3437, 2000, 1996, 7209, 3160, 1997, 2166, 1010, 1996, 5304,\n",
      "        1010, 1998, 2673, 2003,  102])\n",
      "tensor([0, 0, 0, 0, 0, 0, 0, 0, 0, 0, 0, 0, 0, 0, 0, 0, 0])\n",
      "tensor([1, 1, 1, 1, 1, 1, 1, 1, 1, 1, 1, 1, 1, 1, 1, 1, 1])\n",
      "['[CLS]', 'the', 'answer', 'to', 'the', 'ultimate', 'question', 'of', 'life', ',', 'the', 'universe', ',', 'and', 'everything', 'is', '[SEP]']\n"
     ]
    }
   ],
   "source": [
    "import torch\n",
    "prompt = \"the answer to the ultimate question of life, the universe, and everything is \"\n",
    "# print(tokenizer.tokenize(prompt))\n",
    "# print(tokenizer(prompt))\n",
    "tokens_dict = tokenizer(prompt)\n",
    "# print(tokens_dict)\n",
    "tokens = torch.tensor(tokens_dict['input_ids'])\n",
    "tokens_type = torch.tensor(tokens_dict['token_type_ids'])\n",
    "attention_mask = torch.tensor(tokens_dict['attention_mask'])\n",
    "print(tokens)\n",
    "print(tokens_type)\n",
    "print(attention_mask)\n",
    "prompt_split_as_tokens = [tokenizer.decode([token.item()]) for token in tokens]\n",
    "print(prompt_split_as_tokens)"
   ]
  },
  {
   "cell_type": "code",
   "execution_count": 7,
   "id": "6ebe8895-24d1-4d16-935c-3020b89b0395",
   "metadata": {
    "tags": []
   },
   "outputs": [
    {
     "data": {
      "text/plain": [
       "torch.Size([17, 768])"
      ]
     },
     "execution_count": 7,
     "metadata": {},
     "output_type": "execute_result"
    }
   ],
   "source": [
    "word_embedding_layer = torch.nn.Embedding(30522, 768)\n",
    "word_embedding_layer.weight.data.copy_(model[\"bert.embeddings.word_embeddings.weight\"])\n",
    "word_embeddings = word_embedding_layer(tokens).to(torch.bfloat16)\n",
    "word_embeddings.shape"
   ]
  },
  {
   "cell_type": "code",
   "execution_count": 9,
   "id": "c6ef6145-770a-49c0-9600-802dbb1be3fa",
   "metadata": {
    "tags": []
   },
   "outputs": [
    {
     "data": {
      "text/plain": [
       "tensor([ 0.0009, -0.0130, -0.0178, -0.0101, -0.0130, -0.0221, -0.0175, -0.0104,\n",
       "        -0.0150, -0.0115, -0.0130, -0.0189, -0.0115, -0.0112, -0.0154, -0.0123,\n",
       "        -0.0002], dtype=torch.bfloat16, grad_fn=<MeanBackward1>)"
      ]
     },
     "execution_count": 9,
     "metadata": {},
     "output_type": "execute_result"
    }
   ],
   "source": [
    "word_embeddings.mean(axis=1)"
   ]
  },
  {
   "cell_type": "code",
   "execution_count": 12,
   "id": "c878cfe3-0f31-4b92-b6e3-c15616fb64ab",
   "metadata": {
    "tags": []
   },
   "outputs": [
    {
     "data": {
      "text/plain": [
       "torch.Size([17, 768])"
      ]
     },
     "execution_count": 12,
     "metadata": {},
     "output_type": "execute_result"
    }
   ],
   "source": [
    "token_type_embedding_layer = torch.nn.Embedding(2, 768)\n",
    "token_type_embedding_layer.weight.data.copy_(model[\"bert.embeddings.token_type_embeddings.weight\"])\n",
    "token_type_embeddings = token_type_embedding_layer(tokens_type).to(torch.bfloat16)\n",
    "token_type_embeddings.shape"
   ]
  },
  {
   "cell_type": "code",
   "execution_count": 10,
   "id": "248380cc-d9ef-4f81-882b-7daf3863d944",
   "metadata": {
    "tags": []
   },
   "outputs": [
    {
     "data": {
      "text/plain": [
       "torch.Size([17, 768])"
      ]
     },
     "execution_count": 10,
     "metadata": {},
     "output_type": "execute_result"
    }
   ],
   "source": [
    "token_position_embedding_layer = torch.nn.Embedding(512, 768)\n",
    "token_position_embedding_layer.weight.data.copy_(model[\"bert.embeddings.position_embeddings.weight\"])\n",
    "token_position_embeddings = token_position_embedding_layer(torch.arange(17)).to(torch.bfloat16)\n",
    "token_position_embeddings.shape"
   ]
  },
  {
   "cell_type": "code",
   "execution_count": 11,
   "id": "72851fc2-325b-415f-91e3-8f0f0fd99aeb",
   "metadata": {
    "tags": []
   },
   "outputs": [
    {
     "data": {
      "text/plain": [
       "tensor([ 1.5869e-03,  4.7874e-04,  7.3910e-05,  5.7936e-05, -3.0708e-04,\n",
       "         5.4121e-05, -1.0654e-06, -9.1553e-05, -2.4885e-06, -6.9618e-05,\n",
       "        -3.5048e-05,  1.6117e-04, -1.2589e-04, -6.1989e-05,  3.5858e-04,\n",
       "        -3.5286e-04, -2.6321e-04], dtype=torch.bfloat16,\n",
       "       grad_fn=<MeanBackward1>)"
      ]
     },
     "execution_count": 11,
     "metadata": {},
     "output_type": "execute_result"
    }
   ],
   "source": [
    "token_position_embeddings.mean(axis=1)"
   ]
  },
  {
   "cell_type": "code",
   "execution_count": 13,
   "id": "bce0b56b-2f6f-4a4e-901b-25b49079b24d",
   "metadata": {
    "tags": []
   },
   "outputs": [
    {
     "data": {
      "text/plain": [
       "torch.Size([17, 768])"
      ]
     },
     "execution_count": 13,
     "metadata": {},
     "output_type": "execute_result"
    }
   ],
   "source": [
    "token_embeddings_unnormalized = word_embeddings + token_type_embeddings + token_position_embeddings\n",
    "token_embeddings_unnormalized.shape"
   ]
  },
  {
   "cell_type": "code",
   "execution_count": 14,
   "id": "caa45a6a-7590-4e13-960e-fe8d4d350af1",
   "metadata": {
    "tags": []
   },
   "outputs": [
    {
     "data": {
      "text/plain": [
       "tensor([ 0.0009, -0.0130, -0.0178, -0.0101, -0.0130, -0.0221, -0.0175, -0.0104,\n",
       "        -0.0150, -0.0115, -0.0130, -0.0189, -0.0115, -0.0112, -0.0154, -0.0123,\n",
       "        -0.0002], dtype=torch.bfloat16, grad_fn=<MeanBackward1>)"
      ]
     },
     "execution_count": 14,
     "metadata": {},
     "output_type": "execute_result"
    }
   ],
   "source": [
    "word_embeddings.mean(dim=-1)"
   ]
  },
  {
   "cell_type": "code",
   "execution_count": 16,
   "id": "e6456f2a-69ef-49e1-94eb-d8a691f1fae8",
   "metadata": {
    "tags": []
   },
   "outputs": [
    {
     "data": {
      "text/plain": [
       "tensor([ 1.5869e-03,  4.7874e-04,  7.3910e-05,  5.7936e-05, -3.0708e-04,\n",
       "         5.4121e-05, -1.0654e-06, -9.1553e-05, -2.4885e-06, -6.9618e-05,\n",
       "        -3.5048e-05,  1.6117e-04, -1.2589e-04, -6.1989e-05,  3.5858e-04,\n",
       "        -3.5286e-04, -2.6321e-04], dtype=torch.bfloat16,\n",
       "       grad_fn=<MeanBackward1>)"
      ]
     },
     "execution_count": 16,
     "metadata": {},
     "output_type": "execute_result"
    }
   ],
   "source": [
    "token_position_embeddings.mean(dim=-1)"
   ]
  },
  {
   "cell_type": "code",
   "execution_count": 11,
   "id": "f2839998-3d33-456b-a9c9-bf7d20ecda21",
   "metadata": {
    "tags": []
   },
   "outputs": [],
   "source": [
    "def layer_norm(tensor, norm_eps, norm_weights_gamma, norm_weights_beta):\n",
    "    return norm_weights_gamma * ((tensor - tensor.mean()) * torch.rsqrt(tensor.var() + norm_eps)) + norm_weights_beta"
   ]
  },
  {
   "cell_type": "code",
   "execution_count": 12,
   "id": "8da05053-378c-4f12-9b8a-d1f854836f86",
   "metadata": {
    "tags": []
   },
   "outputs": [
    {
     "data": {
      "text/plain": [
       "torch.Size([17, 768])"
      ]
     },
     "execution_count": 12,
     "metadata": {},
     "output_type": "execute_result"
    }
   ],
   "source": [
    "token_embeddings = layer_norm(token_embeddings_unnormalized, \n",
    "                              1e-12, \n",
    "                              model[\"bert.embeddings.LayerNorm.gamma\"], \n",
    "                              model[\"bert.embeddings.LayerNorm.beta\"])\n",
    "token_embeddings.shape"
   ]
  },
  {
   "cell_type": "code",
   "execution_count": 13,
   "id": "fe21697a-b9ff-48a9-a89d-379e5d589731",
   "metadata": {
    "tags": []
   },
   "outputs": [
    {
     "name": "stdout",
     "output_type": "stream",
     "text": [
      "torch.Size([12, 64, 768]) torch.Size([12, 64])\n"
     ]
    }
   ],
   "source": [
    "q_layer0_weight = model[\"bert.encoder.layer.0.attention.self.query.weight\"]\n",
    "q_layer0_bias = model[\"bert.encoder.layer.0.attention.self.query.bias\"]\n",
    "head_dim = q_layer0_weight.shape[0] // 12\n",
    "q_layer0_weight = q_layer0_weight.view(12, head_dim, 768)\n",
    "q_layer0_bias = q_layer0_bias.view(12, head_dim)\n",
    "print(q_layer0_weight.shape,q_layer0_bias.shape)"
   ]
  },
  {
   "cell_type": "code",
   "execution_count": 14,
   "id": "0b14d968-5246-4024-8df9-817d37b0a70b",
   "metadata": {
    "tags": []
   },
   "outputs": [
    {
     "name": "stdout",
     "output_type": "stream",
     "text": [
      "torch.Size([64, 768]) torch.Size([64])\n"
     ]
    }
   ],
   "source": [
    "q_layer0_weight_head0 = q_layer0_weight[0]\n",
    "q_layer0_bias_head0 = q_layer0_bias[0]\n",
    "print(q_layer0_weight_head0.shape,q_layer0_bias_head0.shape)"
   ]
  },
  {
   "cell_type": "code",
   "execution_count": 15,
   "id": "720a6bcf-789c-4d81-a3fd-8b9ac93dd4fe",
   "metadata": {
    "tags": []
   },
   "outputs": [
    {
     "data": {
      "text/plain": [
       "torch.Size([17, 64])"
      ]
     },
     "execution_count": 15,
     "metadata": {},
     "output_type": "execute_result"
    }
   ],
   "source": [
    "q_per_token = torch.matmul(token_embeddings, q_layer0_weight_head0.T) + q_layer0_bias_head0\n",
    "q_per_token.shape"
   ]
  },
  {
   "cell_type": "code",
   "execution_count": 16,
   "id": "92be3883-1344-4b22-82da-45e042d0a72d",
   "metadata": {
    "tags": []
   },
   "outputs": [
    {
     "name": "stdout",
     "output_type": "stream",
     "text": [
      "torch.Size([12, 64, 768]) torch.Size([12, 64])\n"
     ]
    }
   ],
   "source": [
    "k_layer0_weight = model[\"bert.encoder.layer.0.attention.self.key.weight\"]\n",
    "k_layer0_bias = model[\"bert.encoder.layer.0.attention.self.key.bias\"]\n",
    "head_dim = k_layer0_weight.shape[0] // 12\n",
    "k_layer0_weight = k_layer0_weight.view(12, head_dim, 768)\n",
    "k_layer0_bias = k_layer0_bias.view(12, head_dim)\n",
    "print(k_layer0_weight.shape,k_layer0_bias.shape)"
   ]
  },
  {
   "cell_type": "code",
   "execution_count": 17,
   "id": "6ec9b5d8-8797-49b5-a9bd-4986f5b9dc50",
   "metadata": {
    "tags": []
   },
   "outputs": [
    {
     "name": "stdout",
     "output_type": "stream",
     "text": [
      "torch.Size([64, 768]) torch.Size([64])\n"
     ]
    }
   ],
   "source": [
    "k_layer0_weight_head0 = k_layer0_weight[0]\n",
    "k_layer0_bias_head0 = k_layer0_bias[0]\n",
    "print(k_layer0_weight_head0.shape,k_layer0_bias_head0.shape)"
   ]
  },
  {
   "cell_type": "code",
   "execution_count": 18,
   "id": "8c9995af-0558-46b1-847a-718caa79676c",
   "metadata": {
    "tags": []
   },
   "outputs": [
    {
     "data": {
      "text/plain": [
       "torch.Size([17, 64])"
      ]
     },
     "execution_count": 18,
     "metadata": {},
     "output_type": "execute_result"
    }
   ],
   "source": [
    "k_per_token = torch.matmul(token_embeddings, k_layer0_weight_head0.T) + k_layer0_bias_head0\n",
    "k_per_token.shape"
   ]
  },
  {
   "cell_type": "code",
   "execution_count": 19,
   "id": "aa995cf1-6b26-49e0-aa62-6cb375271ecd",
   "metadata": {
    "tags": []
   },
   "outputs": [
    {
     "name": "stdout",
     "output_type": "stream",
     "text": [
      "torch.Size([12, 64, 768]) torch.Size([12, 64])\n"
     ]
    }
   ],
   "source": [
    "v_layer0_weight = model[\"bert.encoder.layer.0.attention.self.value.weight\"]\n",
    "v_layer0_bias = model[\"bert.encoder.layer.0.attention.self.value.bias\"]\n",
    "head_dim = v_layer0_weight.shape[0] // 12\n",
    "v_layer0_weight = v_layer0_weight.view(12, head_dim, 768)\n",
    "v_layer0_bias = k_layer0_bias.view(12, head_dim)\n",
    "print(v_layer0_weight.shape,v_layer0_bias.shape)"
   ]
  },
  {
   "cell_type": "code",
   "execution_count": 20,
   "id": "64c30a03-62e4-4a3b-8889-6ec815ac7b99",
   "metadata": {
    "tags": []
   },
   "outputs": [
    {
     "name": "stdout",
     "output_type": "stream",
     "text": [
      "torch.Size([64, 768]) torch.Size([64])\n"
     ]
    }
   ],
   "source": [
    "v_layer0_weight_head0 = v_layer0_weight[0]\n",
    "v_layer0_bias_head0 = v_layer0_bias[0]\n",
    "print(v_layer0_weight_head0.shape,v_layer0_bias_head0.shape)"
   ]
  },
  {
   "cell_type": "code",
   "execution_count": 21,
   "id": "337abfd5-ef2a-49fb-8f85-76403777bf45",
   "metadata": {
    "tags": []
   },
   "outputs": [
    {
     "data": {
      "text/plain": [
       "torch.Size([17, 64])"
      ]
     },
     "execution_count": 21,
     "metadata": {},
     "output_type": "execute_result"
    }
   ],
   "source": [
    "v_per_token = torch.matmul(token_embeddings, v_layer0_weight_head0.T) + v_layer0_bias_head0\n",
    "v_per_token.shape"
   ]
  },
  {
   "cell_type": "code",
   "execution_count": 22,
   "id": "abda3400-f080-4d27-aa50-29dab3be8b80",
   "metadata": {
    "tags": []
   },
   "outputs": [
    {
     "data": {
      "text/plain": [
       "torch.Size([17, 17])"
      ]
     },
     "execution_count": 22,
     "metadata": {},
     "output_type": "execute_result"
    }
   ],
   "source": [
    "qk_per_token = torch.matmul(q_per_token, k_per_token.T)/(head_dim)**0.5\n",
    "qk_per_token.shape"
   ]
  },
  {
   "cell_type": "code",
   "execution_count": 23,
   "id": "3ab9b00c-ddda-4735-9bd6-7195008ce5e0",
   "metadata": {
    "tags": []
   },
   "outputs": [
    {
     "data": {
      "image/png": "[encoded data removed]",
      "text/plain": [
       "<Figure size 640x480 with 2 Axes>"
      ]
     },
     "metadata": {},
     "output_type": "display_data"
    }
   ],
   "source": [
    "import matplotlib.pyplot as plt\n",
    "def display_qk_heatmap(qk_per_token):\n",
    "    _, ax = plt.subplots()\n",
    "    im = ax.imshow(qk_per_token.to(float).detach(), cmap='viridis')\n",
    "    ax.set_xticks(range(len(prompt_split_as_tokens)))\n",
    "    ax.set_yticks(range(len(prompt_split_as_tokens)))\n",
    "    ax.set_xticklabels(prompt_split_as_tokens)\n",
    "    ax.set_yticklabels(prompt_split_as_tokens)\n",
    "    ax.figure.colorbar(im, ax=ax)\n",
    "    \n",
    "display_qk_heatmap(qk_per_token)"
   ]
  },
  {
   "cell_type": "code",
   "execution_count": 24,
   "id": "28e64df1-597e-49c7-9471-8343ced74a79",
   "metadata": {
    "tags": []
   },
   "outputs": [
    {
     "data": {
      "text/plain": [
       "tensor([1, 1, 1, 1, 1, 1, 1, 1, 1, 1, 1, 1, 1, 1, 1, 1, 1])"
      ]
     },
     "execution_count": 24,
     "metadata": {},
     "output_type": "execute_result"
    }
   ],
   "source": [
    "attention_mask\n",
    "# have no zero to padding"
   ]
  },
  {
   "cell_type": "code",
   "execution_count": 25,
   "id": "e5cc0b24-5935-4cff-bb3f-ba6c8a757b00",
   "metadata": {
    "tags": []
   },
   "outputs": [
    {
     "data": {
      "image/png": "[encoded data removed]",
      "text/plain": [
       "<Figure size 640x480 with 2 Axes>"
      ]
     },
     "metadata": {},
     "output_type": "display_data"
    }
   ],
   "source": [
    "qk_per_token_after_softmax = torch.nn.functional.softmax(qk_per_token, dim=1)\n",
    "display_qk_heatmap(qk_per_token_after_softmax)"
   ]
  },
  {
   "cell_type": "code",
   "execution_count": 26,
   "id": "9b4fbaf0-50ea-417e-8822-bb452011523a",
   "metadata": {
    "tags": []
   },
   "outputs": [
    {
     "data": {
      "text/plain": [
       "torch.Size([17, 64])"
      ]
     },
     "execution_count": 26,
     "metadata": {},
     "output_type": "execute_result"
    }
   ],
   "source": [
    "qkv_attention = torch.matmul(qk_per_token_after_softmax, v_per_token)\n",
    "qkv_attention.shape"
   ]
  },
  {
   "cell_type": "code",
   "execution_count": 27,
   "id": "c81c6e11-51ab-4321-8a70-62d07011c7d1",
   "metadata": {
    "scrolled": true,
    "tags": []
   },
   "outputs": [
    {
     "data": {
      "text/plain": [
       "[tensor([[ 0.0073,  0.0531, -0.0432,  ...,  0.2117, -0.0900,  0.0984],\n",
       "         [ 1.7806,  0.0900, -0.2794,  ...,  0.1336, -0.1707,  0.2725],\n",
       "         [ 1.6081,  0.1278, -0.2678,  ...,  0.1634, -0.1177,  0.2535],\n",
       "         ...,\n",
       "         [ 1.4299,  0.1399, -0.2410,  ...,  0.1442, -0.0943,  0.2417],\n",
       "         [ 1.9623,  0.1022, -0.2941,  ...,  0.1248, -0.1527,  0.2808],\n",
       "         [ 1.6292,  0.1149, -0.2693,  ...,  0.1526, -0.1644,  0.2513]],\n",
       "        grad_fn=<MmBackward0>),\n",
       " tensor([[ 0.6660, -0.0443, -0.3101,  ...,  0.4328,  0.3121,  0.5318],\n",
       "         [-0.0720,  0.1240,  0.1433,  ..., -0.1158,  0.3254,  0.1322],\n",
       "         [-0.3852, -0.0540,  0.2774,  ..., -0.2206,  0.3535,  0.1496],\n",
       "         ...,\n",
       "         [-0.3392, -0.0247,  0.2304,  ..., -0.1618,  0.2878,  0.1539],\n",
       "         [-0.3488, -0.0190,  0.2981,  ..., -0.2392,  0.3317,  0.1264],\n",
       "         [-0.1319,  0.2355,  0.1304,  ..., -0.1552,  0.3497,  0.0536]],\n",
       "        grad_fn=<MmBackward0>),\n",
       " tensor([[ 0.0428, -0.2003, -0.0302,  ..., -0.1929, -0.0882,  0.0727],\n",
       "         [ 0.0429, -0.2003, -0.0303,  ..., -0.1930, -0.0882,  0.0728],\n",
       "         [ 0.0426, -0.2024, -0.0300,  ..., -0.1942, -0.0894,  0.0741],\n",
       "         ...,\n",
       "         [ 0.0428, -0.2002, -0.0303,  ..., -0.1930, -0.0881,  0.0728],\n",
       "         [ 0.0423, -0.1999, -0.0302,  ..., -0.1929, -0.0881,  0.0730],\n",
       "         [ 0.0429, -0.2002, -0.0303,  ..., -0.1929, -0.0881,  0.0727]],\n",
       "        grad_fn=<MmBackward0>),\n",
       " tensor([[-0.1907,  0.4332, -0.1773,  ..., -0.0168, -0.0075, -0.0612],\n",
       "         [-0.1968,  0.4133, -0.1744,  ..., -0.0105, -0.0125, -0.0547],\n",
       "         [-0.2785,  0.2746, -0.1840,  ...,  0.0436, -0.0473,  0.0396],\n",
       "         ...,\n",
       "         [-0.2224,  0.4429, -0.1713,  ..., -0.0075, -0.0231, -0.0650],\n",
       "         [-0.2858, -0.0286,  0.0526,  ..., -0.0703, -0.1189, -0.0571],\n",
       "         [-0.1862,  0.4430, -0.1767,  ..., -0.0174, -0.0061, -0.0621]],\n",
       "        grad_fn=<MmBackward0>),\n",
       " tensor([[-1.6981e+00, -4.5635e-01,  5.1761e-01,  ..., -2.7190e-01,\n",
       "           4.2014e-01,  2.4529e-01],\n",
       "         [-9.5497e-01, -7.0013e-02,  2.2124e-01,  ..., -1.5591e-01,\n",
       "          -1.0184e-01, -7.0383e-02],\n",
       "         [-1.0049e+00, -1.3350e-01,  2.0784e-01,  ..., -1.6987e-01,\n",
       "           3.5364e-02,  1.2496e-01],\n",
       "         ...,\n",
       "         [-9.0705e-01, -5.9256e-02,  1.9914e-01,  ..., -1.8187e-01,\n",
       "          -9.3972e-02,  1.9542e-02],\n",
       "         [-9.3247e-01, -7.4266e-02,  2.3787e-01,  ..., -1.4554e-01,\n",
       "           1.0914e-02,  2.1174e-03],\n",
       "         [-1.8259e+00, -6.7635e-02,  3.0739e-01,  ..., -2.6043e-02,\n",
       "           2.7408e-04,  1.0596e-01]], grad_fn=<MmBackward0>),\n",
       " tensor([[-0.1189, -0.0596,  0.3574,  ...,  0.5379, -0.0546, -0.0445],\n",
       "         [ 0.0546,  0.0509,  0.0132,  ...,  0.1992, -0.3448, -0.0474],\n",
       "         [-0.4633,  0.2151,  0.0400,  ..., -0.4332, -0.3873,  0.1648],\n",
       "         ...,\n",
       "         [-0.3630, -0.0381,  0.1098,  ..., -0.0796, -0.0247,  0.4731],\n",
       "         [-0.2892, -0.0554,  0.0277,  ..., -0.0836, -0.0287,  0.4041],\n",
       "         [ 0.0802,  0.0624,  0.0097,  ...,  0.2218, -0.3650, -0.0686]],\n",
       "        grad_fn=<MmBackward0>),\n",
       " tensor([[ 0.1118, -0.0938, -0.3450,  ...,  0.2075,  0.4097, -0.5821],\n",
       "         [ 0.0862, -0.0330, -0.0650,  ...,  0.0545, -0.0107, -0.1739],\n",
       "         [ 0.1166, -0.0099, -0.1258,  ...,  0.0265,  0.0434, -0.3321],\n",
       "         ...,\n",
       "         [ 0.1087, -0.0241, -0.0689,  ...,  0.0026,  0.0033, -0.2465],\n",
       "         [ 0.0930, -0.0364, -0.0459,  ...,  0.0187, -0.0325, -0.2391],\n",
       "         [ 0.0419, -0.0451, -0.1893,  ...,  0.0690,  0.0082, -0.1570]],\n",
       "        grad_fn=<MmBackward0>),\n",
       " tensor([[ 0.1663,  0.0022, -0.1167,  ...,  0.1480, -0.4836,  0.2053],\n",
       "         [ 0.1549, -0.0082, -0.1045,  ...,  0.1377, -0.4379,  0.2050],\n",
       "         [ 0.0797, -0.0451, -0.1349,  ...,  0.0831, -0.3224,  0.0711],\n",
       "         ...,\n",
       "         [ 0.1320, -0.0312, -0.1342,  ...,  0.0959, -0.4043,  0.1503],\n",
       "         [ 0.1173, -0.0209, -0.1439,  ...,  0.1037, -0.3812,  0.1302],\n",
       "         [ 0.1416, -0.0173, -0.0343,  ...,  0.1023, -0.3487,  0.1793]],\n",
       "        grad_fn=<MmBackward0>),\n",
       " tensor([[-6.7804e-01,  1.2865e+00,  1.5012e+00,  ...,  1.8280e+00,\n",
       "          -2.7809e-01,  8.0977e-02],\n",
       "         [-9.1612e-03,  1.9214e-01, -4.5819e-01,  ...,  4.3238e-02,\n",
       "          -4.3662e-03,  2.0646e-02],\n",
       "         [-1.3065e-03,  2.3292e-01, -4.8632e-01,  ...,  1.0139e-01,\n",
       "          -5.3475e-02,  1.3974e-01],\n",
       "         ...,\n",
       "         [-3.6457e-03,  2.0700e-01, -3.3819e-01,  ...,  1.5464e-01,\n",
       "           2.2913e-02,  9.5512e-02],\n",
       "         [-5.9935e-02,  2.5917e-01, -3.7161e-01,  ...,  1.1633e-01,\n",
       "          -5.6721e-02,  7.6275e-02],\n",
       "         [-4.3441e-01,  7.8009e-01,  6.8531e-01,  ...,  1.0923e+00,\n",
       "          -1.7792e-01,  7.1857e-02]], grad_fn=<MmBackward0>),\n",
       " tensor([[-0.2614, -0.3085,  0.0029,  ..., -0.0267, -0.0566, -0.4823],\n",
       "         [ 0.6719, -0.3439,  0.1785,  ..., -0.2978, -0.2312, -0.3641],\n",
       "         [ 0.6301, -0.3040,  0.1354,  ..., -0.2700, -0.2240, -0.3999],\n",
       "         ...,\n",
       "         [ 0.5518, -0.2463,  0.1537,  ..., -0.2649, -0.1823, -0.2122],\n",
       "         [ 0.7683, -0.3664,  0.2052,  ..., -0.3256, -0.2677, -0.4408],\n",
       "         [ 0.6931, -0.3564,  0.1887,  ..., -0.3054, -0.2499, -0.4161]],\n",
       "        grad_fn=<MmBackward0>),\n",
       " tensor([[-0.4147, -0.8789,  0.2929,  ..., -0.0190, -0.1229,  0.3729],\n",
       "         [-0.3438,  0.2234,  0.2369,  ..., -0.4741,  0.2117,  0.3746],\n",
       "         [-0.4152, -0.8303,  0.2769,  ..., -0.0698, -0.1178,  0.3450],\n",
       "         ...,\n",
       "         [-0.4077, -0.8745,  0.2861,  ..., -0.0133, -0.1190,  0.3612],\n",
       "         [-0.3663, -0.7947,  0.1294,  ..., -0.0547, -0.2309, -0.3495],\n",
       "         [-0.4127, -0.8771,  0.2899,  ..., -0.0179, -0.1227,  0.3651]],\n",
       "        grad_fn=<MmBackward0>),\n",
       " tensor([[ 0.0090, -0.3678, -0.0588,  ..., -0.1849,  0.0696,  0.2482],\n",
       "         [ 0.0087, -0.3661, -0.0590,  ..., -0.1840,  0.0685,  0.2476],\n",
       "         [ 0.0050, -0.3527, -0.0570,  ..., -0.1798,  0.0577,  0.2440],\n",
       "         ...,\n",
       "         [ 0.0044, -0.3615, -0.0572,  ..., -0.1802,  0.0650,  0.2416],\n",
       "         [ 0.1423, -0.2045, -0.0275,  ..., -0.1884, -0.0275,  0.1736],\n",
       "         [ 0.0074, -0.3642, -0.0585,  ..., -0.1824,  0.0672,  0.2446]],\n",
       "        grad_fn=<MmBackward0>)]"
      ]
     },
     "execution_count": 27,
     "metadata": {},
     "output_type": "execute_result"
    }
   ],
   "source": [
    "qkv_attention_store = []\n",
    "\n",
    "for head in range(12):\n",
    "    q_layer0_weight_head = q_layer0_weight[head]\n",
    "    q_layer0_bias_head = q_layer0_bias[head]\n",
    "    k_layer0_weight_head = k_layer0_weight[head]\n",
    "    k_layer0_bias_head = k_layer0_bias[head]\n",
    "    v_layer0_weight_head = v_layer0_weight[head]\n",
    "    v_layer0_bias_head = v_layer0_bias[head]\n",
    "    q_per_token = torch.matmul(token_embeddings, q_layer0_weight_head.T) + q_layer0_bias_head\n",
    "    k_per_token = torch.matmul(token_embeddings, k_layer0_weight_head.T) + k_layer0_bias_head\n",
    "    v_per_token = torch.matmul(token_embeddings, v_layer0_weight_head.T) + v_layer0_bias_head\n",
    "\n",
    "    qk_per_token = torch.matmul(q_per_token, k_per_token.T)/(64)**0.5\n",
    "    qk_per_token_after_softmax = torch.nn.functional.softmax(qk_per_token, dim=1)\n",
    "    qkv_attention = torch.matmul(qk_per_token_after_softmax, v_per_token)\n",
    "    qkv_attention_store.append(qkv_attention)\n",
    "\n",
    "qkv_attention_store"
   ]
  },
  {
   "cell_type": "code",
   "execution_count": 28,
   "id": "2f04a546-2a26-44db-937c-30c6faf4e73d",
   "metadata": {
    "tags": []
   },
   "outputs": [
    {
     "data": {
      "text/plain": [
       "torch.Size([17, 768])"
      ]
     },
     "execution_count": 28,
     "metadata": {},
     "output_type": "execute_result"
    }
   ],
   "source": [
    "stacked_qkv_attention = torch.cat(qkv_attention_store, dim=-1)\n",
    "stacked_qkv_attention.shape"
   ]
  },
  {
   "cell_type": "code",
   "execution_count": 29,
   "id": "62e8c00b-5519-4750-8e40-4ff1a64d1791",
   "metadata": {
    "tags": []
   },
   "outputs": [
    {
     "name": "stdout",
     "output_type": "stream",
     "text": [
      "torch.Size([768, 768])\n"
     ]
    }
   ],
   "source": [
    "stacked_qkv_attention_output_dense_weight = model[\"bert.encoder.layer.0.attention.output.dense.weight\"]\n",
    "stacked_qkv_attention_output_dense_bias = model[\"bert.encoder.layer.0.attention.output.dense.bias\"]\n",
    "print(stacked_qkv_attention_output_dense_weight.shape)"
   ]
  },
  {
   "cell_type": "code",
   "execution_count": 30,
   "id": "071e6b01-b8b8-4647-8ea7-c2853ac83ccf",
   "metadata": {
    "tags": []
   },
   "outputs": [
    {
     "data": {
      "text/plain": [
       "torch.Size([17, 768])"
      ]
     },
     "execution_count": 30,
     "metadata": {},
     "output_type": "execute_result"
    }
   ],
   "source": [
    "stacked_qkv_attention_output = torch.matmul(stacked_qkv_attention, \n",
    "                                            stacked_qkv_attention_output_dense_weight.T) + stacked_qkv_attention_output_dense_bias\n",
    "stacked_qkv_attention_output.shape"
   ]
  },
  {
   "cell_type": "code",
   "execution_count": 38,
   "id": "942d9393-9327-49e2-a1b9-b496e857fa47",
   "metadata": {
    "tags": []
   },
   "outputs": [
    {
     "data": {
      "text/plain": [
       "torch.Size([17, 768])"
      ]
     },
     "execution_count": 38,
     "metadata": {},
     "output_type": "execute_result"
    }
   ],
   "source": [
    "stacked_qkv_attention_output_after_LN = layer_norm(stacked_qkv_attention_output + token_embeddings, \n",
    "                              1e-12, \n",
    "                              model[\"bert.encoder.layer.0.attention.output.LayerNorm.gamma\"], \n",
    "                              model[\"bert.encoder.layer.0.attention.output.LayerNorm.beta\"])\n",
    "stacked_qkv_attention_output_after_LN.shape"
   ]
  },
  {
   "cell_type": "code",
   "execution_count": 39,
   "id": "8d2e1b1a-8c3b-4f4d-8ef5-12f669c674ad",
   "metadata": {
    "tags": []
   },
   "outputs": [
    {
     "data": {
      "text/plain": [
       "torch.Size([3072, 768])"
      ]
     },
     "execution_count": 39,
     "metadata": {},
     "output_type": "execute_result"
    }
   ],
   "source": [
    "intermediate_dense_weight = model[\"bert.encoder.layer.0.intermediate.dense.weight\"]\n",
    "intermediate_dense_bias = model[\"bert.encoder.layer.0.intermediate.dense.bias\"]\n",
    "intermediate_dense_weight.shape"
   ]
  },
  {
   "cell_type": "code",
   "execution_count": 40,
   "id": "076d55cd-9589-4b31-8bdb-30b23c8c8fb8",
   "metadata": {
    "tags": []
   },
   "outputs": [
    {
     "data": {
      "text/plain": [
       "torch.Size([17, 3072])"
      ]
     },
     "execution_count": 40,
     "metadata": {},
     "output_type": "execute_result"
    }
   ],
   "source": [
    "intermediate_dense_output = torch.matmul(stacked_qkv_attention_output_after_LN, \n",
    "                                            intermediate_dense_weight.T) + intermediate_dense_bias\n",
    "intermediate_dense_output.shape"
   ]
  },
  {
   "cell_type": "code",
   "execution_count": 41,
   "id": "7204b854-7da8-4e05-9daa-347c3b22e5f4",
   "metadata": {
    "tags": []
   },
   "outputs": [
    {
     "data": {
      "text/plain": [
       "torch.Size([768, 3072])"
      ]
     },
     "execution_count": 41,
     "metadata": {},
     "output_type": "execute_result"
    }
   ],
   "source": [
    "layer_output_dense_weight = model[\"bert.encoder.layer.0.output.dense.weight\"]\n",
    "layer_output_dense_bias = model[\"bert.encoder.layer.0.output.dense.bias\"]\n",
    "layer_output_dense_weight.shape"
   ]
  },
  {
   "cell_type": "code",
   "execution_count": 42,
   "id": "a8c44268-6d6a-46e9-b1d5-7839ed281970",
   "metadata": {
    "tags": []
   },
   "outputs": [
    {
     "data": {
      "text/plain": [
       "torch.Size([17, 768])"
      ]
     },
     "execution_count": 42,
     "metadata": {},
     "output_type": "execute_result"
    }
   ],
   "source": [
    "layer_dense_output = torch.matmul(intermediate_dense_output, \n",
    "                                  layer_output_dense_weight.T) + layer_output_dense_bias\n",
    "layer_dense_output.shape"
   ]
  },
  {
   "cell_type": "code",
   "execution_count": 43,
   "id": "eba683e0-16da-4d90-98c3-50e63c1797f9",
   "metadata": {
    "tags": []
   },
   "outputs": [
    {
     "data": {
      "text/plain": [
       "torch.Size([17, 768])"
      ]
     },
     "execution_count": 43,
     "metadata": {},
     "output_type": "execute_result"
    }
   ],
   "source": [
    "layer_dense_output_after_LN = layer_norm(stacked_qkv_attention_output_after_LN + layer_dense_output, \n",
    "                              1e-12, \n",
    "                              model[\"bert.encoder.layer.0.output.LayerNorm.gamma\"], \n",
    "                              model[\"bert.encoder.layer.0.output.LayerNorm.beta\"])\n",
    "layer_dense_output_after_LN.shape"
   ]
  },
  {
   "cell_type": "code",
   "execution_count": 46,
   "id": "fbaa77df-d196-4789-9800-cc57bd83bc2a",
   "metadata": {
    "tags": []
   },
   "outputs": [
    {
     "data": {
      "text/plain": [
       "torch.Size([17, 768])"
      ]
     },
     "execution_count": 46,
     "metadata": {},
     "output_type": "execute_result"
    }
   ],
   "source": [
    "final_embeddings = token_embeddings\n",
    "for layer in range(12):\n",
    "    qkv_attention_store = []\n",
    "\n",
    "    q_layer_weight = model[f\"bert.encoder.layer.{layer}.attention.self.query.weight\"]\n",
    "    q_layer_bias = model[f\"bert.encoder.layer.{layer}.attention.self.query.bias\"]\n",
    "    q_layer_weight = q_layer_weight.view(12, q_layer_weight.shape[0] // 12, 768)\n",
    "    q_layer_bias = q_layer_bias.view(12, 64)\n",
    "    \n",
    "    k_layer_weight = model[f\"bert.encoder.layer.{layer}.attention.self.key.weight\"]\n",
    "    k_layer_bias = model[f\"bert.encoder.layer.{layer}.attention.self.key.bias\"]\n",
    "    k_layer_weight = k_layer_weight.view(12, k_layer_weight.shape[0] // 12, 768)\n",
    "    k_layer_bias = k_layer_bias.view(12, 64)\n",
    "    \n",
    "    v_layer_weight = model[f\"bert.encoder.layer.{layer}.attention.self.value.weight\"]\n",
    "    v_layer_bias = model[f\"bert.encoder.layer.{layer}.attention.self.value.bias\"]\n",
    "    v_layer_weight = v_layer_weight.view(12, v_layer_weight.shape[0] // 12, 768)\n",
    "    v_layer_bias = v_layer_bias.view(12, 64)\n",
    "    \n",
    "    stacked_qkv_attention_output_dense_weight = model[f\"bert.encoder.layer.{layer}.attention.output.dense.weight\"]\n",
    "    stacked_qkv_attention_output_dense_bias = model[f\"bert.encoder.layer.{layer}.attention.output.dense.bias\"]\n",
    "    stacked_qkv_attention_output_LN_gamma = model[f\"bert.encoder.layer.{layer}.attention.output.LayerNorm.gamma\"]\n",
    "    stacked_qkv_attention_output_LN_beta = model[f\"bert.encoder.layer.{layer}.attention.output.LayerNorm.beta\"]\n",
    "    \n",
    "    intermediate_dense_weight = model[f\"bert.encoder.layer.{layer}.intermediate.dense.weight\"]\n",
    "    intermediate_dense_bias = model[f\"bert.encoder.layer.{layer}.intermediate.dense.bias\"]\n",
    "    \n",
    "    layer_output_dense_weight = model[f\"bert.encoder.layer.{layer}.output.dense.weight\"]\n",
    "    layer_output_dense_bias = model[f\"bert.encoder.layer.{layer}.output.dense.bias\"]\n",
    "    layer_dense_output_after_LN_gamma = model[f\"bert.encoder.layer.{layer}.output.LayerNorm.gamma\"]\n",
    "    layer_dense_output_after_LN_beta = model[f\"bert.encoder.layer.{layer}.output.LayerNorm.beta\"]\n",
    "    \n",
    "    for head in range(12):\n",
    "        q_layer_weight_head = q_layer_weight[head]\n",
    "        q_layer_bias_head = q_layer_bias[head]\n",
    "        k_layer_weight_head = k_layer_weight[head]\n",
    "        k_layer_bias_head = k_layer_bias[head]\n",
    "        v_layer_weight_head = v_layer_weight[head]\n",
    "        v_layer_bias_head = v_layer_bias[head]\n",
    "        q_per_token = torch.matmul(final_embeddings, q_layer_weight_head.T) + q_layer_bias_head\n",
    "        k_per_token = torch.matmul(final_embeddings, k_layer_weight_head.T) + k_layer_bias_head\n",
    "        v_per_token = torch.matmul(final_embeddings, v_layer_weight_head.T) + v_layer_bias_head\n",
    "\n",
    "        qk_per_token = torch.matmul(q_per_token, k_per_token.T)/(64)**0.5\n",
    "        qk_per_token_after_softmax = torch.nn.functional.softmax(qk_per_token, dim=1)\n",
    "        qkv_attention = torch.matmul(qk_per_token_after_softmax, v_per_token)\n",
    "        qkv_attention_store.append(qkv_attention)\n",
    "\n",
    "    stacked_qkv_attention = torch.cat(qkv_attention_store, dim=-1)\n",
    "    stacked_qkv_attention_output = torch.matmul(stacked_qkv_attention, \n",
    "                                            stacked_qkv_attention_output_dense_weight.T) + stacked_qkv_attention_output_dense_bias\n",
    "    stacked_qkv_attention_output_after_LN = layer_norm(stacked_qkv_attention_output + final_embeddings, \n",
    "                              1e-12, \n",
    "                              stacked_qkv_attention_output_LN_gamma, \n",
    "                              stacked_qkv_attention_output_LN_beta)\n",
    "    intermediate_dense_output = torch.matmul(stacked_qkv_attention_output_after_LN, \n",
    "                                            intermediate_dense_weight.T) + intermediate_dense_bias\n",
    "    layer_dense_output = torch.matmul(intermediate_dense_output, \n",
    "                                  layer_output_dense_weight.T) + layer_output_dense_bias\n",
    "    layer_dense_output_after_LN = layer_norm(stacked_qkv_attention_output_after_LN + layer_dense_output, \n",
    "                              1e-12, \n",
    "                              layer_dense_output_after_LN_gamma, \n",
    "                              layer_dense_output_after_LN_beta)\n",
    "    final_embeddings = layer_dense_output_after_LN\n",
    "    \n",
    "final_embeddings.shape"
   ]
  },
  {
   "cell_type": "code",
   "execution_count": 47,
   "id": "0d2d1e34-c278-4555-938a-b719d6f8c928",
   "metadata": {
    "tags": []
   },
   "outputs": [
    {
     "data": {
      "text/plain": [
       "torch.Size([768, 768])"
      ]
     },
     "execution_count": 47,
     "metadata": {},
     "output_type": "execute_result"
    }
   ],
   "source": [
    "bert_pooler_weight = model[\"bert.pooler.dense.weight\"]\n",
    "bert_pooler_bias = model[\"bert.pooler.dense.bias\"]\n",
    "bert_pooler_weight.shape"
   ]
  },
  {
   "cell_type": "code",
   "execution_count": 52,
   "id": "c4c95526-ea44-4893-9020-80911f5d04c7",
   "metadata": {
    "tags": []
   },
   "outputs": [
    {
     "data": {
      "text/plain": [
       "torch.Size([17, 768])"
      ]
     },
     "execution_count": 52,
     "metadata": {},
     "output_type": "execute_result"
    }
   ],
   "source": [
    "final_embeddings_after_pooler = torch.matmul(final_embeddings, bert_pooler_weight.T) + bert_pooler_bias\n",
    "final_embeddings_after_pooler.shape"
   ]
  },
  {
   "cell_type": "code",
   "execution_count": 51,
   "id": "867eeeb4-15ba-4099-bf7c-044130b9f7c9",
   "metadata": {
    "tags": []
   },
   "outputs": [
    {
     "name": "stdout",
     "output_type": "stream",
     "text": [
      "torch.Size([768, 768]) torch.Size([768])\n"
     ]
    }
   ],
   "source": [
    "transform_dense_weight = model[\"cls.predictions.transform.dense.weight\"]\n",
    "transform_dense_bias = model[\"cls.predictions.transform.dense.bias\"]\n",
    "transform_LN_gamma = model[\"cls.predictions.transform.LayerNorm.gamma\"]\n",
    "transform_LN_beta = model[\"cls.predictions.transform.LayerNorm.beta\"]\n",
    "print(transform_dense_weight.shape, transform_LN_gamma.shape)"
   ]
  },
  {
   "cell_type": "code",
   "execution_count": 53,
   "id": "92848cb9-f1a9-42f5-a79b-b8c5337f14b7",
   "metadata": {
    "tags": []
   },
   "outputs": [
    {
     "data": {
      "text/plain": [
       "torch.Size([17, 768])"
      ]
     },
     "execution_count": 53,
     "metadata": {},
     "output_type": "execute_result"
    }
   ],
   "source": [
    "final_embedding_after_pooler_dense = torch.matmul(final_embeddings_after_pooler, \n",
    "                                                  transform_dense_weight.T) + transform_dense_bias\n",
    "final_embedding_after_pooler_dense.shape"
   ]
  },
  {
   "cell_type": "code",
   "execution_count": 54,
   "id": "69d7b818-578a-4d16-8ce3-38d14e2a5491",
   "metadata": {
    "tags": []
   },
   "outputs": [
    {
     "data": {
      "text/plain": [
       "torch.Size([17, 768])"
      ]
     },
     "execution_count": 54,
     "metadata": {},
     "output_type": "execute_result"
    }
   ],
   "source": [
    "final_embedding_after_pooler_dense_LN = layer_norm(final_embedding_after_pooler_dense + final_embeddings,\n",
    "                                                   1e-12, \n",
    "                                                   transform_LN_gamma,\n",
    "                                                   transform_LN_beta)\n",
    "final_embedding_after_pooler_dense_LN.shape"
   ]
  },
  {
   "cell_type": "code",
   "execution_count": 56,
   "id": "c952ecd7-9ff7-4514-8823-13902d972fec",
   "metadata": {
    "tags": []
   },
   "outputs": [
    {
     "data": {
      "text/plain": [
       "torch.Size([13056])"
      ]
     },
     "execution_count": 56,
     "metadata": {},
     "output_type": "execute_result"
    }
   ],
   "source": [
    "logits = final_embedding_after_pooler_dense_LN.reshape(-1)\n",
    "logits.shape"
   ]
  },
  {
   "cell_type": "code",
   "execution_count": 31,
   "id": "33236f3d-3484-419f-9ead-3b3f9cf90288",
   "metadata": {
    "scrolled": true,
    "tags": []
   },
   "outputs": [
    {
     "name": "stdout",
     "output_type": "stream",
     "text": [
      "[\n",
      "    \"bert.embeddings.LayerNorm.beta\",\n",
      "    \"bert.embeddings.LayerNorm.gamma\",\n",
      "    \"bert.embeddings.position_embeddings.weight\",\n",
      "    \"bert.embeddings.token_type_embeddings.weight\",\n",
      "    \"bert.embeddings.word_embeddings.weight\",\n",
      "    \"bert.encoder.layer.0.attention.output.LayerNorm.beta\",\n",
      "    \"bert.encoder.layer.0.attention.output.LayerNorm.gamma\",\n",
      "    \"bert.encoder.layer.0.attention.output.dense.bias\",\n",
      "    \"bert.encoder.layer.0.attention.output.dense.weight\",\n",
      "    \"bert.encoder.layer.0.attention.self.key.bias\",\n",
      "    \"bert.encoder.layer.0.attention.self.key.weight\",\n",
      "    \"bert.encoder.layer.0.attention.self.query.bias\",\n",
      "    \"bert.encoder.layer.0.attention.self.query.weight\",\n",
      "    \"bert.encoder.layer.0.attention.self.value.bias\",\n",
      "    \"bert.encoder.layer.0.attention.self.value.weight\",\n",
      "    \"bert.encoder.layer.0.intermediate.dense.bias\",\n",
      "    \"bert.encoder.layer.0.intermediate.dense.weight\",\n",
      "    \"bert.encoder.layer.0.output.LayerNorm.beta\",\n",
      "    \"bert.encoder.layer.0.output.LayerNorm.gamma\",\n",
      "    \"bert.encoder.layer.0.output.dense.bias\",\n",
      "    \"bert.encoder.layer.0.output.dense.weight\",\n",
      "    \"bert.encoder.layer.1.attention.output.LayerNorm.beta\",\n",
      "    \"bert.encoder.layer.1.attention.output.LayerNorm.gamma\",\n",
      "    \"bert.encoder.layer.1.attention.output.dense.bias\",\n",
      "    \"bert.encoder.layer.1.attention.output.dense.weight\",\n",
      "    \"bert.encoder.layer.1.attention.self.key.bias\",\n",
      "    \"bert.encoder.layer.1.attention.self.key.weight\",\n",
      "    \"bert.encoder.layer.1.attention.self.query.bias\",\n",
      "    \"bert.encoder.layer.1.attention.self.query.weight\",\n",
      "    \"bert.encoder.layer.1.attention.self.value.bias\",\n",
      "    \"bert.encoder.layer.1.attention.self.value.weight\",\n",
      "    \"bert.encoder.layer.1.intermediate.dense.bias\",\n",
      "    \"bert.encoder.layer.1.intermediate.dense.weight\",\n",
      "    \"bert.encoder.layer.1.output.LayerNorm.beta\",\n",
      "    \"bert.encoder.layer.1.output.LayerNorm.gamma\",\n",
      "    \"bert.encoder.layer.1.output.dense.bias\",\n",
      "    \"bert.encoder.layer.1.output.dense.weight\",\n",
      "    \"bert.encoder.layer.10.attention.output.LayerNorm.beta\",\n",
      "    \"bert.encoder.layer.10.attention.output.LayerNorm.gamma\",\n",
      "    \"bert.encoder.layer.10.attention.output.dense.bias\",\n",
      "    \"bert.encoder.layer.10.attention.output.dense.weight\",\n",
      "    \"bert.encoder.layer.10.attention.self.key.bias\",\n",
      "    \"bert.encoder.layer.10.attention.self.key.weight\",\n",
      "    \"bert.encoder.layer.10.attention.self.query.bias\",\n",
      "    \"bert.encoder.layer.10.attention.self.query.weight\",\n",
      "    \"bert.encoder.layer.10.attention.self.value.bias\",\n",
      "    \"bert.encoder.layer.10.attention.self.value.weight\",\n",
      "    \"bert.encoder.layer.10.intermediate.dense.bias\",\n",
      "    \"bert.encoder.layer.10.intermediate.dense.weight\",\n",
      "    \"bert.encoder.layer.10.output.LayerNorm.beta\",\n",
      "    \"bert.encoder.layer.10.output.LayerNorm.gamma\",\n",
      "    \"bert.encoder.layer.10.output.dense.bias\",\n",
      "    \"bert.encoder.layer.10.output.dense.weight\",\n",
      "    \"bert.encoder.layer.11.attention.output.LayerNorm.beta\",\n",
      "    \"bert.encoder.layer.11.attention.output.LayerNorm.gamma\",\n",
      "    \"bert.encoder.layer.11.attention.output.dense.bias\",\n",
      "    \"bert.encoder.layer.11.attention.output.dense.weight\",\n",
      "    \"bert.encoder.layer.11.attention.self.key.bias\",\n",
      "    \"bert.encoder.layer.11.attention.self.key.weight\",\n",
      "    \"bert.encoder.layer.11.attention.self.query.bias\",\n",
      "    \"bert.encoder.layer.11.attention.self.query.weight\",\n",
      "    \"bert.encoder.layer.11.attention.self.value.bias\",\n",
      "    \"bert.encoder.layer.11.attention.self.value.weight\",\n",
      "    \"bert.encoder.layer.11.intermediate.dense.bias\",\n",
      "    \"bert.encoder.layer.11.intermediate.dense.weight\",\n",
      "    \"bert.encoder.layer.11.output.LayerNorm.beta\",\n",
      "    \"bert.encoder.layer.11.output.LayerNorm.gamma\",\n",
      "    \"bert.encoder.layer.11.output.dense.bias\",\n",
      "    \"bert.encoder.layer.11.output.dense.weight\",\n",
      "    \"bert.encoder.layer.2.attention.output.LayerNorm.beta\",\n",
      "    \"bert.encoder.layer.2.attention.output.LayerNorm.gamma\",\n",
      "    \"bert.encoder.layer.2.attention.output.dense.bias\",\n",
      "    \"bert.encoder.layer.2.attention.output.dense.weight\",\n",
      "    \"bert.encoder.layer.2.attention.self.key.bias\",\n",
      "    \"bert.encoder.layer.2.attention.self.key.weight\",\n",
      "    \"bert.encoder.layer.2.attention.self.query.bias\",\n",
      "    \"bert.encoder.layer.2.attention.self.query.weight\",\n",
      "    \"bert.encoder.layer.2.attention.self.value.bias\",\n",
      "    \"bert.encoder.layer.2.attention.self.value.weight\",\n",
      "    \"bert.encoder.layer.2.intermediate.dense.bias\",\n",
      "    \"bert.encoder.layer.2.intermediate.dense.weight\",\n",
      "    \"bert.encoder.layer.2.output.LayerNorm.beta\",\n",
      "    \"bert.encoder.layer.2.output.LayerNorm.gamma\",\n",
      "    \"bert.encoder.layer.2.output.dense.bias\",\n",
      "    \"bert.encoder.layer.2.output.dense.weight\",\n",
      "    \"bert.encoder.layer.3.attention.output.LayerNorm.beta\",\n",
      "    \"bert.encoder.layer.3.attention.output.LayerNorm.gamma\",\n",
      "    \"bert.encoder.layer.3.attention.output.dense.bias\",\n",
      "    \"bert.encoder.layer.3.attention.output.dense.weight\",\n",
      "    \"bert.encoder.layer.3.attention.self.key.bias\",\n",
      "    \"bert.encoder.layer.3.attention.self.key.weight\",\n",
      "    \"bert.encoder.layer.3.attention.self.query.bias\",\n",
      "    \"bert.encoder.layer.3.attention.self.query.weight\",\n",
      "    \"bert.encoder.layer.3.attention.self.value.bias\",\n",
      "    \"bert.encoder.layer.3.attention.self.value.weight\",\n",
      "    \"bert.encoder.layer.3.intermediate.dense.bias\",\n",
      "    \"bert.encoder.layer.3.intermediate.dense.weight\",\n",
      "    \"bert.encoder.layer.3.output.LayerNorm.beta\",\n",
      "    \"bert.encoder.layer.3.output.LayerNorm.gamma\",\n",
      "    \"bert.encoder.layer.3.output.dense.bias\",\n",
      "    \"bert.encoder.layer.3.output.dense.weight\",\n",
      "    \"bert.encoder.layer.4.attention.output.LayerNorm.beta\",\n",
      "    \"bert.encoder.layer.4.attention.output.LayerNorm.gamma\",\n",
      "    \"bert.encoder.layer.4.attention.output.dense.bias\",\n",
      "    \"bert.encoder.layer.4.attention.output.dense.weight\",\n",
      "    \"bert.encoder.layer.4.attention.self.key.bias\",\n",
      "    \"bert.encoder.layer.4.attention.self.key.weight\",\n",
      "    \"bert.encoder.layer.4.attention.self.query.bias\",\n",
      "    \"bert.encoder.layer.4.attention.self.query.weight\",\n",
      "    \"bert.encoder.layer.4.attention.self.value.bias\",\n",
      "    \"bert.encoder.layer.4.attention.self.value.weight\",\n",
      "    \"bert.encoder.layer.4.intermediate.dense.bias\",\n",
      "    \"bert.encoder.layer.4.intermediate.dense.weight\",\n",
      "    \"bert.encoder.layer.4.output.LayerNorm.beta\",\n",
      "    \"bert.encoder.layer.4.output.LayerNorm.gamma\",\n",
      "    \"bert.encoder.layer.4.output.dense.bias\",\n",
      "    \"bert.encoder.layer.4.output.dense.weight\",\n",
      "    \"bert.encoder.layer.5.attention.output.LayerNorm.beta\",\n",
      "    \"bert.encoder.layer.5.attention.output.LayerNorm.gamma\",\n",
      "    \"bert.encoder.layer.5.attention.output.dense.bias\",\n",
      "    \"bert.encoder.layer.5.attention.output.dense.weight\",\n",
      "    \"bert.encoder.layer.5.attention.self.key.bias\",\n",
      "    \"bert.encoder.layer.5.attention.self.key.weight\",\n",
      "    \"bert.encoder.layer.5.attention.self.query.bias\",\n",
      "    \"bert.encoder.layer.5.attention.self.query.weight\",\n",
      "    \"bert.encoder.layer.5.attention.self.value.bias\",\n",
      "    \"bert.encoder.layer.5.attention.self.value.weight\",\n",
      "    \"bert.encoder.layer.5.intermediate.dense.bias\",\n",
      "    \"bert.encoder.layer.5.intermediate.dense.weight\",\n",
      "    \"bert.encoder.layer.5.output.LayerNorm.beta\",\n",
      "    \"bert.encoder.layer.5.output.LayerNorm.gamma\",\n",
      "    \"bert.encoder.layer.5.output.dense.bias\",\n",
      "    \"bert.encoder.layer.5.output.dense.weight\",\n",
      "    \"bert.encoder.layer.6.attention.output.LayerNorm.beta\",\n",
      "    \"bert.encoder.layer.6.attention.output.LayerNorm.gamma\",\n",
      "    \"bert.encoder.layer.6.attention.output.dense.bias\",\n",
      "    \"bert.encoder.layer.6.attention.output.dense.weight\",\n",
      "    \"bert.encoder.layer.6.attention.self.key.bias\",\n",
      "    \"bert.encoder.layer.6.attention.self.key.weight\",\n",
      "    \"bert.encoder.layer.6.attention.self.query.bias\",\n",
      "    \"bert.encoder.layer.6.attention.self.query.weight\",\n",
      "    \"bert.encoder.layer.6.attention.self.value.bias\",\n",
      "    \"bert.encoder.layer.6.attention.self.value.weight\",\n",
      "    \"bert.encoder.layer.6.intermediate.dense.bias\",\n",
      "    \"bert.encoder.layer.6.intermediate.dense.weight\",\n",
      "    \"bert.encoder.layer.6.output.LayerNorm.beta\",\n",
      "    \"bert.encoder.layer.6.output.LayerNorm.gamma\",\n",
      "    \"bert.encoder.layer.6.output.dense.bias\",\n",
      "    \"bert.encoder.layer.6.output.dense.weight\",\n",
      "    \"bert.encoder.layer.7.attention.output.LayerNorm.beta\",\n",
      "    \"bert.encoder.layer.7.attention.output.LayerNorm.gamma\",\n",
      "    \"bert.encoder.layer.7.attention.output.dense.bias\",\n",
      "    \"bert.encoder.layer.7.attention.output.dense.weight\",\n",
      "    \"bert.encoder.layer.7.attention.self.key.bias\",\n",
      "    \"bert.encoder.layer.7.attention.self.key.weight\",\n",
      "    \"bert.encoder.layer.7.attention.self.query.bias\",\n",
      "    \"bert.encoder.layer.7.attention.self.query.weight\",\n",
      "    \"bert.encoder.layer.7.attention.self.value.bias\",\n",
      "    \"bert.encoder.layer.7.attention.self.value.weight\",\n",
      "    \"bert.encoder.layer.7.intermediate.dense.bias\",\n",
      "    \"bert.encoder.layer.7.intermediate.dense.weight\",\n",
      "    \"bert.encoder.layer.7.output.LayerNorm.beta\",\n",
      "    \"bert.encoder.layer.7.output.LayerNorm.gamma\",\n",
      "    \"bert.encoder.layer.7.output.dense.bias\",\n",
      "    \"bert.encoder.layer.7.output.dense.weight\",\n",
      "    \"bert.encoder.layer.8.attention.output.LayerNorm.beta\",\n",
      "    \"bert.encoder.layer.8.attention.output.LayerNorm.gamma\",\n",
      "    \"bert.encoder.layer.8.attention.output.dense.bias\",\n",
      "    \"bert.encoder.layer.8.attention.output.dense.weight\",\n",
      "    \"bert.encoder.layer.8.attention.self.key.bias\",\n",
      "    \"bert.encoder.layer.8.attention.self.key.weight\",\n",
      "    \"bert.encoder.layer.8.attention.self.query.bias\",\n",
      "    \"bert.encoder.layer.8.attention.self.query.weight\",\n",
      "    \"bert.encoder.layer.8.attention.self.value.bias\",\n",
      "    \"bert.encoder.layer.8.attention.self.value.weight\",\n",
      "    \"bert.encoder.layer.8.intermediate.dense.bias\",\n",
      "    \"bert.encoder.layer.8.intermediate.dense.weight\",\n",
      "    \"bert.encoder.layer.8.output.LayerNorm.beta\",\n",
      "    \"bert.encoder.layer.8.output.LayerNorm.gamma\",\n",
      "    \"bert.encoder.layer.8.output.dense.bias\",\n",
      "    \"bert.encoder.layer.8.output.dense.weight\",\n",
      "    \"bert.encoder.layer.9.attention.output.LayerNorm.beta\",\n",
      "    \"bert.encoder.layer.9.attention.output.LayerNorm.gamma\",\n",
      "    \"bert.encoder.layer.9.attention.output.dense.bias\",\n",
      "    \"bert.encoder.layer.9.attention.output.dense.weight\",\n",
      "    \"bert.encoder.layer.9.attention.self.key.bias\",\n",
      "    \"bert.encoder.layer.9.attention.self.key.weight\",\n",
      "    \"bert.encoder.layer.9.attention.self.query.bias\",\n",
      "    \"bert.encoder.layer.9.attention.self.query.weight\",\n",
      "    \"bert.encoder.layer.9.attention.self.value.bias\",\n",
      "    \"bert.encoder.layer.9.attention.self.value.weight\",\n",
      "    \"bert.encoder.layer.9.intermediate.dense.bias\",\n",
      "    \"bert.encoder.layer.9.intermediate.dense.weight\",\n",
      "    \"bert.encoder.layer.9.output.LayerNorm.beta\",\n",
      "    \"bert.encoder.layer.9.output.LayerNorm.gamma\",\n",
      "    \"bert.encoder.layer.9.output.dense.bias\",\n",
      "    \"bert.encoder.layer.9.output.dense.weight\",\n",
      "    \"bert.pooler.dense.bias\",\n",
      "    \"bert.pooler.dense.weight\",\n",
      "    \"cls.predictions.bias\",\n",
      "    \"cls.predictions.transform.LayerNorm.beta\",\n",
      "    \"cls.predictions.transform.LayerNorm.gamma\",\n",
      "    \"cls.predictions.transform.dense.bias\",\n",
      "    \"cls.predictions.transform.dense.weight\",\n",
      "    \"cls.seq_relationship.bias\",\n",
      "    \"cls.seq_relationship.weight\"\n",
      "]\n"
     ]
    }
   ],
   "source": [
    "print(json.dumps(list(model.keys())[:], indent=4))"
   ]
  },
  {
   "cell_type": "code",
   "execution_count": null,
   "id": "b33580c0-bdea-4e89-abc7-b20a95d29c0e",
   "metadata": {},
   "outputs": [],
   "source": []
  }
 ],
 "metadata": {
  "kernelspec": {
   "display_name": "Python 3 (ipykernel)",
   "language": "python",
   "name": "python3"
  },
  "language_info": {
   "codemirror_mode": {
    "name": "ipython",
    "version": 3
   },
   "file_extension": ".py",
   "mimetype": "text/x-python",
   "name": "python",
   "nbconvert_exporter": "python",
   "pygments_lexer": "ipython3",
   "version": "3.8.10"
  }
 },
 "nbformat": 4,
 "nbformat_minor": 5
}
