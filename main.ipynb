{
 "cells": [
  {
   "cell_type": "code",
   "execution_count": null,
   "id": "6a0a5baa-9baa-42e9-8686-5d13b9935b82",
   "metadata": {},
   "outputs": [],
   "source": [
    "# 运行本ipynb文件前应利用魔搭社区或使用git获得llama3的预训练模型权重、分词器等相关信息\n",
    "# 或自行修改加载客制化模型\n",
    "# 另本教程参考https://github.com/naklecha/llama3-from-scratch.git\n",
    "# git clone https://www.modelscope.cn/pooka74/LLaMA3-8B-Chat-Chinese.git llama3中文版预训练参数下载"
   ]
  },
  {
   "cell_type": "code",
   "execution_count": 1,
   "id": "9f70980d-eb80-47a4-a428-2195e2262721",
   "metadata": {
    "scrolled": true,
    "tags": []
   },
   "outputs": [
    {
     "name": "stderr",
     "output_type": "stream",
     "text": [
      "Special tokens have been added in the vocabulary, make sure the associated word embeddings are fine-tuned or trained.\n"
     ]
    },
    {
     "data": {
      "text/plain": [
       "PreTrainedTokenizerFast(name_or_path='../Llama3-8B-Chinese-Chat', vocab_size=128000, model_max_length=1000000000000000019884624838656, is_fast=True, padding_side='right', truncation_side='right', special_tokens={'bos_token': '<|begin_of_text|>', 'eos_token': '<|eot_id|>', 'pad_token': '<|eot_id|>'}, clean_up_tokenization_spaces=True),  added_tokens_decoder={\n",
       "\t128000: AddedToken(\"<|begin_of_text|>\", rstrip=False, lstrip=False, single_word=False, normalized=False, special=True),\n",
       "\t128001: AddedToken(\"<|end_of_text|>\", rstrip=False, lstrip=False, single_word=False, normalized=False, special=True),\n",
       "\t128002: AddedToken(\"<|reserved_special_token_0|>\", rstrip=False, lstrip=False, single_word=False, normalized=False, special=True),\n",
       "\t128003: AddedToken(\"<|reserved_special_token_1|>\", rstrip=False, lstrip=False, single_word=False, normalized=False, special=True),\n",
       "\t128004: AddedToken(\"<|reserved_special_token_2|>\", rstrip=False, lstrip=False, single_word=False, normalized=False, special=True),\n",
       "\t128005: AddedToken(\"<|reserved_special_token_3|>\", rstrip=False, lstrip=False, single_word=False, normalized=False, special=True),\n",
       "\t128006: AddedToken(\"<|start_header_id|>\", rstrip=False, lstrip=False, single_word=False, normalized=False, special=True),\n",
       "\t128007: AddedToken(\"<|end_header_id|>\", rstrip=False, lstrip=False, single_word=False, normalized=False, special=True),\n",
       "\t128008: AddedToken(\"<|reserved_special_token_4|>\", rstrip=False, lstrip=False, single_word=False, normalized=False, special=True),\n",
       "\t128009: AddedToken(\"<|eot_id|>\", rstrip=False, lstrip=False, single_word=False, normalized=False, special=True),\n",
       "\t128010: AddedToken(\"<|reserved_special_token_5|>\", rstrip=False, lstrip=False, single_word=False, normalized=False, special=True),\n",
       "\t128011: AddedToken(\"<|reserved_special_token_6|>\", rstrip=False, lstrip=False, single_word=False, normalized=False, special=True),\n",
       "\t128012: AddedToken(\"<|reserved_special_token_7|>\", rstrip=False, lstrip=False, single_word=False, normalized=False, special=True),\n",
       "\t128013: AddedToken(\"<|reserved_special_token_8|>\", rstrip=False, lstrip=False, single_word=False, normalized=False, special=True),\n",
       "\t128014: AddedToken(\"<|reserved_special_token_9|>\", rstrip=False, lstrip=False, single_word=False, normalized=False, special=True),\n",
       "\t128015: AddedToken(\"<|reserved_special_token_10|>\", rstrip=False, lstrip=False, single_word=False, normalized=False, special=True),\n",
       "\t128016: AddedToken(\"<|reserved_special_token_11|>\", rstrip=False, lstrip=False, single_word=False, normalized=False, special=True),\n",
       "\t128017: AddedToken(\"<|reserved_special_token_12|>\", rstrip=False, lstrip=False, single_word=False, normalized=False, special=True),\n",
       "\t128018: AddedToken(\"<|reserved_special_token_13|>\", rstrip=False, lstrip=False, single_word=False, normalized=False, special=True),\n",
       "\t128019: AddedToken(\"<|reserved_special_token_14|>\", rstrip=False, lstrip=False, single_word=False, normalized=False, special=True),\n",
       "\t128020: AddedToken(\"<|reserved_special_token_15|>\", rstrip=False, lstrip=False, single_word=False, normalized=False, special=True),\n",
       "\t128021: AddedToken(\"<|reserved_special_token_16|>\", rstrip=False, lstrip=False, single_word=False, normalized=False, special=True),\n",
       "\t128022: AddedToken(\"<|reserved_special_token_17|>\", rstrip=False, lstrip=False, single_word=False, normalized=False, special=True),\n",
       "\t128023: AddedToken(\"<|reserved_special_token_18|>\", rstrip=False, lstrip=False, single_word=False, normalized=False, special=True),\n",
       "\t128024: AddedToken(\"<|reserved_special_token_19|>\", rstrip=False, lstrip=False, single_word=False, normalized=False, special=True),\n",
       "\t128025: AddedToken(\"<|reserved_special_token_20|>\", rstrip=False, lstrip=False, single_word=False, normalized=False, special=True),\n",
       "\t128026: AddedToken(\"<|reserved_special_token_21|>\", rstrip=False, lstrip=False, single_word=False, normalized=False, special=True),\n",
       "\t128027: AddedToken(\"<|reserved_special_token_22|>\", rstrip=False, lstrip=False, single_word=False, normalized=False, special=True),\n",
       "\t128028: AddedToken(\"<|reserved_special_token_23|>\", rstrip=False, lstrip=False, single_word=False, normalized=False, special=True),\n",
       "\t128029: AddedToken(\"<|reserved_special_token_24|>\", rstrip=False, lstrip=False, single_word=False, normalized=False, special=True),\n",
       "\t128030: AddedToken(\"<|reserved_special_token_25|>\", rstrip=False, lstrip=False, single_word=False, normalized=False, special=True),\n",
       "\t128031: AddedToken(\"<|reserved_special_token_26|>\", rstrip=False, lstrip=False, single_word=False, normalized=False, special=True),\n",
       "\t128032: AddedToken(\"<|reserved_special_token_27|>\", rstrip=False, lstrip=False, single_word=False, normalized=False, special=True),\n",
       "\t128033: AddedToken(\"<|reserved_special_token_28|>\", rstrip=False, lstrip=False, single_word=False, normalized=False, special=True),\n",
       "\t128034: AddedToken(\"<|reserved_special_token_29|>\", rstrip=False, lstrip=False, single_word=False, normalized=False, special=True),\n",
       "\t128035: AddedToken(\"<|reserved_special_token_30|>\", rstrip=False, lstrip=False, single_word=False, normalized=False, special=True),\n",
       "\t128036: AddedToken(\"<|reserved_special_token_31|>\", rstrip=False, lstrip=False, single_word=False, normalized=False, special=True),\n",
       "\t128037: AddedToken(\"<|reserved_special_token_32|>\", rstrip=False, lstrip=False, single_word=False, normalized=False, special=True),\n",
       "\t128038: AddedToken(\"<|reserved_special_token_33|>\", rstrip=False, lstrip=False, single_word=False, normalized=False, special=True),\n",
       "\t128039: AddedToken(\"<|reserved_special_token_34|>\", rstrip=False, lstrip=False, single_word=False, normalized=False, special=True),\n",
       "\t128040: AddedToken(\"<|reserved_special_token_35|>\", rstrip=False, lstrip=False, single_word=False, normalized=False, special=True),\n",
       "\t128041: AddedToken(\"<|reserved_special_token_36|>\", rstrip=False, lstrip=False, single_word=False, normalized=False, special=True),\n",
       "\t128042: AddedToken(\"<|reserved_special_token_37|>\", rstrip=False, lstrip=False, single_word=False, normalized=False, special=True),\n",
       "\t128043: AddedToken(\"<|reserved_special_token_38|>\", rstrip=False, lstrip=False, single_word=False, normalized=False, special=True),\n",
       "\t128044: AddedToken(\"<|reserved_special_token_39|>\", rstrip=False, lstrip=False, single_word=False, normalized=False, special=True),\n",
       "\t128045: AddedToken(\"<|reserved_special_token_40|>\", rstrip=False, lstrip=False, single_word=False, normalized=False, special=True),\n",
       "\t128046: AddedToken(\"<|reserved_special_token_41|>\", rstrip=False, lstrip=False, single_word=False, normalized=False, special=True),\n",
       "\t128047: AddedToken(\"<|reserved_special_token_42|>\", rstrip=False, lstrip=False, single_word=False, normalized=False, special=True),\n",
       "\t128048: AddedToken(\"<|reserved_special_token_43|>\", rstrip=False, lstrip=False, single_word=False, normalized=False, special=True),\n",
       "\t128049: AddedToken(\"<|reserved_special_token_44|>\", rstrip=False, lstrip=False, single_word=False, normalized=False, special=True),\n",
       "\t128050: AddedToken(\"<|reserved_special_token_45|>\", rstrip=False, lstrip=False, single_word=False, normalized=False, special=True),\n",
       "\t128051: AddedToken(\"<|reserved_special_token_46|>\", rstrip=False, lstrip=False, single_word=False, normalized=False, special=True),\n",
       "\t128052: AddedToken(\"<|reserved_special_token_47|>\", rstrip=False, lstrip=False, single_word=False, normalized=False, special=True),\n",
       "\t128053: AddedToken(\"<|reserved_special_token_48|>\", rstrip=False, lstrip=False, single_word=False, normalized=False, special=True),\n",
       "\t128054: AddedToken(\"<|reserved_special_token_49|>\", rstrip=False, lstrip=False, single_word=False, normalized=False, special=True),\n",
       "\t128055: AddedToken(\"<|reserved_special_token_50|>\", rstrip=False, lstrip=False, single_word=False, normalized=False, special=True),\n",
       "\t128056: AddedToken(\"<|reserved_special_token_51|>\", rstrip=False, lstrip=False, single_word=False, normalized=False, special=True),\n",
       "\t128057: AddedToken(\"<|reserved_special_token_52|>\", rstrip=False, lstrip=False, single_word=False, normalized=False, special=True),\n",
       "\t128058: AddedToken(\"<|reserved_special_token_53|>\", rstrip=False, lstrip=False, single_word=False, normalized=False, special=True),\n",
       "\t128059: AddedToken(\"<|reserved_special_token_54|>\", rstrip=False, lstrip=False, single_word=False, normalized=False, special=True),\n",
       "\t128060: AddedToken(\"<|reserved_special_token_55|>\", rstrip=False, lstrip=False, single_word=False, normalized=False, special=True),\n",
       "\t128061: AddedToken(\"<|reserved_special_token_56|>\", rstrip=False, lstrip=False, single_word=False, normalized=False, special=True),\n",
       "\t128062: AddedToken(\"<|reserved_special_token_57|>\", rstrip=False, lstrip=False, single_word=False, normalized=False, special=True),\n",
       "\t128063: AddedToken(\"<|reserved_special_token_58|>\", rstrip=False, lstrip=False, single_word=False, normalized=False, special=True),\n",
       "\t128064: AddedToken(\"<|reserved_special_token_59|>\", rstrip=False, lstrip=False, single_word=False, normalized=False, special=True),\n",
       "\t128065: AddedToken(\"<|reserved_special_token_60|>\", rstrip=False, lstrip=False, single_word=False, normalized=False, special=True),\n",
       "\t128066: AddedToken(\"<|reserved_special_token_61|>\", rstrip=False, lstrip=False, single_word=False, normalized=False, special=True),\n",
       "\t128067: AddedToken(\"<|reserved_special_token_62|>\", rstrip=False, lstrip=False, single_word=False, normalized=False, special=True),\n",
       "\t128068: AddedToken(\"<|reserved_special_token_63|>\", rstrip=False, lstrip=False, single_word=False, normalized=False, special=True),\n",
       "\t128069: AddedToken(\"<|reserved_special_token_64|>\", rstrip=False, lstrip=False, single_word=False, normalized=False, special=True),\n",
       "\t128070: AddedToken(\"<|reserved_special_token_65|>\", rstrip=False, lstrip=False, single_word=False, normalized=False, special=True),\n",
       "\t128071: AddedToken(\"<|reserved_special_token_66|>\", rstrip=False, lstrip=False, single_word=False, normalized=False, special=True),\n",
       "\t128072: AddedToken(\"<|reserved_special_token_67|>\", rstrip=False, lstrip=False, single_word=False, normalized=False, special=True),\n",
       "\t128073: AddedToken(\"<|reserved_special_token_68|>\", rstrip=False, lstrip=False, single_word=False, normalized=False, special=True),\n",
       "\t128074: AddedToken(\"<|reserved_special_token_69|>\", rstrip=False, lstrip=False, single_word=False, normalized=False, special=True),\n",
       "\t128075: AddedToken(\"<|reserved_special_token_70|>\", rstrip=False, lstrip=False, single_word=False, normalized=False, special=True),\n",
       "\t128076: AddedToken(\"<|reserved_special_token_71|>\", rstrip=False, lstrip=False, single_word=False, normalized=False, special=True),\n",
       "\t128077: AddedToken(\"<|reserved_special_token_72|>\", rstrip=False, lstrip=False, single_word=False, normalized=False, special=True),\n",
       "\t128078: AddedToken(\"<|reserved_special_token_73|>\", rstrip=False, lstrip=False, single_word=False, normalized=False, special=True),\n",
       "\t128079: AddedToken(\"<|reserved_special_token_74|>\", rstrip=False, lstrip=False, single_word=False, normalized=False, special=True),\n",
       "\t128080: AddedToken(\"<|reserved_special_token_75|>\", rstrip=False, lstrip=False, single_word=False, normalized=False, special=True),\n",
       "\t128081: AddedToken(\"<|reserved_special_token_76|>\", rstrip=False, lstrip=False, single_word=False, normalized=False, special=True),\n",
       "\t128082: AddedToken(\"<|reserved_special_token_77|>\", rstrip=False, lstrip=False, single_word=False, normalized=False, special=True),\n",
       "\t128083: AddedToken(\"<|reserved_special_token_78|>\", rstrip=False, lstrip=False, single_word=False, normalized=False, special=True),\n",
       "\t128084: AddedToken(\"<|reserved_special_token_79|>\", rstrip=False, lstrip=False, single_word=False, normalized=False, special=True),\n",
       "\t128085: AddedToken(\"<|reserved_special_token_80|>\", rstrip=False, lstrip=False, single_word=False, normalized=False, special=True),\n",
       "\t128086: AddedToken(\"<|reserved_special_token_81|>\", rstrip=False, lstrip=False, single_word=False, normalized=False, special=True),\n",
       "\t128087: AddedToken(\"<|reserved_special_token_82|>\", rstrip=False, lstrip=False, single_word=False, normalized=False, special=True),\n",
       "\t128088: AddedToken(\"<|reserved_special_token_83|>\", rstrip=False, lstrip=False, single_word=False, normalized=False, special=True),\n",
       "\t128089: AddedToken(\"<|reserved_special_token_84|>\", rstrip=False, lstrip=False, single_word=False, normalized=False, special=True),\n",
       "\t128090: AddedToken(\"<|reserved_special_token_85|>\", rstrip=False, lstrip=False, single_word=False, normalized=False, special=True),\n",
       "\t128091: AddedToken(\"<|reserved_special_token_86|>\", rstrip=False, lstrip=False, single_word=False, normalized=False, special=True),\n",
       "\t128092: AddedToken(\"<|reserved_special_token_87|>\", rstrip=False, lstrip=False, single_word=False, normalized=False, special=True),\n",
       "\t128093: AddedToken(\"<|reserved_special_token_88|>\", rstrip=False, lstrip=False, single_word=False, normalized=False, special=True),\n",
       "\t128094: AddedToken(\"<|reserved_special_token_89|>\", rstrip=False, lstrip=False, single_word=False, normalized=False, special=True),\n",
       "\t128095: AddedToken(\"<|reserved_special_token_90|>\", rstrip=False, lstrip=False, single_word=False, normalized=False, special=True),\n",
       "\t128096: AddedToken(\"<|reserved_special_token_91|>\", rstrip=False, lstrip=False, single_word=False, normalized=False, special=True),\n",
       "\t128097: AddedToken(\"<|reserved_special_token_92|>\", rstrip=False, lstrip=False, single_word=False, normalized=False, special=True),\n",
       "\t128098: AddedToken(\"<|reserved_special_token_93|>\", rstrip=False, lstrip=False, single_word=False, normalized=False, special=True),\n",
       "\t128099: AddedToken(\"<|reserved_special_token_94|>\", rstrip=False, lstrip=False, single_word=False, normalized=False, special=True),\n",
       "\t128100: AddedToken(\"<|reserved_special_token_95|>\", rstrip=False, lstrip=False, single_word=False, normalized=False, special=True),\n",
       "\t128101: AddedToken(\"<|reserved_special_token_96|>\", rstrip=False, lstrip=False, single_word=False, normalized=False, special=True),\n",
       "\t128102: AddedToken(\"<|reserved_special_token_97|>\", rstrip=False, lstrip=False, single_word=False, normalized=False, special=True),\n",
       "\t128103: AddedToken(\"<|reserved_special_token_98|>\", rstrip=False, lstrip=False, single_word=False, normalized=False, special=True),\n",
       "\t128104: AddedToken(\"<|reserved_special_token_99|>\", rstrip=False, lstrip=False, single_word=False, normalized=False, special=True),\n",
       "\t128105: AddedToken(\"<|reserved_special_token_100|>\", rstrip=False, lstrip=False, single_word=False, normalized=False, special=True),\n",
       "\t128106: AddedToken(\"<|reserved_special_token_101|>\", rstrip=False, lstrip=False, single_word=False, normalized=False, special=True),\n",
       "\t128107: AddedToken(\"<|reserved_special_token_102|>\", rstrip=False, lstrip=False, single_word=False, normalized=False, special=True),\n",
       "\t128108: AddedToken(\"<|reserved_special_token_103|>\", rstrip=False, lstrip=False, single_word=False, normalized=False, special=True),\n",
       "\t128109: AddedToken(\"<|reserved_special_token_104|>\", rstrip=False, lstrip=False, single_word=False, normalized=False, special=True),\n",
       "\t128110: AddedToken(\"<|reserved_special_token_105|>\", rstrip=False, lstrip=False, single_word=False, normalized=False, special=True),\n",
       "\t128111: AddedToken(\"<|reserved_special_token_106|>\", rstrip=False, lstrip=False, single_word=False, normalized=False, special=True),\n",
       "\t128112: AddedToken(\"<|reserved_special_token_107|>\", rstrip=False, lstrip=False, single_word=False, normalized=False, special=True),\n",
       "\t128113: AddedToken(\"<|reserved_special_token_108|>\", rstrip=False, lstrip=False, single_word=False, normalized=False, special=True),\n",
       "\t128114: AddedToken(\"<|reserved_special_token_109|>\", rstrip=False, lstrip=False, single_word=False, normalized=False, special=True),\n",
       "\t128115: AddedToken(\"<|reserved_special_token_110|>\", rstrip=False, lstrip=False, single_word=False, normalized=False, special=True),\n",
       "\t128116: AddedToken(\"<|reserved_special_token_111|>\", rstrip=False, lstrip=False, single_word=False, normalized=False, special=True),\n",
       "\t128117: AddedToken(\"<|reserved_special_token_112|>\", rstrip=False, lstrip=False, single_word=False, normalized=False, special=True),\n",
       "\t128118: AddedToken(\"<|reserved_special_token_113|>\", rstrip=False, lstrip=False, single_word=False, normalized=False, special=True),\n",
       "\t128119: AddedToken(\"<|reserved_special_token_114|>\", rstrip=False, lstrip=False, single_word=False, normalized=False, special=True),\n",
       "\t128120: AddedToken(\"<|reserved_special_token_115|>\", rstrip=False, lstrip=False, single_word=False, normalized=False, special=True),\n",
       "\t128121: AddedToken(\"<|reserved_special_token_116|>\", rstrip=False, lstrip=False, single_word=False, normalized=False, special=True),\n",
       "\t128122: AddedToken(\"<|reserved_special_token_117|>\", rstrip=False, lstrip=False, single_word=False, normalized=False, special=True),\n",
       "\t128123: AddedToken(\"<|reserved_special_token_118|>\", rstrip=False, lstrip=False, single_word=False, normalized=False, special=True),\n",
       "\t128124: AddedToken(\"<|reserved_special_token_119|>\", rstrip=False, lstrip=False, single_word=False, normalized=False, special=True),\n",
       "\t128125: AddedToken(\"<|reserved_special_token_120|>\", rstrip=False, lstrip=False, single_word=False, normalized=False, special=True),\n",
       "\t128126: AddedToken(\"<|reserved_special_token_121|>\", rstrip=False, lstrip=False, single_word=False, normalized=False, special=True),\n",
       "\t128127: AddedToken(\"<|reserved_special_token_122|>\", rstrip=False, lstrip=False, single_word=False, normalized=False, special=True),\n",
       "\t128128: AddedToken(\"<|reserved_special_token_123|>\", rstrip=False, lstrip=False, single_word=False, normalized=False, special=True),\n",
       "\t128129: AddedToken(\"<|reserved_special_token_124|>\", rstrip=False, lstrip=False, single_word=False, normalized=False, special=True),\n",
       "\t128130: AddedToken(\"<|reserved_special_token_125|>\", rstrip=False, lstrip=False, single_word=False, normalized=False, special=True),\n",
       "\t128131: AddedToken(\"<|reserved_special_token_126|>\", rstrip=False, lstrip=False, single_word=False, normalized=False, special=True),\n",
       "\t128132: AddedToken(\"<|reserved_special_token_127|>\", rstrip=False, lstrip=False, single_word=False, normalized=False, special=True),\n",
       "\t128133: AddedToken(\"<|reserved_special_token_128|>\", rstrip=False, lstrip=False, single_word=False, normalized=False, special=True),\n",
       "\t128134: AddedToken(\"<|reserved_special_token_129|>\", rstrip=False, lstrip=False, single_word=False, normalized=False, special=True),\n",
       "\t128135: AddedToken(\"<|reserved_special_token_130|>\", rstrip=False, lstrip=False, single_word=False, normalized=False, special=True),\n",
       "\t128136: AddedToken(\"<|reserved_special_token_131|>\", rstrip=False, lstrip=False, single_word=False, normalized=False, special=True),\n",
       "\t128137: AddedToken(\"<|reserved_special_token_132|>\", rstrip=False, lstrip=False, single_word=False, normalized=False, special=True),\n",
       "\t128138: AddedToken(\"<|reserved_special_token_133|>\", rstrip=False, lstrip=False, single_word=False, normalized=False, special=True),\n",
       "\t128139: AddedToken(\"<|reserved_special_token_134|>\", rstrip=False, lstrip=False, single_word=False, normalized=False, special=True),\n",
       "\t128140: AddedToken(\"<|reserved_special_token_135|>\", rstrip=False, lstrip=False, single_word=False, normalized=False, special=True),\n",
       "\t128141: AddedToken(\"<|reserved_special_token_136|>\", rstrip=False, lstrip=False, single_word=False, normalized=False, special=True),\n",
       "\t128142: AddedToken(\"<|reserved_special_token_137|>\", rstrip=False, lstrip=False, single_word=False, normalized=False, special=True),\n",
       "\t128143: AddedToken(\"<|reserved_special_token_138|>\", rstrip=False, lstrip=False, single_word=False, normalized=False, special=True),\n",
       "\t128144: AddedToken(\"<|reserved_special_token_139|>\", rstrip=False, lstrip=False, single_word=False, normalized=False, special=True),\n",
       "\t128145: AddedToken(\"<|reserved_special_token_140|>\", rstrip=False, lstrip=False, single_word=False, normalized=False, special=True),\n",
       "\t128146: AddedToken(\"<|reserved_special_token_141|>\", rstrip=False, lstrip=False, single_word=False, normalized=False, special=True),\n",
       "\t128147: AddedToken(\"<|reserved_special_token_142|>\", rstrip=False, lstrip=False, single_word=False, normalized=False, special=True),\n",
       "\t128148: AddedToken(\"<|reserved_special_token_143|>\", rstrip=False, lstrip=False, single_word=False, normalized=False, special=True),\n",
       "\t128149: AddedToken(\"<|reserved_special_token_144|>\", rstrip=False, lstrip=False, single_word=False, normalized=False, special=True),\n",
       "\t128150: AddedToken(\"<|reserved_special_token_145|>\", rstrip=False, lstrip=False, single_word=False, normalized=False, special=True),\n",
       "\t128151: AddedToken(\"<|reserved_special_token_146|>\", rstrip=False, lstrip=False, single_word=False, normalized=False, special=True),\n",
       "\t128152: AddedToken(\"<|reserved_special_token_147|>\", rstrip=False, lstrip=False, single_word=False, normalized=False, special=True),\n",
       "\t128153: AddedToken(\"<|reserved_special_token_148|>\", rstrip=False, lstrip=False, single_word=False, normalized=False, special=True),\n",
       "\t128154: AddedToken(\"<|reserved_special_token_149|>\", rstrip=False, lstrip=False, single_word=False, normalized=False, special=True),\n",
       "\t128155: AddedToken(\"<|reserved_special_token_150|>\", rstrip=False, lstrip=False, single_word=False, normalized=False, special=True),\n",
       "\t128156: AddedToken(\"<|reserved_special_token_151|>\", rstrip=False, lstrip=False, single_word=False, normalized=False, special=True),\n",
       "\t128157: AddedToken(\"<|reserved_special_token_152|>\", rstrip=False, lstrip=False, single_word=False, normalized=False, special=True),\n",
       "\t128158: AddedToken(\"<|reserved_special_token_153|>\", rstrip=False, lstrip=False, single_word=False, normalized=False, special=True),\n",
       "\t128159: AddedToken(\"<|reserved_special_token_154|>\", rstrip=False, lstrip=False, single_word=False, normalized=False, special=True),\n",
       "\t128160: AddedToken(\"<|reserved_special_token_155|>\", rstrip=False, lstrip=False, single_word=False, normalized=False, special=True),\n",
       "\t128161: AddedToken(\"<|reserved_special_token_156|>\", rstrip=False, lstrip=False, single_word=False, normalized=False, special=True),\n",
       "\t128162: AddedToken(\"<|reserved_special_token_157|>\", rstrip=False, lstrip=False, single_word=False, normalized=False, special=True),\n",
       "\t128163: AddedToken(\"<|reserved_special_token_158|>\", rstrip=False, lstrip=False, single_word=False, normalized=False, special=True),\n",
       "\t128164: AddedToken(\"<|reserved_special_token_159|>\", rstrip=False, lstrip=False, single_word=False, normalized=False, special=True),\n",
       "\t128165: AddedToken(\"<|reserved_special_token_160|>\", rstrip=False, lstrip=False, single_word=False, normalized=False, special=True),\n",
       "\t128166: AddedToken(\"<|reserved_special_token_161|>\", rstrip=False, lstrip=False, single_word=False, normalized=False, special=True),\n",
       "\t128167: AddedToken(\"<|reserved_special_token_162|>\", rstrip=False, lstrip=False, single_word=False, normalized=False, special=True),\n",
       "\t128168: AddedToken(\"<|reserved_special_token_163|>\", rstrip=False, lstrip=False, single_word=False, normalized=False, special=True),\n",
       "\t128169: AddedToken(\"<|reserved_special_token_164|>\", rstrip=False, lstrip=False, single_word=False, normalized=False, special=True),\n",
       "\t128170: AddedToken(\"<|reserved_special_token_165|>\", rstrip=False, lstrip=False, single_word=False, normalized=False, special=True),\n",
       "\t128171: AddedToken(\"<|reserved_special_token_166|>\", rstrip=False, lstrip=False, single_word=False, normalized=False, special=True),\n",
       "\t128172: AddedToken(\"<|reserved_special_token_167|>\", rstrip=False, lstrip=False, single_word=False, normalized=False, special=True),\n",
       "\t128173: AddedToken(\"<|reserved_special_token_168|>\", rstrip=False, lstrip=False, single_word=False, normalized=False, special=True),\n",
       "\t128174: AddedToken(\"<|reserved_special_token_169|>\", rstrip=False, lstrip=False, single_word=False, normalized=False, special=True),\n",
       "\t128175: AddedToken(\"<|reserved_special_token_170|>\", rstrip=False, lstrip=False, single_word=False, normalized=False, special=True),\n",
       "\t128176: AddedToken(\"<|reserved_special_token_171|>\", rstrip=False, lstrip=False, single_word=False, normalized=False, special=True),\n",
       "\t128177: AddedToken(\"<|reserved_special_token_172|>\", rstrip=False, lstrip=False, single_word=False, normalized=False, special=True),\n",
       "\t128178: AddedToken(\"<|reserved_special_token_173|>\", rstrip=False, lstrip=False, single_word=False, normalized=False, special=True),\n",
       "\t128179: AddedToken(\"<|reserved_special_token_174|>\", rstrip=False, lstrip=False, single_word=False, normalized=False, special=True),\n",
       "\t128180: AddedToken(\"<|reserved_special_token_175|>\", rstrip=False, lstrip=False, single_word=False, normalized=False, special=True),\n",
       "\t128181: AddedToken(\"<|reserved_special_token_176|>\", rstrip=False, lstrip=False, single_word=False, normalized=False, special=True),\n",
       "\t128182: AddedToken(\"<|reserved_special_token_177|>\", rstrip=False, lstrip=False, single_word=False, normalized=False, special=True),\n",
       "\t128183: AddedToken(\"<|reserved_special_token_178|>\", rstrip=False, lstrip=False, single_word=False, normalized=False, special=True),\n",
       "\t128184: AddedToken(\"<|reserved_special_token_179|>\", rstrip=False, lstrip=False, single_word=False, normalized=False, special=True),\n",
       "\t128185: AddedToken(\"<|reserved_special_token_180|>\", rstrip=False, lstrip=False, single_word=False, normalized=False, special=True),\n",
       "\t128186: AddedToken(\"<|reserved_special_token_181|>\", rstrip=False, lstrip=False, single_word=False, normalized=False, special=True),\n",
       "\t128187: AddedToken(\"<|reserved_special_token_182|>\", rstrip=False, lstrip=False, single_word=False, normalized=False, special=True),\n",
       "\t128188: AddedToken(\"<|reserved_special_token_183|>\", rstrip=False, lstrip=False, single_word=False, normalized=False, special=True),\n",
       "\t128189: AddedToken(\"<|reserved_special_token_184|>\", rstrip=False, lstrip=False, single_word=False, normalized=False, special=True),\n",
       "\t128190: AddedToken(\"<|reserved_special_token_185|>\", rstrip=False, lstrip=False, single_word=False, normalized=False, special=True),\n",
       "\t128191: AddedToken(\"<|reserved_special_token_186|>\", rstrip=False, lstrip=False, single_word=False, normalized=False, special=True),\n",
       "\t128192: AddedToken(\"<|reserved_special_token_187|>\", rstrip=False, lstrip=False, single_word=False, normalized=False, special=True),\n",
       "\t128193: AddedToken(\"<|reserved_special_token_188|>\", rstrip=False, lstrip=False, single_word=False, normalized=False, special=True),\n",
       "\t128194: AddedToken(\"<|reserved_special_token_189|>\", rstrip=False, lstrip=False, single_word=False, normalized=False, special=True),\n",
       "\t128195: AddedToken(\"<|reserved_special_token_190|>\", rstrip=False, lstrip=False, single_word=False, normalized=False, special=True),\n",
       "\t128196: AddedToken(\"<|reserved_special_token_191|>\", rstrip=False, lstrip=False, single_word=False, normalized=False, special=True),\n",
       "\t128197: AddedToken(\"<|reserved_special_token_192|>\", rstrip=False, lstrip=False, single_word=False, normalized=False, special=True),\n",
       "\t128198: AddedToken(\"<|reserved_special_token_193|>\", rstrip=False, lstrip=False, single_word=False, normalized=False, special=True),\n",
       "\t128199: AddedToken(\"<|reserved_special_token_194|>\", rstrip=False, lstrip=False, single_word=False, normalized=False, special=True),\n",
       "\t128200: AddedToken(\"<|reserved_special_token_195|>\", rstrip=False, lstrip=False, single_word=False, normalized=False, special=True),\n",
       "\t128201: AddedToken(\"<|reserved_special_token_196|>\", rstrip=False, lstrip=False, single_word=False, normalized=False, special=True),\n",
       "\t128202: AddedToken(\"<|reserved_special_token_197|>\", rstrip=False, lstrip=False, single_word=False, normalized=False, special=True),\n",
       "\t128203: AddedToken(\"<|reserved_special_token_198|>\", rstrip=False, lstrip=False, single_word=False, normalized=False, special=True),\n",
       "\t128204: AddedToken(\"<|reserved_special_token_199|>\", rstrip=False, lstrip=False, single_word=False, normalized=False, special=True),\n",
       "\t128205: AddedToken(\"<|reserved_special_token_200|>\", rstrip=False, lstrip=False, single_word=False, normalized=False, special=True),\n",
       "\t128206: AddedToken(\"<|reserved_special_token_201|>\", rstrip=False, lstrip=False, single_word=False, normalized=False, special=True),\n",
       "\t128207: AddedToken(\"<|reserved_special_token_202|>\", rstrip=False, lstrip=False, single_word=False, normalized=False, special=True),\n",
       "\t128208: AddedToken(\"<|reserved_special_token_203|>\", rstrip=False, lstrip=False, single_word=False, normalized=False, special=True),\n",
       "\t128209: AddedToken(\"<|reserved_special_token_204|>\", rstrip=False, lstrip=False, single_word=False, normalized=False, special=True),\n",
       "\t128210: AddedToken(\"<|reserved_special_token_205|>\", rstrip=False, lstrip=False, single_word=False, normalized=False, special=True),\n",
       "\t128211: AddedToken(\"<|reserved_special_token_206|>\", rstrip=False, lstrip=False, single_word=False, normalized=False, special=True),\n",
       "\t128212: AddedToken(\"<|reserved_special_token_207|>\", rstrip=False, lstrip=False, single_word=False, normalized=False, special=True),\n",
       "\t128213: AddedToken(\"<|reserved_special_token_208|>\", rstrip=False, lstrip=False, single_word=False, normalized=False, special=True),\n",
       "\t128214: AddedToken(\"<|reserved_special_token_209|>\", rstrip=False, lstrip=False, single_word=False, normalized=False, special=True),\n",
       "\t128215: AddedToken(\"<|reserved_special_token_210|>\", rstrip=False, lstrip=False, single_word=False, normalized=False, special=True),\n",
       "\t128216: AddedToken(\"<|reserved_special_token_211|>\", rstrip=False, lstrip=False, single_word=False, normalized=False, special=True),\n",
       "\t128217: AddedToken(\"<|reserved_special_token_212|>\", rstrip=False, lstrip=False, single_word=False, normalized=False, special=True),\n",
       "\t128218: AddedToken(\"<|reserved_special_token_213|>\", rstrip=False, lstrip=False, single_word=False, normalized=False, special=True),\n",
       "\t128219: AddedToken(\"<|reserved_special_token_214|>\", rstrip=False, lstrip=False, single_word=False, normalized=False, special=True),\n",
       "\t128220: AddedToken(\"<|reserved_special_token_215|>\", rstrip=False, lstrip=False, single_word=False, normalized=False, special=True),\n",
       "\t128221: AddedToken(\"<|reserved_special_token_216|>\", rstrip=False, lstrip=False, single_word=False, normalized=False, special=True),\n",
       "\t128222: AddedToken(\"<|reserved_special_token_217|>\", rstrip=False, lstrip=False, single_word=False, normalized=False, special=True),\n",
       "\t128223: AddedToken(\"<|reserved_special_token_218|>\", rstrip=False, lstrip=False, single_word=False, normalized=False, special=True),\n",
       "\t128224: AddedToken(\"<|reserved_special_token_219|>\", rstrip=False, lstrip=False, single_word=False, normalized=False, special=True),\n",
       "\t128225: AddedToken(\"<|reserved_special_token_220|>\", rstrip=False, lstrip=False, single_word=False, normalized=False, special=True),\n",
       "\t128226: AddedToken(\"<|reserved_special_token_221|>\", rstrip=False, lstrip=False, single_word=False, normalized=False, special=True),\n",
       "\t128227: AddedToken(\"<|reserved_special_token_222|>\", rstrip=False, lstrip=False, single_word=False, normalized=False, special=True),\n",
       "\t128228: AddedToken(\"<|reserved_special_token_223|>\", rstrip=False, lstrip=False, single_word=False, normalized=False, special=True),\n",
       "\t128229: AddedToken(\"<|reserved_special_token_224|>\", rstrip=False, lstrip=False, single_word=False, normalized=False, special=True),\n",
       "\t128230: AddedToken(\"<|reserved_special_token_225|>\", rstrip=False, lstrip=False, single_word=False, normalized=False, special=True),\n",
       "\t128231: AddedToken(\"<|reserved_special_token_226|>\", rstrip=False, lstrip=False, single_word=False, normalized=False, special=True),\n",
       "\t128232: AddedToken(\"<|reserved_special_token_227|>\", rstrip=False, lstrip=False, single_word=False, normalized=False, special=True),\n",
       "\t128233: AddedToken(\"<|reserved_special_token_228|>\", rstrip=False, lstrip=False, single_word=False, normalized=False, special=True),\n",
       "\t128234: AddedToken(\"<|reserved_special_token_229|>\", rstrip=False, lstrip=False, single_word=False, normalized=False, special=True),\n",
       "\t128235: AddedToken(\"<|reserved_special_token_230|>\", rstrip=False, lstrip=False, single_word=False, normalized=False, special=True),\n",
       "\t128236: AddedToken(\"<|reserved_special_token_231|>\", rstrip=False, lstrip=False, single_word=False, normalized=False, special=True),\n",
       "\t128237: AddedToken(\"<|reserved_special_token_232|>\", rstrip=False, lstrip=False, single_word=False, normalized=False, special=True),\n",
       "\t128238: AddedToken(\"<|reserved_special_token_233|>\", rstrip=False, lstrip=False, single_word=False, normalized=False, special=True),\n",
       "\t128239: AddedToken(\"<|reserved_special_token_234|>\", rstrip=False, lstrip=False, single_word=False, normalized=False, special=True),\n",
       "\t128240: AddedToken(\"<|reserved_special_token_235|>\", rstrip=False, lstrip=False, single_word=False, normalized=False, special=True),\n",
       "\t128241: AddedToken(\"<|reserved_special_token_236|>\", rstrip=False, lstrip=False, single_word=False, normalized=False, special=True),\n",
       "\t128242: AddedToken(\"<|reserved_special_token_237|>\", rstrip=False, lstrip=False, single_word=False, normalized=False, special=True),\n",
       "\t128243: AddedToken(\"<|reserved_special_token_238|>\", rstrip=False, lstrip=False, single_word=False, normalized=False, special=True),\n",
       "\t128244: AddedToken(\"<|reserved_special_token_239|>\", rstrip=False, lstrip=False, single_word=False, normalized=False, special=True),\n",
       "\t128245: AddedToken(\"<|reserved_special_token_240|>\", rstrip=False, lstrip=False, single_word=False, normalized=False, special=True),\n",
       "\t128246: AddedToken(\"<|reserved_special_token_241|>\", rstrip=False, lstrip=False, single_word=False, normalized=False, special=True),\n",
       "\t128247: AddedToken(\"<|reserved_special_token_242|>\", rstrip=False, lstrip=False, single_word=False, normalized=False, special=True),\n",
       "\t128248: AddedToken(\"<|reserved_special_token_243|>\", rstrip=False, lstrip=False, single_word=False, normalized=False, special=True),\n",
       "\t128249: AddedToken(\"<|reserved_special_token_244|>\", rstrip=False, lstrip=False, single_word=False, normalized=False, special=True),\n",
       "\t128250: AddedToken(\"<|reserved_special_token_245|>\", rstrip=False, lstrip=False, single_word=False, normalized=False, special=True),\n",
       "\t128251: AddedToken(\"<|reserved_special_token_246|>\", rstrip=False, lstrip=False, single_word=False, normalized=False, special=True),\n",
       "\t128252: AddedToken(\"<|reserved_special_token_247|>\", rstrip=False, lstrip=False, single_word=False, normalized=False, special=True),\n",
       "\t128253: AddedToken(\"<|reserved_special_token_248|>\", rstrip=False, lstrip=False, single_word=False, normalized=False, special=True),\n",
       "\t128254: AddedToken(\"<|reserved_special_token_249|>\", rstrip=False, lstrip=False, single_word=False, normalized=False, special=True),\n",
       "\t128255: AddedToken(\"<|reserved_special_token_250|>\", rstrip=False, lstrip=False, single_word=False, normalized=False, special=True),\n",
       "}"
      ]
     },
     "execution_count": 1,
     "metadata": {},
     "output_type": "execute_result"
    }
   ],
   "source": [
    "from transformers import AutoTokenizer\n",
    "tokenizer = AutoTokenizer.from_pretrained(\"../Llama3-8B-Chinese-Chat\")\n",
    "tokenizer"
   ]
  },
  {
   "cell_type": "code",
   "execution_count": 2,
   "id": "0f7067b9-f44c-44f2-b1b2-865a986f1eb2",
   "metadata": {
    "tags": []
   },
   "outputs": [
    {
     "data": {
      "text/plain": [
       "{'input_ids': [110916, 36827, 102146, 89151, 53901, 6447], 'attention_mask': [1, 1, 1, 1, 1, 1]}"
      ]
     },
     "execution_count": 2,
     "metadata": {},
     "output_type": "execute_result"
    }
   ],
   "source": [
    "tokenizer(\"今天天气真好！\")"
   ]
  },
  {
   "cell_type": "code",
   "execution_count": 3,
   "id": "ff4bbd49-5d71-4921-b845-7e88cb4ab92c",
   "metadata": {
    "tags": []
   },
   "outputs": [
    {
     "name": "stdout",
     "output_type": "stream",
     "text": [
      "['æĪĳ', 'çĪ±', 'ä¸Ńåįİ', 'å¤§', 'åľ°']\n",
      "[37046, 103312, 119635, 27384, 30590]\n",
      "我爱中华大地\n"
     ]
    }
   ],
   "source": [
    "tokens = tokenizer.tokenize('我爱中华大地')\n",
    "print(tokens)\n",
    "ids = tokenizer.convert_tokens_to_ids(tokens)\n",
    "print(ids)\n",
    "sentence = tokenizer.decode(ids)\n",
    "print(sentence)"
   ]
  },
  {
   "cell_type": "code",
   "execution_count": 61,
   "id": "fd74fcc0-b223-43de-9a4f-8c76de874524",
   "metadata": {
    "scrolled": true,
    "tags": []
   },
   "outputs": [
    {
     "name": "stdout",
     "output_type": "stream",
     "text": [
      "[\n",
      "    \"model.embed_tokens.weight\",\n",
      "    \"model.layers.0.input_layernorm.weight\",\n",
      "    \"model.layers.0.mlp.down_proj.weight\",\n",
      "    \"model.layers.0.mlp.gate_proj.weight\",\n",
      "    \"model.layers.0.mlp.up_proj.weight\",\n",
      "    \"model.layers.0.post_attention_layernorm.weight\",\n",
      "    \"model.layers.0.self_attn.k_proj.weight\",\n",
      "    \"model.layers.0.self_attn.o_proj.weight\",\n",
      "    \"model.layers.0.self_attn.q_proj.weight\",\n",
      "    \"model.layers.0.self_attn.v_proj.weight\",\n",
      "    \"model.layers.1.input_layernorm.weight\",\n",
      "    \"model.layers.1.mlp.down_proj.weight\",\n",
      "    \"model.layers.1.mlp.gate_proj.weight\",\n",
      "    \"model.layers.1.mlp.up_proj.weight\",\n",
      "    \"model.layers.1.post_attention_layernorm.weight\",\n",
      "    \"model.layers.1.self_attn.k_proj.weight\",\n",
      "    \"model.layers.1.self_attn.o_proj.weight\",\n",
      "    \"model.layers.1.self_attn.q_proj.weight\",\n",
      "    \"model.layers.1.self_attn.v_proj.weight\",\n",
      "    \"model.layers.2.input_layernorm.weight\",\n",
      "    \"model.layers.2.mlp.down_proj.weight\",\n",
      "    \"model.layers.2.mlp.gate_proj.weight\",\n",
      "    \"model.layers.2.mlp.up_proj.weight\",\n",
      "    \"model.layers.2.post_attention_layernorm.weight\",\n",
      "    \"model.layers.2.self_attn.k_proj.weight\",\n",
      "    \"model.layers.2.self_attn.o_proj.weight\",\n",
      "    \"model.layers.2.self_attn.q_proj.weight\",\n",
      "    \"model.layers.2.self_attn.v_proj.weight\",\n",
      "    \"model.layers.3.input_layernorm.weight\",\n",
      "    \"model.layers.3.mlp.down_proj.weight\",\n",
      "    \"model.layers.3.mlp.gate_proj.weight\",\n",
      "    \"model.layers.3.mlp.up_proj.weight\",\n",
      "    \"model.layers.3.post_attention_layernorm.weight\",\n",
      "    \"model.layers.3.self_attn.k_proj.weight\",\n",
      "    \"model.layers.3.self_attn.o_proj.weight\",\n",
      "    \"model.layers.3.self_attn.q_proj.weight\",\n",
      "    \"model.layers.3.self_attn.v_proj.weight\",\n",
      "    \"model.layers.4.input_layernorm.weight\",\n",
      "    \"model.layers.4.mlp.down_proj.weight\",\n",
      "    \"model.layers.4.mlp.gate_proj.weight\",\n",
      "    \"model.layers.4.mlp.up_proj.weight\",\n",
      "    \"model.layers.4.post_attention_layernorm.weight\",\n",
      "    \"model.layers.4.self_attn.k_proj.weight\",\n",
      "    \"model.layers.4.self_attn.o_proj.weight\",\n",
      "    \"model.layers.4.self_attn.q_proj.weight\",\n",
      "    \"model.layers.4.self_attn.v_proj.weight\",\n",
      "    \"model.layers.5.input_layernorm.weight\",\n",
      "    \"model.layers.5.mlp.down_proj.weight\",\n",
      "    \"model.layers.5.mlp.gate_proj.weight\",\n",
      "    \"model.layers.5.mlp.up_proj.weight\",\n",
      "    \"model.layers.5.post_attention_layernorm.weight\",\n",
      "    \"model.layers.5.self_attn.k_proj.weight\",\n",
      "    \"model.layers.5.self_attn.o_proj.weight\",\n",
      "    \"model.layers.5.self_attn.q_proj.weight\",\n",
      "    \"model.layers.5.self_attn.v_proj.weight\",\n",
      "    \"model.layers.6.input_layernorm.weight\",\n",
      "    \"model.layers.6.mlp.down_proj.weight\",\n",
      "    \"model.layers.6.mlp.gate_proj.weight\",\n",
      "    \"model.layers.6.mlp.up_proj.weight\",\n",
      "    \"model.layers.6.post_attention_layernorm.weight\",\n",
      "    \"model.layers.6.self_attn.k_proj.weight\",\n",
      "    \"model.layers.6.self_attn.o_proj.weight\",\n",
      "    \"model.layers.6.self_attn.q_proj.weight\",\n",
      "    \"model.layers.6.self_attn.v_proj.weight\",\n",
      "    \"model.layers.7.input_layernorm.weight\",\n",
      "    \"model.layers.7.mlp.down_proj.weight\",\n",
      "    \"model.layers.7.mlp.gate_proj.weight\",\n",
      "    \"model.layers.7.mlp.up_proj.weight\",\n",
      "    \"model.layers.7.post_attention_layernorm.weight\",\n",
      "    \"model.layers.7.self_attn.k_proj.weight\",\n",
      "    \"model.layers.7.self_attn.o_proj.weight\",\n",
      "    \"model.layers.7.self_attn.q_proj.weight\",\n",
      "    \"model.layers.7.self_attn.v_proj.weight\",\n",
      "    \"model.layers.8.input_layernorm.weight\",\n",
      "    \"model.layers.8.mlp.down_proj.weight\",\n",
      "    \"model.layers.8.mlp.gate_proj.weight\",\n",
      "    \"model.layers.8.mlp.up_proj.weight\",\n",
      "    \"model.layers.8.post_attention_layernorm.weight\",\n",
      "    \"model.layers.8.self_attn.k_proj.weight\",\n",
      "    \"model.layers.8.self_attn.o_proj.weight\",\n",
      "    \"model.layers.8.self_attn.q_proj.weight\",\n",
      "    \"model.layers.8.self_attn.v_proj.weight\",\n",
      "    \"model.layers.10.input_layernorm.weight\",\n",
      "    \"model.layers.10.mlp.down_proj.weight\",\n",
      "    \"model.layers.10.mlp.gate_proj.weight\",\n",
      "    \"model.layers.10.mlp.up_proj.weight\",\n",
      "    \"model.layers.10.post_attention_layernorm.weight\",\n",
      "    \"model.layers.10.self_attn.k_proj.weight\",\n",
      "    \"model.layers.10.self_attn.o_proj.weight\",\n",
      "    \"model.layers.10.self_attn.q_proj.weight\",\n",
      "    \"model.layers.10.self_attn.v_proj.weight\",\n",
      "    \"model.layers.11.input_layernorm.weight\",\n",
      "    \"model.layers.11.mlp.down_proj.weight\",\n",
      "    \"model.layers.11.mlp.gate_proj.weight\",\n",
      "    \"model.layers.11.mlp.up_proj.weight\",\n",
      "    \"model.layers.11.post_attention_layernorm.weight\",\n",
      "    \"model.layers.11.self_attn.k_proj.weight\",\n",
      "    \"model.layers.11.self_attn.o_proj.weight\",\n",
      "    \"model.layers.11.self_attn.q_proj.weight\",\n",
      "    \"model.layers.11.self_attn.v_proj.weight\",\n",
      "    \"model.layers.12.input_layernorm.weight\",\n",
      "    \"model.layers.12.mlp.down_proj.weight\",\n",
      "    \"model.layers.12.mlp.gate_proj.weight\",\n",
      "    \"model.layers.12.mlp.up_proj.weight\",\n",
      "    \"model.layers.12.post_attention_layernorm.weight\",\n",
      "    \"model.layers.12.self_attn.k_proj.weight\",\n",
      "    \"model.layers.12.self_attn.o_proj.weight\",\n",
      "    \"model.layers.12.self_attn.q_proj.weight\",\n",
      "    \"model.layers.12.self_attn.v_proj.weight\",\n",
      "    \"model.layers.13.input_layernorm.weight\",\n",
      "    \"model.layers.13.mlp.down_proj.weight\",\n",
      "    \"model.layers.13.mlp.gate_proj.weight\",\n",
      "    \"model.layers.13.mlp.up_proj.weight\",\n",
      "    \"model.layers.13.post_attention_layernorm.weight\",\n",
      "    \"model.layers.13.self_attn.k_proj.weight\",\n",
      "    \"model.layers.13.self_attn.o_proj.weight\",\n",
      "    \"model.layers.13.self_attn.q_proj.weight\",\n",
      "    \"model.layers.13.self_attn.v_proj.weight\",\n",
      "    \"model.layers.14.input_layernorm.weight\",\n",
      "    \"model.layers.14.mlp.down_proj.weight\",\n",
      "    \"model.layers.14.mlp.gate_proj.weight\",\n",
      "    \"model.layers.14.mlp.up_proj.weight\",\n",
      "    \"model.layers.14.post_attention_layernorm.weight\",\n",
      "    \"model.layers.14.self_attn.k_proj.weight\",\n",
      "    \"model.layers.14.self_attn.o_proj.weight\",\n",
      "    \"model.layers.14.self_attn.q_proj.weight\",\n",
      "    \"model.layers.14.self_attn.v_proj.weight\",\n",
      "    \"model.layers.15.input_layernorm.weight\",\n",
      "    \"model.layers.15.mlp.down_proj.weight\",\n",
      "    \"model.layers.15.mlp.gate_proj.weight\",\n",
      "    \"model.layers.15.mlp.up_proj.weight\",\n",
      "    \"model.layers.15.post_attention_layernorm.weight\",\n",
      "    \"model.layers.15.self_attn.k_proj.weight\",\n",
      "    \"model.layers.15.self_attn.o_proj.weight\",\n",
      "    \"model.layers.15.self_attn.q_proj.weight\",\n",
      "    \"model.layers.15.self_attn.v_proj.weight\",\n",
      "    \"model.layers.16.input_layernorm.weight\",\n",
      "    \"model.layers.16.mlp.down_proj.weight\",\n",
      "    \"model.layers.16.mlp.gate_proj.weight\",\n",
      "    \"model.layers.16.mlp.up_proj.weight\",\n",
      "    \"model.layers.16.post_attention_layernorm.weight\",\n",
      "    \"model.layers.16.self_attn.k_proj.weight\",\n",
      "    \"model.layers.16.self_attn.o_proj.weight\",\n",
      "    \"model.layers.16.self_attn.q_proj.weight\",\n",
      "    \"model.layers.16.self_attn.v_proj.weight\",\n",
      "    \"model.layers.17.input_layernorm.weight\",\n",
      "    \"model.layers.17.mlp.down_proj.weight\",\n",
      "    \"model.layers.17.mlp.gate_proj.weight\",\n",
      "    \"model.layers.17.mlp.up_proj.weight\",\n",
      "    \"model.layers.17.post_attention_layernorm.weight\",\n",
      "    \"model.layers.17.self_attn.k_proj.weight\",\n",
      "    \"model.layers.17.self_attn.o_proj.weight\",\n",
      "    \"model.layers.17.self_attn.q_proj.weight\",\n",
      "    \"model.layers.17.self_attn.v_proj.weight\",\n",
      "    \"model.layers.18.input_layernorm.weight\",\n",
      "    \"model.layers.18.mlp.down_proj.weight\",\n",
      "    \"model.layers.18.mlp.gate_proj.weight\",\n",
      "    \"model.layers.18.mlp.up_proj.weight\",\n",
      "    \"model.layers.18.post_attention_layernorm.weight\",\n",
      "    \"model.layers.18.self_attn.k_proj.weight\",\n",
      "    \"model.layers.18.self_attn.o_proj.weight\",\n",
      "    \"model.layers.18.self_attn.q_proj.weight\",\n",
      "    \"model.layers.18.self_attn.v_proj.weight\",\n",
      "    \"model.layers.19.input_layernorm.weight\",\n",
      "    \"model.layers.19.mlp.down_proj.weight\",\n",
      "    \"model.layers.19.mlp.gate_proj.weight\",\n",
      "    \"model.layers.19.mlp.up_proj.weight\",\n",
      "    \"model.layers.19.post_attention_layernorm.weight\",\n",
      "    \"model.layers.19.self_attn.k_proj.weight\",\n",
      "    \"model.layers.19.self_attn.o_proj.weight\",\n",
      "    \"model.layers.19.self_attn.q_proj.weight\",\n",
      "    \"model.layers.19.self_attn.v_proj.weight\",\n",
      "    \"model.layers.20.mlp.gate_proj.weight\",\n",
      "    \"model.layers.20.self_attn.k_proj.weight\",\n",
      "    \"model.layers.20.self_attn.o_proj.weight\",\n",
      "    \"model.layers.20.self_attn.q_proj.weight\",\n",
      "    \"model.layers.20.self_attn.v_proj.weight\",\n",
      "    \"model.layers.9.input_layernorm.weight\",\n",
      "    \"model.layers.9.mlp.down_proj.weight\",\n",
      "    \"model.layers.9.mlp.gate_proj.weight\",\n",
      "    \"model.layers.9.mlp.up_proj.weight\",\n",
      "    \"model.layers.9.post_attention_layernorm.weight\",\n",
      "    \"model.layers.9.self_attn.k_proj.weight\",\n",
      "    \"model.layers.9.self_attn.o_proj.weight\",\n",
      "    \"model.layers.9.self_attn.q_proj.weight\",\n",
      "    \"model.layers.9.self_attn.v_proj.weight\",\n",
      "    \"model.layers.20.input_layernorm.weight\",\n",
      "    \"model.layers.20.mlp.down_proj.weight\",\n",
      "    \"model.layers.20.mlp.up_proj.weight\",\n",
      "    \"model.layers.20.post_attention_layernorm.weight\",\n",
      "    \"model.layers.21.input_layernorm.weight\",\n",
      "    \"model.layers.21.mlp.down_proj.weight\",\n",
      "    \"model.layers.21.mlp.gate_proj.weight\",\n",
      "    \"model.layers.21.mlp.up_proj.weight\",\n",
      "    \"model.layers.21.post_attention_layernorm.weight\",\n",
      "    \"model.layers.21.self_attn.k_proj.weight\",\n",
      "    \"model.layers.21.self_attn.o_proj.weight\",\n",
      "    \"model.layers.21.self_attn.q_proj.weight\",\n",
      "    \"model.layers.21.self_attn.v_proj.weight\",\n",
      "    \"model.layers.22.input_layernorm.weight\",\n",
      "    \"model.layers.22.mlp.down_proj.weight\",\n",
      "    \"model.layers.22.mlp.gate_proj.weight\",\n",
      "    \"model.layers.22.mlp.up_proj.weight\",\n",
      "    \"model.layers.22.post_attention_layernorm.weight\",\n",
      "    \"model.layers.22.self_attn.k_proj.weight\",\n",
      "    \"model.layers.22.self_attn.o_proj.weight\",\n",
      "    \"model.layers.22.self_attn.q_proj.weight\",\n",
      "    \"model.layers.22.self_attn.v_proj.weight\",\n",
      "    \"model.layers.23.input_layernorm.weight\",\n",
      "    \"model.layers.23.mlp.down_proj.weight\",\n",
      "    \"model.layers.23.mlp.gate_proj.weight\",\n",
      "    \"model.layers.23.mlp.up_proj.weight\",\n",
      "    \"model.layers.23.post_attention_layernorm.weight\",\n",
      "    \"model.layers.23.self_attn.k_proj.weight\",\n",
      "    \"model.layers.23.self_attn.o_proj.weight\",\n",
      "    \"model.layers.23.self_attn.q_proj.weight\",\n",
      "    \"model.layers.23.self_attn.v_proj.weight\",\n",
      "    \"model.layers.24.input_layernorm.weight\",\n",
      "    \"model.layers.24.mlp.down_proj.weight\",\n",
      "    \"model.layers.24.mlp.gate_proj.weight\",\n",
      "    \"model.layers.24.mlp.up_proj.weight\",\n",
      "    \"model.layers.24.post_attention_layernorm.weight\",\n",
      "    \"model.layers.24.self_attn.k_proj.weight\",\n",
      "    \"model.layers.24.self_attn.o_proj.weight\",\n",
      "    \"model.layers.24.self_attn.q_proj.weight\",\n",
      "    \"model.layers.24.self_attn.v_proj.weight\",\n",
      "    \"model.layers.25.input_layernorm.weight\",\n",
      "    \"model.layers.25.mlp.down_proj.weight\",\n",
      "    \"model.layers.25.mlp.gate_proj.weight\",\n",
      "    \"model.layers.25.mlp.up_proj.weight\",\n",
      "    \"model.layers.25.post_attention_layernorm.weight\",\n",
      "    \"model.layers.25.self_attn.k_proj.weight\",\n",
      "    \"model.layers.25.self_attn.o_proj.weight\",\n",
      "    \"model.layers.25.self_attn.q_proj.weight\",\n",
      "    \"model.layers.25.self_attn.v_proj.weight\",\n",
      "    \"model.layers.26.input_layernorm.weight\",\n",
      "    \"model.layers.26.mlp.down_proj.weight\",\n",
      "    \"model.layers.26.mlp.gate_proj.weight\",\n",
      "    \"model.layers.26.mlp.up_proj.weight\",\n",
      "    \"model.layers.26.post_attention_layernorm.weight\",\n",
      "    \"model.layers.26.self_attn.k_proj.weight\",\n",
      "    \"model.layers.26.self_attn.o_proj.weight\",\n",
      "    \"model.layers.26.self_attn.q_proj.weight\",\n",
      "    \"model.layers.26.self_attn.v_proj.weight\",\n",
      "    \"model.layers.27.input_layernorm.weight\",\n",
      "    \"model.layers.27.mlp.down_proj.weight\",\n",
      "    \"model.layers.27.mlp.gate_proj.weight\",\n",
      "    \"model.layers.27.mlp.up_proj.weight\",\n",
      "    \"model.layers.27.post_attention_layernorm.weight\",\n",
      "    \"model.layers.27.self_attn.k_proj.weight\",\n",
      "    \"model.layers.27.self_attn.o_proj.weight\",\n",
      "    \"model.layers.27.self_attn.q_proj.weight\",\n",
      "    \"model.layers.27.self_attn.v_proj.weight\",\n",
      "    \"model.layers.28.input_layernorm.weight\",\n",
      "    \"model.layers.28.mlp.down_proj.weight\",\n",
      "    \"model.layers.28.mlp.gate_proj.weight\",\n",
      "    \"model.layers.28.mlp.up_proj.weight\",\n",
      "    \"model.layers.28.post_attention_layernorm.weight\",\n",
      "    \"model.layers.28.self_attn.k_proj.weight\",\n",
      "    \"model.layers.28.self_attn.o_proj.weight\",\n",
      "    \"model.layers.28.self_attn.q_proj.weight\",\n",
      "    \"model.layers.28.self_attn.v_proj.weight\",\n",
      "    \"model.layers.29.input_layernorm.weight\",\n",
      "    \"model.layers.29.mlp.down_proj.weight\",\n",
      "    \"model.layers.29.mlp.gate_proj.weight\",\n",
      "    \"model.layers.29.mlp.up_proj.weight\",\n",
      "    \"model.layers.29.post_attention_layernorm.weight\",\n",
      "    \"model.layers.29.self_attn.k_proj.weight\",\n",
      "    \"model.layers.29.self_attn.o_proj.weight\",\n",
      "    \"model.layers.29.self_attn.q_proj.weight\",\n",
      "    \"model.layers.29.self_attn.v_proj.weight\",\n",
      "    \"model.layers.30.input_layernorm.weight\",\n",
      "    \"model.layers.30.mlp.down_proj.weight\",\n",
      "    \"model.layers.30.mlp.gate_proj.weight\",\n",
      "    \"model.layers.30.mlp.up_proj.weight\",\n",
      "    \"model.layers.30.post_attention_layernorm.weight\",\n",
      "    \"model.layers.30.self_attn.k_proj.weight\",\n",
      "    \"model.layers.30.self_attn.o_proj.weight\",\n",
      "    \"model.layers.30.self_attn.q_proj.weight\",\n",
      "    \"model.layers.30.self_attn.v_proj.weight\",\n",
      "    \"model.layers.31.mlp.gate_proj.weight\",\n",
      "    \"model.layers.31.mlp.up_proj.weight\",\n",
      "    \"model.layers.31.self_attn.k_proj.weight\",\n",
      "    \"model.layers.31.self_attn.o_proj.weight\",\n",
      "    \"model.layers.31.self_attn.q_proj.weight\",\n",
      "    \"model.layers.31.self_attn.v_proj.weight\",\n",
      "    \"lm_head.weight\",\n",
      "    \"model.layers.31.input_layernorm.weight\",\n",
      "    \"model.layers.31.mlp.down_proj.weight\",\n",
      "    \"model.layers.31.post_attention_layernorm.weight\",\n",
      "    \"model.norm.weight\"\n",
      "]\n"
     ]
    }
   ],
   "source": [
    "from safetensors.torch import load_file \n",
    "import json\n",
    "model = load_file(\"../Llama3-8B-Chinese-Chat/model-00001-of-00004.safetensors\")\n",
    "model.update(load_file(\"../Llama3-8B-Chinese-Chat/model-00002-of-00004.safetensors\"))\n",
    "model.update(load_file(\"../Llama3-8B-Chinese-Chat/model-00003-of-00004.safetensors\"))\n",
    "model.update(load_file(\"../Llama3-8B-Chinese-Chat/model-00004-of-00004.safetensors\"))\n",
    "print(json.dumps(list(model.keys())[:], indent=4))"
   ]
  },
  {
   "cell_type": "code",
   "execution_count": 6,
   "id": "4f2d96ff-f193-4a58-881f-f29e94714295",
   "metadata": {
    "tags": []
   },
   "outputs": [
    {
     "data": {
      "text/plain": [
       "{'architectures': ['LlamaForCausalLM'],\n",
       " 'attention_bias': False,\n",
       " 'attention_dropout': 0.0,\n",
       " 'bos_token_id': 128000,\n",
       " 'eos_token_id': 128009,\n",
       " 'hidden_act': 'silu',\n",
       " 'hidden_size': 4096,\n",
       " 'initializer_range': 0.02,\n",
       " 'intermediate_size': 14336,\n",
       " 'max_position_embeddings': 8192,\n",
       " 'model_type': 'llama',\n",
       " 'num_attention_heads': 32,\n",
       " 'num_hidden_layers': 32,\n",
       " 'num_key_value_heads': 8,\n",
       " 'pretraining_tp': 1,\n",
       " 'rms_norm_eps': 1e-05,\n",
       " 'rope_scaling': None,\n",
       " 'rope_theta': 500000.0,\n",
       " 'tie_word_embeddings': False,\n",
       " 'torch_dtype': 'bfloat16',\n",
       " 'transformers_version': '4.40.0',\n",
       " 'use_cache': True,\n",
       " 'vocab_size': 128256}"
      ]
     },
     "execution_count": 6,
     "metadata": {},
     "output_type": "execute_result"
    }
   ],
   "source": [
    "with open(\"../Llama3-8B-Chinese-Chat/config.json\", \"r\") as f:\n",
    "    config = json.load(f)\n",
    "config"
   ]
  },
  {
   "cell_type": "code",
   "execution_count": 8,
   "id": "968a0549-95c9-4930-8156-0f2b42a93b2e",
   "metadata": {
    "tags": []
   },
   "outputs": [
    {
     "name": "stdout",
     "output_type": "stream",
     "text": [
      "['the', 'Ġanswer', 'Ġto', 'Ġthe', 'Ġultimate', 'Ġquestion', 'Ġof', 'Ġlife', ',', 'Ġthe', 'Ġuniverse', ',', 'Ġand', 'Ġeverything', 'Ġis', 'Ġ']\n",
      "{'input_ids': [1820, 4320, 311, 279, 17139, 3488, 315, 2324, 11, 279, 15861, 11, 323, 4395, 374, 220], 'attention_mask': [1, 1, 1, 1, 1, 1, 1, 1, 1, 1, 1, 1, 1, 1, 1, 1]}\n",
      "[128000, 1820, 4320, 311, 279, 17139, 3488, 315, 2324, 11, 279, 15861, 11, 323, 4395, 374, 220]\n",
      "['<|begin_of_text|>', 'the', ' answer', ' to', ' the', ' ultimate', ' question', ' of', ' life', ',', ' the', ' universe', ',', ' and', ' everything', ' is', ' ']\n"
     ]
    }
   ],
   "source": [
    "import torch\n",
    "prompt = \"the answer to the ultimate question of life, the universe, and everything is \"\n",
    "print(tokenizer.tokenize(prompt))\n",
    "print(tokenizer(prompt))\n",
    "tokens = [128000] + tokenizer.convert_tokens_to_ids(tokenizer.tokenize(prompt))\n",
    "print(tokens)\n",
    "tokens = torch.tensor(tokens)\n",
    "prompt_split_as_tokens = [tokenizer.decode([token.item()]) for token in tokens]\n",
    "print(prompt_split_as_tokens)"
   ]
  },
  {
   "cell_type": "code",
   "execution_count": 9,
   "id": "5990e076-22f4-42a1-af29-7f2e97103d54",
   "metadata": {
    "tags": []
   },
   "outputs": [
    {
     "data": {
      "text/plain": [
       "torch.Size([17, 4096])"
      ]
     },
     "execution_count": 9,
     "metadata": {},
     "output_type": "execute_result"
    }
   ],
   "source": [
    "embedding_layer = torch.nn.Embedding(128256, 4096)\n",
    "embedding_layer.weight.data.copy_(model[\"model.embed_tokens.weight\"])\n",
    "token_embeddings_unnormalized = embedding_layer(tokens).to(torch.bfloat16)\n",
    "token_embeddings_unnormalized.shape"
   ]
  },
  {
   "cell_type": "code",
   "execution_count": 10,
   "id": "0706bdd7-7d4b-4fae-9212-c69fb904f284",
   "metadata": {
    "tags": []
   },
   "outputs": [],
   "source": [
    "# def rms_norm(tensor, norm_weights):\n",
    "#     rms = (tensor.pow(2).mean(-1, keepdim=True) + norm_eps)**0.5\n",
    "#     return tensor * (norm_weights / rms)\n",
    "def rms_norm(tensor, norm_weights):\n",
    "    return (tensor * torch.rsqrt(tensor.pow(2).mean(-1, keepdim=True) + 1e-05)) * norm_weights"
   ]
  },
  {
   "cell_type": "code",
   "execution_count": 11,
   "id": "da2e15e3-b84b-42bf-90c3-fa1f8c30648c",
   "metadata": {
    "tags": []
   },
   "outputs": [
    {
     "data": {
      "text/plain": [
       "torch.Size([17, 4096])"
      ]
     },
     "execution_count": 11,
     "metadata": {},
     "output_type": "execute_result"
    }
   ],
   "source": [
    "token_embeddings = rms_norm(token_embeddings_unnormalized, model[\"model.layers.0.input_layernorm.weight\"])\n",
    "token_embeddings.shape"
   ]
  },
  {
   "cell_type": "code",
   "execution_count": 12,
   "id": "573d1c1c-0ff1-47a1-b1b0-099782eb01e8",
   "metadata": {
    "tags": []
   },
   "outputs": [
    {
     "name": "stdout",
     "output_type": "stream",
     "text": [
      "torch.Size([4096, 4096]) torch.Size([1024, 4096]) torch.Size([1024, 4096]) torch.Size([4096, 4096])\n"
     ]
    }
   ],
   "source": [
    "print(\n",
    "    model[\"model.layers.0.self_attn.q_proj.weight\"].shape,\n",
    "    model[\"model.layers.0.self_attn.k_proj.weight\"].shape,\n",
    "    model[\"model.layers.0.self_attn.v_proj.weight\"].shape,\n",
    "    model[\"model.layers.0.self_attn.o_proj.weight\"].shape\n",
    ")"
   ]
  },
  {
   "cell_type": "code",
   "execution_count": 13,
   "id": "db3103cd-9c78-457c-82d4-cab02f1a7029",
   "metadata": {
    "tags": []
   },
   "outputs": [
    {
     "data": {
      "text/plain": [
       "torch.Size([32, 128, 4096])"
      ]
     },
     "execution_count": 13,
     "metadata": {},
     "output_type": "execute_result"
    }
   ],
   "source": [
    "q_layer0 = model[\"model.layers.0.self_attn.q_proj.weight\"]\n",
    "head_dim = q_layer0.shape[0] // 32\n",
    "q_layer0 = q_layer0.view(32, head_dim, 4096)\n",
    "q_layer0.shape"
   ]
  },
  {
   "cell_type": "code",
   "execution_count": 14,
   "id": "6d292416-7dd9-4c00-ae9b-a0dbda396318",
   "metadata": {
    "tags": []
   },
   "outputs": [
    {
     "data": {
      "text/plain": [
       "torch.Size([128, 4096])"
      ]
     },
     "execution_count": 14,
     "metadata": {},
     "output_type": "execute_result"
    }
   ],
   "source": [
    "q_layer0_head0 = q_layer0[0]\n",
    "q_layer0_head0.shape"
   ]
  },
  {
   "cell_type": "code",
   "execution_count": 15,
   "id": "4e2f1d36-3b56-4521-aabd-ccdc3900a29b",
   "metadata": {
    "tags": []
   },
   "outputs": [
    {
     "data": {
      "text/plain": [
       "torch.Size([17, 128])"
      ]
     },
     "execution_count": 15,
     "metadata": {},
     "output_type": "execute_result"
    }
   ],
   "source": [
    "q_per_token = torch.matmul(token_embeddings, q_layer0_head0.T)\n",
    "q_per_token.shape"
   ]
  },
  {
   "cell_type": "code",
   "execution_count": 16,
   "id": "9bba72f1-8de2-4f8d-92cd-2a977e6457b7",
   "metadata": {
    "tags": []
   },
   "outputs": [
    {
     "data": {
      "text/plain": [
       "torch.Size([17, 64, 2])"
      ]
     },
     "execution_count": 16,
     "metadata": {},
     "output_type": "execute_result"
    }
   ],
   "source": [
    "q_per_token_split_into_pairs = q_per_token.float().view(q_per_token.shape[0], -1, 2)\n",
    "q_per_token_split_into_pairs.shape"
   ]
  },
  {
   "cell_type": "code",
   "execution_count": 17,
   "id": "64fac75f-9847-4965-9696-11d4d940fdb7",
   "metadata": {
    "tags": []
   },
   "outputs": [
    {
     "name": "stdout",
     "output_type": "stream",
     "text": [
      "tensor([0.0000, 0.0156, 0.0312, 0.0469, 0.0625, 0.0781, 0.0938, 0.1094, 0.1250,\n",
      "        0.1406, 0.1562, 0.1719, 0.1875, 0.2031, 0.2188, 0.2344, 0.2500, 0.2656,\n",
      "        0.2812, 0.2969, 0.3125, 0.3281, 0.3438, 0.3594, 0.3750, 0.3906, 0.4062,\n",
      "        0.4219, 0.4375, 0.4531, 0.4688, 0.4844, 0.5000, 0.5156, 0.5312, 0.5469,\n",
      "        0.5625, 0.5781, 0.5938, 0.6094, 0.6250, 0.6406, 0.6562, 0.6719, 0.6875,\n",
      "        0.7031, 0.7188, 0.7344, 0.7500, 0.7656, 0.7812, 0.7969, 0.8125, 0.8281,\n",
      "        0.8438, 0.8594, 0.8750, 0.8906, 0.9062, 0.9219, 0.9375, 0.9531, 0.9688,\n",
      "        0.9844])\n",
      "tensor([1.0000e+00, 8.1462e-01, 6.6360e-01, 5.4058e-01, 4.4037e-01, 3.5873e-01,\n",
      "        2.9223e-01, 2.3805e-01, 1.9392e-01, 1.5797e-01, 1.2869e-01, 1.0483e-01,\n",
      "        8.5397e-02, 6.9566e-02, 5.6670e-02, 4.6164e-02, 3.7606e-02, 3.0635e-02,\n",
      "        2.4955e-02, 2.0329e-02, 1.6560e-02, 1.3490e-02, 1.0990e-02, 8.9523e-03,\n",
      "        7.2927e-03, 5.9407e-03, 4.8394e-03, 3.9423e-03, 3.2114e-03, 2.6161e-03,\n",
      "        2.1311e-03, 1.7360e-03, 1.4142e-03, 1.1520e-03, 9.3847e-04, 7.6450e-04,\n",
      "        6.2277e-04, 5.0732e-04, 4.1327e-04, 3.3666e-04, 2.7425e-04, 2.2341e-04,\n",
      "        1.8199e-04, 1.4825e-04, 1.2077e-04, 9.8381e-05, 8.0143e-05, 6.5286e-05,\n",
      "        5.3183e-05, 4.3324e-05, 3.5292e-05, 2.8750e-05, 2.3420e-05, 1.9078e-05,\n",
      "        1.5542e-05, 1.2660e-05, 1.0313e-05, 8.4015e-06, 6.8440e-06, 5.5752e-06,\n",
      "        4.5417e-06, 3.6997e-06, 3.0139e-06, 2.4551e-06])\n"
     ]
    }
   ],
   "source": [
    "zero_to_one_split_into_64_parts = torch.tensor(range(64))/64\n",
    "print(zero_to_one_split_into_64_parts)\n",
    "freqs = 1.0 / (500000.0 ** zero_to_one_split_into_64_parts)\n",
    "print(freqs)"
   ]
  },
  {
   "cell_type": "code",
   "execution_count": 19,
   "id": "bc2bd40d-3d29-4e86-b6fd-be6546223d13",
   "metadata": {
    "tags": []
   },
   "outputs": [
    {
     "data": {
      "image/png": "[encoded data removed]",
      "text/plain": [
       "<Figure size 640x480 with 1 Axes>"
      ]
     },
     "metadata": {},
     "output_type": "display_data"
    }
   ],
   "source": [
    "import matplotlib.pyplot as plt\n",
    "freqs_for_each_token = torch.outer(torch.arange(17), freqs)\n",
    "freqs_cis = torch.polar(torch.ones_like(freqs_for_each_token), freqs_for_each_token)\n",
    "freqs_cis.shape\n",
    "\n",
    "# viewing tjhe third row of freqs_cis\n",
    "value = freqs_cis[3]\n",
    "plt.figure()\n",
    "for i, element in enumerate(value[:17]):\n",
    "    plt.plot([0, element.real], [0, element.imag], color='blue', linewidth=1, label=f\"Index: {i}\")\n",
    "    plt.annotate(f\"{i}\", xy=(element.real, element.imag), color='red')\n",
    "plt.xlabel('Real')\n",
    "plt.ylabel('Imaginary')\n",
    "plt.title('Plot of one row of freqs_cis')\n",
    "plt.show()"
   ]
  },
  {
   "cell_type": "code",
   "execution_count": 20,
   "id": "a1ced1ae-65c5-489d-ab2d-584fedac70a7",
   "metadata": {
    "tags": []
   },
   "outputs": [
    {
     "data": {
      "text/plain": [
       "torch.Size([17, 64])"
      ]
     },
     "execution_count": 20,
     "metadata": {},
     "output_type": "execute_result"
    }
   ],
   "source": [
    "q_per_token_as_complex_numbers = torch.view_as_complex(q_per_token_split_into_pairs)\n",
    "q_per_token_as_complex_numbers.shape"
   ]
  },
  {
   "cell_type": "code",
   "execution_count": 21,
   "id": "ae5d0e77-a088-4914-8ae9-655dead82a44",
   "metadata": {
    "tags": []
   },
   "outputs": [
    {
     "data": {
      "text/plain": [
       "torch.Size([17, 64])"
      ]
     },
     "execution_count": 21,
     "metadata": {},
     "output_type": "execute_result"
    }
   ],
   "source": [
    "q_per_token_as_complex_numbers_rotated = q_per_token_as_complex_numbers * freqs_cis\n",
    "q_per_token_as_complex_numbers_rotated.shape"
   ]
  },
  {
   "cell_type": "code",
   "execution_count": 32,
   "id": "dd108df5-d00a-4f34-9fa0-1ff2eba58a98",
   "metadata": {
    "tags": []
   },
   "outputs": [
    {
     "data": {
      "text/plain": [
       "torch.Size([17, 64, 2])"
      ]
     },
     "execution_count": 32,
     "metadata": {},
     "output_type": "execute_result"
    }
   ],
   "source": [
    "q_per_token_split_into_pairs_rotated = torch.view_as_real(q_per_token_as_complex_numbers_rotated)\n",
    "q_per_token_split_into_pairs_rotated.shape"
   ]
  },
  {
   "cell_type": "code",
   "execution_count": 33,
   "id": "b1451c02-3927-4bf8-a0f5-6234b0f05f1e",
   "metadata": {
    "tags": []
   },
   "outputs": [
    {
     "data": {
      "text/plain": [
       "torch.Size([17, 128])"
      ]
     },
     "execution_count": 33,
     "metadata": {},
     "output_type": "execute_result"
    }
   ],
   "source": [
    "q_per_token_rotated = q_per_token_split_into_pairs_rotated.view(q_per_token.shape)\n",
    "q_per_token_rotated.shape"
   ]
  },
  {
   "cell_type": "code",
   "execution_count": 24,
   "id": "68a5ec46-05be-4cb4-82f1-1e233e9b615c",
   "metadata": {
    "tags": []
   },
   "outputs": [
    {
     "data": {
      "text/plain": [
       "torch.Size([8, 128, 4096])"
      ]
     },
     "execution_count": 24,
     "metadata": {},
     "output_type": "execute_result"
    }
   ],
   "source": [
    "k_layer0 = model[\"model.layers.0.self_attn.k_proj.weight\"]\n",
    "k_layer0 = k_layer0.view(8, k_layer0.shape[0] // 8, 4096)\n",
    "k_layer0.shape"
   ]
  },
  {
   "cell_type": "code",
   "execution_count": 25,
   "id": "03e32d56-6a36-4fba-863e-7b4edb781c4d",
   "metadata": {
    "tags": []
   },
   "outputs": [
    {
     "data": {
      "text/plain": [
       "torch.Size([128, 4096])"
      ]
     },
     "execution_count": 25,
     "metadata": {},
     "output_type": "execute_result"
    }
   ],
   "source": [
    "k_layer0_head0 = k_layer0[0]\n",
    "k_layer0_head0.shape"
   ]
  },
  {
   "cell_type": "code",
   "execution_count": 26,
   "id": "f8afa8e9-b119-47a0-b436-1d1244379c31",
   "metadata": {
    "tags": []
   },
   "outputs": [
    {
     "data": {
      "text/plain": [
       "torch.Size([17, 128])"
      ]
     },
     "execution_count": 26,
     "metadata": {},
     "output_type": "execute_result"
    }
   ],
   "source": [
    "k_per_token = torch.matmul(token_embeddings, k_layer0_head0.T)\n",
    "k_per_token.shape"
   ]
  },
  {
   "cell_type": "code",
   "execution_count": 27,
   "id": "48e62e13-6eb7-489d-bc48-b1b6309774ce",
   "metadata": {
    "tags": []
   },
   "outputs": [
    {
     "data": {
      "text/plain": [
       "torch.Size([17, 64, 2])"
      ]
     },
     "execution_count": 27,
     "metadata": {},
     "output_type": "execute_result"
    }
   ],
   "source": [
    "k_per_token_split_into_pairs = k_per_token.float().view(k_per_token.shape[0], -1, 2)\n",
    "k_per_token_split_into_pairs.shape"
   ]
  },
  {
   "cell_type": "code",
   "execution_count": 28,
   "id": "c4c85a7e-50db-4eb5-bbdc-1a6bb28d6d90",
   "metadata": {
    "tags": []
   },
   "outputs": [
    {
     "data": {
      "text/plain": [
       "torch.Size([17, 64])"
      ]
     },
     "execution_count": 28,
     "metadata": {},
     "output_type": "execute_result"
    }
   ],
   "source": [
    "k_per_token_as_complex_numbers = torch.view_as_complex(k_per_token_split_into_pairs)\n",
    "k_per_token_as_complex_numbers.shape"
   ]
  },
  {
   "cell_type": "code",
   "execution_count": 29,
   "id": "50177d04-1454-4601-be2e-eb4df2f48249",
   "metadata": {
    "tags": []
   },
   "outputs": [
    {
     "data": {
      "text/plain": [
       "torch.Size([17, 64, 2])"
      ]
     },
     "execution_count": 29,
     "metadata": {},
     "output_type": "execute_result"
    }
   ],
   "source": [
    "k_per_token_split_into_pairs_rotated = torch.view_as_real(k_per_token_as_complex_numbers * freqs_cis)\n",
    "k_per_token_split_into_pairs_rotated.shape"
   ]
  },
  {
   "cell_type": "code",
   "execution_count": 30,
   "id": "e1d45e90-16cb-45d0-bede-d1b7959dd6f9",
   "metadata": {
    "tags": []
   },
   "outputs": [
    {
     "data": {
      "text/plain": [
       "torch.Size([17, 128])"
      ]
     },
     "execution_count": 30,
     "metadata": {},
     "output_type": "execute_result"
    }
   ],
   "source": [
    "k_per_token_rotated = k_per_token_split_into_pairs_rotated.view(k_per_token.shape)\n",
    "k_per_token_rotated.shape"
   ]
  },
  {
   "cell_type": "code",
   "execution_count": 34,
   "id": "7e84659e-f0a4-4207-8794-3bd13515b3b6",
   "metadata": {
    "tags": []
   },
   "outputs": [
    {
     "data": {
      "text/plain": [
       "torch.Size([17, 17])"
      ]
     },
     "execution_count": 34,
     "metadata": {},
     "output_type": "execute_result"
    }
   ],
   "source": [
    "qk_per_token = torch.matmul(q_per_token_rotated, k_per_token_rotated.T)/(head_dim)**0.5\n",
    "qk_per_token.shape"
   ]
  },
  {
   "cell_type": "code",
   "execution_count": 35,
   "id": "21f06073-b003-40aa-b12f-8b77754ab386",
   "metadata": {
    "tags": []
   },
   "outputs": [
    {
     "data": {
      "image/png": "[encoded data removed]",
      "text/plain": [
       "<Figure size 640x480 with 2 Axes>"
      ]
     },
     "metadata": {},
     "output_type": "display_data"
    }
   ],
   "source": [
    "def display_qk_heatmap(qk_per_token):\n",
    "    _, ax = plt.subplots()\n",
    "    im = ax.imshow(qk_per_token.to(float).detach(), cmap='viridis')\n",
    "    ax.set_xticks(range(len(prompt_split_as_tokens)))\n",
    "    ax.set_yticks(range(len(prompt_split_as_tokens)))\n",
    "    ax.set_xticklabels(prompt_split_as_tokens)\n",
    "    ax.set_yticklabels(prompt_split_as_tokens)\n",
    "    ax.figure.colorbar(im, ax=ax)\n",
    "    \n",
    "display_qk_heatmap(qk_per_token)"
   ]
  },
  {
   "cell_type": "code",
   "execution_count": 36,
   "id": "f5574eaf-6198-4c7e-8186-943e4ade4cea",
   "metadata": {
    "tags": []
   },
   "outputs": [
    {
     "data": {
      "text/plain": [
       "tensor([[0., -inf, -inf, -inf, -inf, -inf, -inf, -inf, -inf, -inf, -inf, -inf, -inf, -inf, -inf, -inf, -inf],\n",
       "        [0., 0., -inf, -inf, -inf, -inf, -inf, -inf, -inf, -inf, -inf, -inf, -inf, -inf, -inf, -inf, -inf],\n",
       "        [0., 0., 0., -inf, -inf, -inf, -inf, -inf, -inf, -inf, -inf, -inf, -inf, -inf, -inf, -inf, -inf],\n",
       "        [0., 0., 0., 0., -inf, -inf, -inf, -inf, -inf, -inf, -inf, -inf, -inf, -inf, -inf, -inf, -inf],\n",
       "        [0., 0., 0., 0., 0., -inf, -inf, -inf, -inf, -inf, -inf, -inf, -inf, -inf, -inf, -inf, -inf],\n",
       "        [0., 0., 0., 0., 0., 0., -inf, -inf, -inf, -inf, -inf, -inf, -inf, -inf, -inf, -inf, -inf],\n",
       "        [0., 0., 0., 0., 0., 0., 0., -inf, -inf, -inf, -inf, -inf, -inf, -inf, -inf, -inf, -inf],\n",
       "        [0., 0., 0., 0., 0., 0., 0., 0., -inf, -inf, -inf, -inf, -inf, -inf, -inf, -inf, -inf],\n",
       "        [0., 0., 0., 0., 0., 0., 0., 0., 0., -inf, -inf, -inf, -inf, -inf, -inf, -inf, -inf],\n",
       "        [0., 0., 0., 0., 0., 0., 0., 0., 0., 0., -inf, -inf, -inf, -inf, -inf, -inf, -inf],\n",
       "        [0., 0., 0., 0., 0., 0., 0., 0., 0., 0., 0., -inf, -inf, -inf, -inf, -inf, -inf],\n",
       "        [0., 0., 0., 0., 0., 0., 0., 0., 0., 0., 0., 0., -inf, -inf, -inf, -inf, -inf],\n",
       "        [0., 0., 0., 0., 0., 0., 0., 0., 0., 0., 0., 0., 0., -inf, -inf, -inf, -inf],\n",
       "        [0., 0., 0., 0., 0., 0., 0., 0., 0., 0., 0., 0., 0., 0., -inf, -inf, -inf],\n",
       "        [0., 0., 0., 0., 0., 0., 0., 0., 0., 0., 0., 0., 0., 0., 0., -inf, -inf],\n",
       "        [0., 0., 0., 0., 0., 0., 0., 0., 0., 0., 0., 0., 0., 0., 0., 0., -inf],\n",
       "        [0., 0., 0., 0., 0., 0., 0., 0., 0., 0., 0., 0., 0., 0., 0., 0., 0.]])"
      ]
     },
     "execution_count": 36,
     "metadata": {},
     "output_type": "execute_result"
    }
   ],
   "source": [
    "mask = torch.full((len(tokens), len(tokens)), float(\"-inf\"), device=tokens.device)\n",
    "mask = torch.triu(mask, diagonal=1)\n",
    "mask"
   ]
  },
  {
   "cell_type": "code",
   "execution_count": 37,
   "id": "d810d597-117e-4004-9974-1c802e37f9e8",
   "metadata": {
    "tags": []
   },
   "outputs": [
    {
     "data": {
      "image/png": "[encoded data removed]",
      "text/plain": [
       "<Figure size 640x480 with 2 Axes>"
      ]
     },
     "metadata": {},
     "output_type": "display_data"
    }
   ],
   "source": [
    "qk_per_token_after_masking = qk_per_token + mask\n",
    "display_qk_heatmap(qk_per_token_after_masking)"
   ]
  },
  {
   "cell_type": "code",
   "execution_count": 38,
   "id": "0246b6d4-06c3-427b-9e4e-1703da5b1cdf",
   "metadata": {
    "tags": []
   },
   "outputs": [
    {
     "data": {
      "image/png": "[encoded data removed]",
      "text/plain": [
       "<Figure size 640x480 with 2 Axes>"
      ]
     },
     "metadata": {},
     "output_type": "display_data"
    }
   ],
   "source": [
    "qk_per_token_after_masking_after_softmax = torch.nn.functional.softmax(qk_per_token_after_masking, dim=1).to(torch.bfloat16)\n",
    "display_qk_heatmap(qk_per_token_after_masking_after_softmax)"
   ]
  },
  {
   "cell_type": "code",
   "execution_count": 40,
   "id": "763ca64b-87b5-4e46-ab55-d11aff557bd3",
   "metadata": {
    "tags": []
   },
   "outputs": [
    {
     "data": {
      "text/plain": [
       "torch.Size([8, 128, 4096])"
      ]
     },
     "execution_count": 40,
     "metadata": {},
     "output_type": "execute_result"
    }
   ],
   "source": [
    "v_layer0 = model[\"model.layers.0.self_attn.v_proj.weight\"]\n",
    "v_layer0 = v_layer0.view(8, v_layer0.shape[0] // 8, 4096)\n",
    "v_layer0.shape"
   ]
  },
  {
   "cell_type": "code",
   "execution_count": 41,
   "id": "8325ed92-40ba-4b3b-8500-11d78e436210",
   "metadata": {
    "tags": []
   },
   "outputs": [
    {
     "data": {
      "text/plain": [
       "torch.Size([128, 4096])"
      ]
     },
     "execution_count": 41,
     "metadata": {},
     "output_type": "execute_result"
    }
   ],
   "source": [
    "v_layer0_head0 = v_layer0[0]\n",
    "v_layer0_head0.shape"
   ]
  },
  {
   "cell_type": "code",
   "execution_count": 42,
   "id": "5df8ea78-5e49-485a-a345-651be5926430",
   "metadata": {
    "tags": []
   },
   "outputs": [
    {
     "data": {
      "text/plain": [
       "torch.Size([17, 128])"
      ]
     },
     "execution_count": 42,
     "metadata": {},
     "output_type": "execute_result"
    }
   ],
   "source": [
    "v_per_token = torch.matmul(token_embeddings, v_layer0_head0.T)\n",
    "v_per_token.shape"
   ]
  },
  {
   "cell_type": "code",
   "execution_count": 43,
   "id": "7f7cb572-364d-44ef-aaf6-323d8cf641b3",
   "metadata": {
    "tags": []
   },
   "outputs": [
    {
     "data": {
      "text/plain": [
       "torch.Size([17, 128])"
      ]
     },
     "execution_count": 43,
     "metadata": {},
     "output_type": "execute_result"
    }
   ],
   "source": [
    "qkv_attention = torch.matmul(qk_per_token_after_masking_after_softmax, v_per_token)\n",
    "qkv_attention.shape"
   ]
  },
  {
   "cell_type": "code",
   "execution_count": 46,
   "id": "6d214f6f-b975-4dc4-aebd-0912df0d7853",
   "metadata": {
    "scrolled": true,
    "tags": []
   },
   "outputs": [
    {
     "data": {
      "text/plain": [
       "[tensor([[ 1.4587e-02,  5.9509e-04,  2.9541e-02,  ..., -2.4780e-02,\n",
       "          -3.9368e-03,  7.0801e-02],\n",
       "         [ 1.3550e-02, -3.0756e-05,  3.0762e-02,  ..., -2.3926e-02,\n",
       "          -6.4392e-03,  6.0059e-02],\n",
       "         [ 1.4038e-02,  6.9427e-04,  2.9053e-02,  ..., -2.1851e-02,\n",
       "          -3.1738e-03,  6.4453e-02],\n",
       "         ...,\n",
       "         [ 5.9814e-03, -1.1230e-02,  2.0752e-02,  ..., -1.3611e-02,\n",
       "          -1.2329e-02,  3.3447e-02],\n",
       "         [ 1.3489e-02,  5.2185e-03,  2.6123e-02,  ..., -1.3733e-02,\n",
       "          -1.0157e-04,  4.7363e-02],\n",
       "         [ 1.5442e-02,  1.6403e-03,  2.3071e-02,  ..., -1.6479e-02,\n",
       "          -6.8665e-03,  4.8584e-02]], dtype=torch.bfloat16,\n",
       "        grad_fn=<MmBackward0>),\n",
       " tensor([[ 0.0146,  0.0006,  0.0295,  ..., -0.0248, -0.0039,  0.0708],\n",
       "         [ 0.0129, -0.0004,  0.0317,  ..., -0.0234, -0.0081,  0.0532],\n",
       "         [ 0.0136,  0.0003,  0.0299,  ..., -0.0223, -0.0049,  0.0603],\n",
       "         ...,\n",
       "         [-0.0025, -0.0018,  0.0276,  ..., -0.0029, -0.0093,  0.0310],\n",
       "         [-0.0012, -0.0049,  0.0177,  ...,  0.0011, -0.0017,  0.0157],\n",
       "         [ 0.0128,  0.0002,  0.0199,  ...,  0.0008, -0.0034,  0.0132]],\n",
       "        dtype=torch.bfloat16, grad_fn=<MmBackward0>),\n",
       " tensor([[ 0.0146,  0.0006,  0.0295,  ..., -0.0248, -0.0039,  0.0708],\n",
       "         [ 0.0123, -0.0008,  0.0325,  ..., -0.0229, -0.0095,  0.0474],\n",
       "         [ 0.0112,  0.0025,  0.0233,  ...,  0.0007,  0.0069,  0.0298],\n",
       "         ...,\n",
       "         [ 0.0061, -0.0076,  0.0217,  ..., -0.0090, -0.0162,  0.0238],\n",
       "         [ 0.0171,  0.0149,  0.0244,  ..., -0.0039,  0.0105,  0.0253],\n",
       "         [ 0.0249,  0.0087,  0.0080,  ..., -0.0106, -0.0096,  0.0422]],\n",
       "        dtype=torch.bfloat16, grad_fn=<MmBackward0>),\n",
       " tensor([[ 0.0146,  0.0006,  0.0295,  ..., -0.0248, -0.0039,  0.0708],\n",
       "         [ 0.0126, -0.0006,  0.0320,  ..., -0.0233, -0.0087,  0.0508],\n",
       "         [ 0.0142,  0.0005,  0.0298,  ..., -0.0237, -0.0043,  0.0664],\n",
       "         ...,\n",
       "         [-0.0043, -0.0025,  0.0293,  ..., -0.0065, -0.0042,  0.0454],\n",
       "         [-0.0045, -0.0021,  0.0286,  ..., -0.0060, -0.0036,  0.0457],\n",
       "         [ 0.0045, -0.0007,  0.0280,  ..., -0.0137, -0.0040,  0.0562]],\n",
       "        dtype=torch.bfloat16, grad_fn=<MmBackward0>),\n",
       " tensor([[-4.6921e-04, -2.6703e-03,  7.0953e-04,  ..., -9.0027e-04,\n",
       "           1.4496e-03, -5.1498e-04],\n",
       "         [ 7.5150e-04, -2.8534e-03,  2.9755e-04,  ..., -4.2725e-04,\n",
       "           4.2419e-03, -1.9379e-03],\n",
       "         [ 3.7537e-03, -3.4943e-03, -1.7090e-03,  ...,  2.0142e-03,\n",
       "           7.6599e-03, -7.6599e-03],\n",
       "         ...,\n",
       "         [ 1.9836e-03, -6.8665e-04, -3.1891e-03,  ..., -1.8387e-03,\n",
       "           3.4637e-03, -5.4932e-04],\n",
       "         [ 3.6316e-03, -1.7471e-03, -3.2501e-03,  ..., -1.0605e-03,\n",
       "           2.2888e-03,  2.9355e-06],\n",
       "         [ 2.1057e-03, -1.1673e-03, -1.8005e-03,  ...,  5.6267e-05,\n",
       "           2.0905e-03, -6.9427e-04]], dtype=torch.bfloat16,\n",
       "        grad_fn=<MmBackward0>),\n",
       " tensor([[-0.0005, -0.0027,  0.0007,  ..., -0.0009,  0.0014, -0.0005],\n",
       "         [ 0.0011, -0.0029,  0.0002,  ..., -0.0003,  0.0050, -0.0023],\n",
       "         [ 0.0019, -0.0031, -0.0006,  ...,  0.0006,  0.0052, -0.0044],\n",
       "         ...,\n",
       "         [ 0.0018, -0.0007, -0.0033,  ..., -0.0020,  0.0037, -0.0006],\n",
       "         [ 0.0031, -0.0012, -0.0025,  ..., -0.0009,  0.0020, -0.0003],\n",
       "         [ 0.0022, -0.0008, -0.0020,  ...,  0.0001,  0.0021, -0.0008]],\n",
       "        dtype=torch.bfloat16, grad_fn=<MmBackward0>),\n",
       " tensor([[-4.6921e-04, -2.6703e-03,  7.0953e-04,  ..., -9.0027e-04,\n",
       "           1.4496e-03, -5.1498e-04],\n",
       "         [ 3.4485e-03, -3.2501e-03, -6.1035e-04,  ...,  6.1417e-04,\n",
       "           1.0437e-02, -5.0964e-03],\n",
       "         [ 3.3569e-03, -3.3875e-03, -1.3046e-03,  ...,  1.5182e-03,\n",
       "           7.6904e-03, -6.6223e-03],\n",
       "         ...,\n",
       "         [ 2.3956e-03, -1.4801e-03, -4.2725e-03,  ..., -2.3956e-03,\n",
       "           4.9744e-03, -3.7575e-04],\n",
       "         [ 7.0496e-03, -1.1902e-02, -1.4587e-02,  ..., -7.1716e-03,\n",
       "           7.7515e-03,  4.3335e-03],\n",
       "         [ 3.1586e-03, -4.1809e-03, -5.4626e-03,  ..., -1.6251e-03,\n",
       "           4.3640e-03,  5.0068e-05]], dtype=torch.bfloat16,\n",
       "        grad_fn=<MmBackward0>),\n",
       " tensor([[-0.0005, -0.0027,  0.0007,  ..., -0.0009,  0.0014, -0.0005],\n",
       "         [ 0.0009, -0.0029,  0.0003,  ..., -0.0004,  0.0045, -0.0021],\n",
       "         [ 0.0131, -0.0056, -0.0083,  ...,  0.0101,  0.0172, -0.0262],\n",
       "         ...,\n",
       "         [ 0.0033, -0.0064, -0.0093,  ..., -0.0054,  0.0073,  0.0016],\n",
       "         [ 0.0182, -0.0447, -0.0498,  ..., -0.0269,  0.0199,  0.0208],\n",
       "         [ 0.0024, -0.0019, -0.0031,  ..., -0.0004,  0.0033, -0.0007]],\n",
       "        dtype=torch.bfloat16, grad_fn=<MmBackward0>),\n",
       " tensor([[ 0.0033, -0.0044, -0.0030,  ...,  0.0005,  0.0015, -0.0029],\n",
       "         [ 0.0031,  0.0021, -0.0014,  ..., -0.0035, -0.0031, -0.0037],\n",
       "         [ 0.0070,  0.0049, -0.0029,  ..., -0.0072, -0.0033, -0.0028],\n",
       "         ...,\n",
       "         [-0.0004, -0.0040, -0.0022,  ...,  0.0005, -0.0126,  0.0035],\n",
       "         [ 0.0038, -0.0045, -0.0048,  ...,  0.0049, -0.0094,  0.0015],\n",
       "         [ 0.0024, -0.0049, -0.0043,  ...,  0.0019, -0.0081,  0.0027]],\n",
       "        dtype=torch.bfloat16, grad_fn=<MmBackward0>),\n",
       " tensor([[ 0.0033, -0.0044, -0.0030,  ...,  0.0005,  0.0015, -0.0029],\n",
       "         [ 0.0032, -0.0007, -0.0021,  ..., -0.0018, -0.0011, -0.0033],\n",
       "         [ 0.0043, -0.0011, -0.0028,  ..., -0.0021, -0.0003, -0.0029],\n",
       "         ...,\n",
       "         [ 0.0017, -0.0060, -0.0038,  ...,  0.0008, -0.0052,  0.0004],\n",
       "         [ 0.0063, -0.0026, -0.0060,  ...,  0.0046, -0.0025, -0.0008],\n",
       "         [ 0.0025, -0.0025, -0.0030,  ...,  0.0022, -0.0025,  0.0024]],\n",
       "        dtype=torch.bfloat16, grad_fn=<MmBackward0>),\n",
       " tensor([[ 0.0033, -0.0044, -0.0030,  ...,  0.0005,  0.0015, -0.0029],\n",
       "         [ 0.0032, -0.0002, -0.0020,  ..., -0.0021, -0.0014, -0.0034],\n",
       "         [ 0.0050,  0.0084, -0.0010,  ..., -0.0084, -0.0066, -0.0038],\n",
       "         ...,\n",
       "         [ 0.0013, -0.0007, -0.0030,  ..., -0.0019, -0.0067,  0.0068],\n",
       "         [ 0.0025, -0.0009, -0.0040,  ...,  0.0005, -0.0068,  0.0064],\n",
       "         [ 0.0023, -0.0014, -0.0036,  ...,  0.0045, -0.0080,  0.0064]],\n",
       "        dtype=torch.bfloat16, grad_fn=<MmBackward0>),\n",
       " tensor([[ 0.0033, -0.0044, -0.0030,  ...,  0.0005,  0.0015, -0.0029],\n",
       "         [ 0.0032,  0.0014, -0.0016,  ..., -0.0031, -0.0026, -0.0036],\n",
       "         [ 0.0128,  0.0117, -0.0046,  ..., -0.0143, -0.0054, -0.0018],\n",
       "         ...,\n",
       "         [-0.0054, -0.0121, -0.0049,  ...,  0.0052, -0.0198,  0.0072],\n",
       "         [-0.0007, -0.0078, -0.0058,  ...,  0.0058, -0.0152,  0.0056],\n",
       "         [ 0.0036, -0.0090, -0.0081,  ...,  0.0010, -0.0112,  0.0026]],\n",
       "        dtype=torch.bfloat16, grad_fn=<MmBackward0>),\n",
       " tensor([[ 1.8463e-03,  3.2663e-05, -6.9809e-04,  ..., -7.3624e-04,\n",
       "          -9.2506e-05, -1.5259e-03],\n",
       "         [ 1.3275e-03,  2.3174e-04, -6.8665e-04,  ..., -1.1902e-03,\n",
       "           1.7071e-04, -2.4567e-03],\n",
       "         [ 1.5564e-03,  2.7418e-05, -4.2725e-04,  ..., -7.2479e-04,\n",
       "           2.3746e-04, -2.4872e-03],\n",
       "         ...,\n",
       "         [-1.8845e-03,  1.4038e-03, -4.5204e-04,  ...,  9.8419e-04,\n",
       "           4.9973e-04, -1.4572e-03],\n",
       "         [-1.8005e-03,  1.0757e-03, -4.9210e-04,  ...,  3.0708e-04,\n",
       "           7.6294e-04, -1.2741e-03],\n",
       "         [-2.5330e-03,  1.0910e-03, -8.5449e-04,  ...,  1.3351e-03,\n",
       "           5.0735e-04, -1.7090e-03]], dtype=torch.bfloat16,\n",
       "        grad_fn=<MmBackward0>),\n",
       " tensor([[ 1.8463e-03,  3.2663e-05, -6.9809e-04,  ..., -7.3624e-04,\n",
       "          -9.2506e-05, -1.5259e-03],\n",
       "         [ 1.2207e-03,  2.7084e-04, -6.8283e-04,  ..., -1.2741e-03,\n",
       "           2.2221e-04, -2.6398e-03],\n",
       "         [ 1.4191e-03,  6.2466e-05, -3.7956e-04,  ..., -8.0490e-04,\n",
       "           3.4142e-04, -2.8229e-03],\n",
       "         ...,\n",
       "         [-1.9379e-03,  1.6022e-03, -4.2677e-05,  ...,  1.1749e-03,\n",
       "           7.9346e-04, -1.6479e-03],\n",
       "         [-9.6512e-04,  1.3161e-04,  6.8665e-04,  ..., -8.5449e-04,\n",
       "           9.1171e-04, -9.7656e-04],\n",
       "         [-2.1210e-03,  6.5994e-04, -5.2261e-04,  ...,  1.0834e-03,\n",
       "           2.4223e-04, -1.2741e-03]], dtype=torch.bfloat16,\n",
       "        grad_fn=<MmBackward0>),\n",
       " tensor([[ 1.8463e-03,  3.2663e-05, -6.9809e-04,  ..., -7.3624e-04,\n",
       "          -9.2506e-05, -1.5259e-03],\n",
       "         [ 1.5717e-03,  1.4019e-04, -6.9046e-04,  ..., -9.7656e-04,\n",
       "           4.9353e-05, -2.0294e-03],\n",
       "         [ 1.7395e-03,  2.3961e-05, -5.8365e-04,  ..., -7.1716e-04,\n",
       "           3.8862e-05, -1.9073e-03],\n",
       "         ...,\n",
       "         [-1.2131e-03,  1.0223e-03, -5.6839e-04,  ...,  5.6458e-04,\n",
       "           2.4796e-04, -1.1749e-03],\n",
       "         [-1.3885e-03,  6.1417e-04, -4.2343e-04,  ..., -1.9741e-04,\n",
       "           3.2806e-04, -9.5749e-04],\n",
       "         [-4.3030e-03,  1.2493e-04, -1.7242e-03,  ...,  1.4114e-04,\n",
       "           1.0757e-03, -3.9978e-03]], dtype=torch.bfloat16,\n",
       "        grad_fn=<MmBackward0>),\n",
       " tensor([[ 1.8463e-03,  3.2663e-05, -6.9809e-04,  ..., -7.3624e-04,\n",
       "          -9.2506e-05, -1.5259e-03],\n",
       "         [-3.2043e-03,  1.9684e-03, -5.6458e-04,  ..., -5.0964e-03,\n",
       "           2.4719e-03, -1.0620e-02],\n",
       "         [-4.7302e-03, -2.9755e-04,  6.0425e-03,  ..., -6.8545e-07,\n",
       "           7.8735e-03, -2.4780e-02],\n",
       "         ...,\n",
       "         [-6.3171e-03,  4.5471e-03,  3.7956e-04,  ...,  3.7842e-03,\n",
       "           2.1973e-03, -3.4027e-03],\n",
       "         [-5.3101e-03,  1.8845e-03,  1.3733e-03,  ..., -4.7112e-04,\n",
       "           2.8687e-03, -2.7618e-03],\n",
       "         [-3.4332e-03, -9.6893e-04, -4.5776e-04,  ...,  1.4572e-03,\n",
       "          -5.3787e-04, -1.4343e-03]], dtype=torch.bfloat16,\n",
       "        grad_fn=<MmBackward0>),\n",
       " tensor([[ 0.0021,  0.0014,  0.0011,  ...,  0.0014, -0.0007, -0.0034],\n",
       "         [ 0.0018,  0.0012,  0.0008,  ...,  0.0019, -0.0008, -0.0037],\n",
       "         [ 0.0015,  0.0008,  0.0009,  ...,  0.0019, -0.0011, -0.0037],\n",
       "         ...,\n",
       "         [ 0.0001,  0.0014, -0.0006,  ...,  0.0004,  0.0003, -0.0014],\n",
       "         [ 0.0008,  0.0012,  0.0003,  ...,  0.0006, -0.0003, -0.0020],\n",
       "         [ 0.0005,  0.0007,  0.0002,  ...,  0.0011, -0.0002, -0.0020]],\n",
       "        dtype=torch.bfloat16, grad_fn=<MmBackward0>),\n",
       " tensor([[ 2.0599e-03,  1.3962e-03,  1.1139e-03,  ...,  1.3580e-03,\n",
       "          -7.1335e-04, -3.4180e-03],\n",
       "         [ 1.5259e-03,  1.0605e-03,  3.7575e-04,  ...,  2.4872e-03,\n",
       "          -8.4686e-04, -4.0283e-03],\n",
       "         [-4.7302e-03, -4.2419e-03, -4.5776e-03,  ...,  1.1353e-02,\n",
       "          -4.1809e-03, -8.9111e-03],\n",
       "         ...,\n",
       "         [ 5.4169e-04, -2.6703e-03, -7.1716e-03,  ...,  3.6316e-03,\n",
       "           1.4572e-03,  2.5940e-03],\n",
       "         [ 7.2861e-04, -1.2741e-03, -2.7313e-03,  ...,  2.1667e-03,\n",
       "          -2.0313e-04,  1.3351e-03],\n",
       "         [ 3.2043e-04,  8.7738e-04, -8.2493e-05,  ...,  1.0986e-03,\n",
       "           4.3154e-05, -1.8768e-03]], dtype=torch.bfloat16,\n",
       "        grad_fn=<MmBackward0>),\n",
       " tensor([[ 0.0021,  0.0014,  0.0011,  ...,  0.0014, -0.0007, -0.0034],\n",
       "         [ 0.0020,  0.0013,  0.0010,  ...,  0.0015, -0.0007, -0.0035],\n",
       "         [ 0.0019,  0.0013,  0.0010,  ...,  0.0016, -0.0008, -0.0035],\n",
       "         ...,\n",
       "         [ 0.0009,  0.0015,  0.0003,  ...,  0.0008, -0.0001, -0.0024],\n",
       "         [ 0.0012,  0.0013,  0.0005,  ...,  0.0009, -0.0004, -0.0026],\n",
       "         [-0.0002,  0.0002, -0.0004,  ...,  0.0014, -0.0003, -0.0016]],\n",
       "        dtype=torch.bfloat16, grad_fn=<MmBackward0>),\n",
       " tensor([[ 2.0599e-03,  1.3962e-03,  1.1139e-03,  ...,  1.3580e-03,\n",
       "          -7.1335e-04, -3.4180e-03],\n",
       "         [ 1.9684e-03,  1.3351e-03,  9.7656e-04,  ...,  1.5640e-03,\n",
       "          -7.3624e-04, -3.5248e-03],\n",
       "         [ 1.4267e-03,  6.3324e-04,  1.2512e-03,  ...,  1.5335e-03,\n",
       "          -1.3657e-03, -3.5706e-03],\n",
       "         ...,\n",
       "         [ 1.3504e-03,  1.0147e-03, -3.4571e-05,  ...,  1.5411e-03,\n",
       "          -2.0218e-04, -2.5940e-03],\n",
       "         [ 1.3809e-03,  1.0910e-03,  3.6621e-04,  ...,  1.2207e-03,\n",
       "          -3.2425e-04, -2.6550e-03],\n",
       "         [ 1.0605e-03,  1.1902e-03,  2.9182e-04,  ...,  8.5449e-04,\n",
       "          -1.6117e-04, -2.4261e-03]], dtype=torch.bfloat16,\n",
       "        grad_fn=<MmBackward0>),\n",
       " tensor([[ 4.0245e-04,  3.2425e-04,  1.7548e-03,  ..., -7.7057e-04,\n",
       "           2.1458e-04,  1.5182e-03],\n",
       "         [-1.2741e-03, -1.2283e-03, -2.1210e-03,  ..., -2.3041e-03,\n",
       "          -6.3171e-03, -9.2316e-04],\n",
       "         [-3.2959e-03, -1.6098e-03, -5.4626e-03,  ..., -6.7444e-03,\n",
       "          -9.2163e-03, -4.4250e-03],\n",
       "         ...,\n",
       "         [-7.9346e-04, -1.0395e-04,  2.5368e-04,  ..., -3.8910e-04,\n",
       "          -9.7752e-05, -5.0735e-04],\n",
       "         [-1.2817e-03, -1.0452e-03,  6.0654e-04,  ...,  1.1396e-04,\n",
       "           3.2043e-04, -3.2234e-04],\n",
       "         [-2.8839e-03, -3.2349e-03,  6.2180e-04,  ...,  9.4223e-04,\n",
       "          -7.6294e-04, -2.1973e-03]], dtype=torch.bfloat16,\n",
       "        grad_fn=<MmBackward0>),\n",
       " tensor([[ 4.0245e-04,  3.2425e-04,  1.7548e-03,  ..., -7.7057e-04,\n",
       "           2.1458e-04,  1.5182e-03],\n",
       "         [ 3.7575e-04,  2.9945e-04,  1.6937e-03,  ..., -7.9346e-04,\n",
       "           1.1301e-04,  1.4801e-03],\n",
       "         [-4.8637e-04,  6.5231e-04,  7.1335e-04,  ..., -3.6163e-03,\n",
       "           5.8365e-04, -2.2507e-04],\n",
       "         ...,\n",
       "         [-8.2016e-04,  9.4223e-04,  4.7302e-04,  ..., -1.4114e-03,\n",
       "           8.1635e-04, -1.9836e-04],\n",
       "         [-1.0605e-03,  1.4842e-05,  8.6212e-04,  ..., -8.8120e-04,\n",
       "           8.3160e-04,  1.4400e-04],\n",
       "         [ 1.3053e-05,  6.0272e-04,  1.3428e-03,  ..., -1.0529e-03,\n",
       "           3.6430e-04,  1.1368e-03]], dtype=torch.bfloat16,\n",
       "        grad_fn=<MmBackward0>),\n",
       " tensor([[ 4.0245e-04,  3.2425e-04,  1.7548e-03,  ..., -7.7057e-04,\n",
       "           2.1458e-04,  1.5182e-03],\n",
       "         [ 2.8038e-04,  2.1267e-04,  1.4725e-03,  ..., -8.8120e-04,\n",
       "          -2.5368e-04,  1.3428e-03],\n",
       "         [ 3.4571e-05,  3.3379e-04,  1.2131e-03,  ..., -1.7242e-03,\n",
       "          -5.5313e-05,  8.4686e-04],\n",
       "         ...,\n",
       "         [-3.0136e-04,  6.3705e-04,  6.1798e-04,  ..., -1.0529e-03,\n",
       "           2.3746e-04,  2.3842e-04],\n",
       "         [ 5.1975e-05,  6.5613e-04,  1.2283e-03,  ..., -1.0910e-03,\n",
       "           3.4904e-04,  1.0681e-03],\n",
       "         [ 1.5640e-04,  6.4850e-04,  1.4267e-03,  ..., -1.1215e-03,\n",
       "           3.3951e-04,  1.2360e-03]], dtype=torch.bfloat16,\n",
       "        grad_fn=<MmBackward0>),\n",
       " tensor([[ 4.0245e-04,  3.2425e-04,  1.7548e-03,  ..., -7.7057e-04,\n",
       "           2.1458e-04,  1.5182e-03],\n",
       "         [-5.4016e-03, -5.0354e-03, -1.1658e-02,  ..., -6.0730e-03,\n",
       "          -2.2339e-02, -6.9275e-03],\n",
       "         [-8.2397e-03,  1.9073e-04, -1.1292e-02,  ..., -2.2583e-02,\n",
       "          -7.2632e-03, -1.4099e-02],\n",
       "         ...,\n",
       "         [-2.5024e-03, -2.5177e-03, -3.7994e-03,  ...,  5.2261e-04,\n",
       "          -4.4632e-04, -7.9346e-03],\n",
       "         [-8.3008e-03, -1.0986e-02, -4.2114e-03,  ...,  4.6387e-03,\n",
       "          -8.7738e-05, -1.0071e-02],\n",
       "         [-7.7209e-03, -9.2163e-03, -4.3945e-03,  ...,  3.7384e-03,\n",
       "          -1.4572e-03, -1.1780e-02]], dtype=torch.bfloat16,\n",
       "        grad_fn=<MmBackward0>),\n",
       " tensor([[ 3.6163e-03, -1.4420e-03,  1.4038e-03,  ...,  2.1362e-03,\n",
       "           6.6528e-03, -1.8692e-03],\n",
       "         [-4.1771e-04, -2.1667e-03, -9.7656e-04,  ...,  1.1139e-03,\n",
       "           6.3477e-03, -1.6861e-03],\n",
       "         [-2.1515e-03, -1.8234e-03, -5.7220e-04,  ...,  2.8729e-05,\n",
       "           5.4321e-03, -1.8921e-03],\n",
       "         ...,\n",
       "         [ 3.9673e-03, -2.8839e-03,  1.3962e-03,  ...,  1.6022e-03,\n",
       "           4.3640e-03, -1.0147e-03],\n",
       "         [ 1.0864e-02, -1.0681e-02, -8.6212e-04,  ...,  6.1035e-03,\n",
       "           2.2888e-03, -1.1749e-03],\n",
       "         [ 2.1362e-03, -1.6174e-03,  3.3112e-03,  ..., -3.7575e-04,\n",
       "           1.9531e-03,  8.5449e-04]], dtype=torch.bfloat16,\n",
       "        grad_fn=<MmBackward0>),\n",
       " tensor([[ 3.6163e-03, -1.4420e-03,  1.4038e-03,  ...,  2.1362e-03,\n",
       "           6.6528e-03, -1.8692e-03],\n",
       "         [ 2.1839e-04, -2.0447e-03, -6.0272e-04,  ...,  1.2817e-03,\n",
       "           6.4087e-03, -1.7166e-03],\n",
       "         [-4.8828e-03, -2.1820e-03, -1.8921e-03,  ..., -8.0109e-04,\n",
       "           5.0659e-03, -1.8311e-03],\n",
       "         ...,\n",
       "         [ 2.2736e-03, -1.3580e-03,  3.2349e-03,  ...,  6.9046e-04,\n",
       "           4.4556e-03,  1.1492e-04],\n",
       "         [ 3.3264e-03, -1.9073e-03,  3.0670e-03,  ...,  1.3924e-04,\n",
       "           3.6621e-03,  1.4722e-05],\n",
       "         [ 2.8229e-03, -1.5945e-03,  2.7466e-03,  ..., -2.0409e-04,\n",
       "           3.2654e-03,  1.0824e-04]], dtype=torch.bfloat16,\n",
       "        grad_fn=<MmBackward0>),\n",
       " tensor([[ 3.6163e-03, -1.4420e-03,  1.4038e-03,  ...,  2.1362e-03,\n",
       "           6.6528e-03, -1.8692e-03],\n",
       "         [ 2.8992e-04, -2.0447e-03, -5.6076e-04,  ...,  1.2970e-03,\n",
       "           6.4087e-03, -1.7242e-03],\n",
       "         [-3.5706e-03, -1.8387e-03, -8.8120e-04,  ..., -5.6839e-04,\n",
       "           5.0354e-03, -1.9379e-03],\n",
       "         ...,\n",
       "         [ 2.8992e-03, -1.9150e-03,  2.7008e-03,  ...,  1.0147e-03,\n",
       "           4.2725e-03, -2.3174e-04],\n",
       "         [ 4.3945e-03, -3.8605e-03,  2.9144e-03,  ...,  1.2360e-03,\n",
       "           3.0975e-03,  1.7738e-04],\n",
       "         [ 2.2736e-03, -1.6708e-03,  3.3569e-03,  ..., -3.4571e-05,\n",
       "           2.8076e-03,  6.1417e-04]], dtype=torch.bfloat16,\n",
       "        grad_fn=<MmBackward0>),\n",
       " tensor([[ 0.0036, -0.0014,  0.0014,  ...,  0.0021,  0.0067, -0.0019],\n",
       "         [-0.0005, -0.0022, -0.0010,  ...,  0.0011,  0.0063, -0.0017],\n",
       "         [-0.0037, -0.0021, -0.0014,  ..., -0.0004,  0.0053, -0.0018],\n",
       "         ...,\n",
       "         [ 0.0026, -0.0017,  0.0034,  ...,  0.0010,  0.0042,  0.0005],\n",
       "         [ 0.0030, -0.0025,  0.0034,  ...,  0.0004,  0.0035,  0.0009],\n",
       "         [ 0.0028, -0.0023,  0.0027,  ...,  0.0006,  0.0025,  0.0010]],\n",
       "        dtype=torch.bfloat16, grad_fn=<MmBackward0>),\n",
       " tensor([[ 4.4823e-04,  4.3869e-04, -9.8419e-04,  ...,  8.6212e-04,\n",
       "           2.6131e-04,  1.1978e-03],\n",
       "         [ 4.6921e-04,  5.4932e-04, -1.0147e-03,  ...,  9.3842e-04,\n",
       "           2.1648e-04,  1.0681e-03],\n",
       "         [ 5.6076e-04,  5.1880e-04, -9.3079e-04,  ...,  9.1553e-04,\n",
       "           2.3651e-04,  1.1139e-03],\n",
       "         ...,\n",
       "         [ 4.6730e-04,  7.5912e-04, -4.0627e-04,  ...,  1.6499e-04,\n",
       "           1.7929e-04,  8.1253e-04],\n",
       "         [ 6.7520e-04,  1.0452e-03,  2.7847e-04,  ...,  4.1485e-05,\n",
       "           2.9325e-05,  5.1117e-04],\n",
       "         [ 6.2180e-04,  1.4038e-03,  3.2043e-03,  ..., -6.3324e-04,\n",
       "          -4.7493e-04,  2.4438e-05]], dtype=torch.bfloat16,\n",
       "        grad_fn=<MmBackward0>),\n",
       " tensor([[ 0.0004,  0.0004, -0.0010,  ...,  0.0009,  0.0003,  0.0012],\n",
       "         [ 0.0004,  0.0004, -0.0010,  ...,  0.0009,  0.0003,  0.0012],\n",
       "         [ 0.0005,  0.0004, -0.0010,  ...,  0.0009,  0.0003,  0.0012],\n",
       "         ...,\n",
       "         [ 0.0004,  0.0005, -0.0008,  ...,  0.0006,  0.0002,  0.0011],\n",
       "         [ 0.0004,  0.0005, -0.0009,  ...,  0.0006,  0.0002,  0.0011],\n",
       "         [ 0.0004,  0.0005, -0.0009,  ...,  0.0007,  0.0003,  0.0012]],\n",
       "        dtype=torch.bfloat16, grad_fn=<MmBackward0>),\n",
       " tensor([[ 4.4823e-04,  4.3869e-04, -9.8419e-04,  ...,  8.6212e-04,\n",
       "           2.6131e-04,  1.1978e-03],\n",
       "         [ 5.2261e-04,  8.4305e-04, -1.0910e-03,  ...,  1.1444e-03,\n",
       "           1.0014e-04,  7.2479e-04],\n",
       "         [ 9.6130e-04,  7.1335e-04, -6.9809e-04,  ...,  1.0529e-03,\n",
       "           1.8311e-04,  9.2316e-04],\n",
       "         ...,\n",
       "         [ 6.2561e-04,  6.9046e-04,  4.7684e-05,  ...,  2.7466e-04,\n",
       "           6.5804e-05,  5.9128e-04],\n",
       "         [ 2.4128e-04,  3.7766e-04, -5.3024e-04,  ...,  5.8746e-04,\n",
       "           2.7657e-04,  6.6757e-04],\n",
       "         [ 3.9864e-04,  4.5586e-04, -6.7139e-04,  ...,  6.5994e-04,\n",
       "           1.9932e-04,  1.1063e-03]], dtype=torch.bfloat16,\n",
       "        grad_fn=<MmBackward0>),\n",
       " tensor([[ 0.0004,  0.0004, -0.0010,  ...,  0.0009,  0.0003,  0.0012],\n",
       "         [ 0.0004,  0.0004, -0.0010,  ...,  0.0009,  0.0003,  0.0012],\n",
       "         [ 0.0004,  0.0004, -0.0010,  ...,  0.0009,  0.0003,  0.0012],\n",
       "         ...,\n",
       "         [ 0.0004,  0.0005, -0.0010,  ...,  0.0008,  0.0003,  0.0012],\n",
       "         [ 0.0004,  0.0004, -0.0010,  ...,  0.0008,  0.0003,  0.0012],\n",
       "         [ 0.0004,  0.0004, -0.0010,  ...,  0.0008,  0.0003,  0.0012]],\n",
       "        dtype=torch.bfloat16, grad_fn=<MmBackward0>)]"
      ]
     },
     "execution_count": 46,
     "metadata": {},
     "output_type": "execute_result"
    }
   ],
   "source": [
    "qkv_attention_store = []\n",
    "\n",
    "for head in range(32):\n",
    "    q_layer0_head = q_layer0[head]\n",
    "    k_layer0_head = k_layer0[head//4] # key weights are shared across 4 heads\n",
    "    v_layer0_head = v_layer0[head//4] # value weights are shared across 4 heads\n",
    "    q_per_token = torch.matmul(token_embeddings, q_layer0_head.T)\n",
    "    k_per_token = torch.matmul(token_embeddings, k_layer0_head.T)\n",
    "    v_per_token = torch.matmul(token_embeddings, v_layer0_head.T)\n",
    "\n",
    "    q_per_token_split_into_pairs = q_per_token.float().view(q_per_token.shape[0], -1, 2)\n",
    "    q_per_token_as_complex_numbers = torch.view_as_complex(q_per_token_split_into_pairs)\n",
    "    q_per_token_split_into_pairs_rotated = torch.view_as_real(q_per_token_as_complex_numbers * freqs_cis[:len(tokens)])\n",
    "    q_per_token_rotated = q_per_token_split_into_pairs_rotated.view(q_per_token.shape)\n",
    "\n",
    "    k_per_token_split_into_pairs = k_per_token.float().view(k_per_token.shape[0], -1, 2)\n",
    "    k_per_token_as_complex_numbers = torch.view_as_complex(k_per_token_split_into_pairs)\n",
    "    k_per_token_split_into_pairs_rotated = torch.view_as_real(k_per_token_as_complex_numbers * freqs_cis[:len(tokens)])\n",
    "    k_per_token_rotated = k_per_token_split_into_pairs_rotated.view(k_per_token.shape)\n",
    "\n",
    "    qk_per_token = torch.matmul(q_per_token_rotated, k_per_token_rotated.T)/(128)**0.5\n",
    "    mask = torch.full((len(tokens), len(tokens)), float(\"-inf\"), device=tokens.device)\n",
    "    mask = torch.triu(mask, diagonal=1)\n",
    "    qk_per_token_after_masking = qk_per_token + mask\n",
    "    qk_per_token_after_masking_after_softmax = torch.nn.functional.softmax(qk_per_token_after_masking, dim=1).to(torch.bfloat16)\n",
    "    qkv_attention = torch.matmul(qk_per_token_after_masking_after_softmax, v_per_token)\n",
    "    qkv_attention = torch.matmul(qk_per_token_after_masking_after_softmax, v_per_token)\n",
    "    qkv_attention_store.append(qkv_attention)\n",
    "\n",
    "qkv_attention_store"
   ]
  },
  {
   "cell_type": "code",
   "execution_count": 47,
   "id": "1a9de848-5526-43d6-9126-b82ba6398cbf",
   "metadata": {
    "tags": []
   },
   "outputs": [
    {
     "data": {
      "text/plain": [
       "torch.Size([17, 4096])"
      ]
     },
     "execution_count": 47,
     "metadata": {},
     "output_type": "execute_result"
    }
   ],
   "source": [
    "stacked_qkv_attention = torch.cat(qkv_attention_store, dim=-1)\n",
    "stacked_qkv_attention.shape"
   ]
  },
  {
   "cell_type": "code",
   "execution_count": 48,
   "id": "910680f2-0cbb-4551-9cdc-b9c41d63726d",
   "metadata": {
    "tags": []
   },
   "outputs": [
    {
     "data": {
      "text/plain": [
       "torch.Size([4096, 4096])"
      ]
     },
     "execution_count": 48,
     "metadata": {},
     "output_type": "execute_result"
    }
   ],
   "source": [
    "w_layer0 = model[\"model.layers.0.self_attn.o_proj.weight\"]\n",
    "w_layer0.shape"
   ]
  },
  {
   "cell_type": "code",
   "execution_count": 49,
   "id": "6ae887bc-5b6f-4915-86ae-9d5d6b963a04",
   "metadata": {
    "tags": []
   },
   "outputs": [
    {
     "data": {
      "text/plain": [
       "torch.Size([17, 4096])"
      ]
     },
     "execution_count": 49,
     "metadata": {},
     "output_type": "execute_result"
    }
   ],
   "source": [
    "embedding_delta = torch.matmul(stacked_qkv_attention, w_layer0.T)\n",
    "embedding_delta.shape"
   ]
  },
  {
   "cell_type": "code",
   "execution_count": 50,
   "id": "010e7915-8efa-48cc-9da3-b0f00cc7882f",
   "metadata": {
    "tags": []
   },
   "outputs": [
    {
     "data": {
      "text/plain": [
       "torch.Size([17, 4096])"
      ]
     },
     "execution_count": 50,
     "metadata": {},
     "output_type": "execute_result"
    }
   ],
   "source": [
    "embedding_after_edit = token_embeddings_unnormalized + embedding_delta\n",
    "embedding_after_edit.shape"
   ]
  },
  {
   "cell_type": "code",
   "execution_count": 52,
   "id": "fe0f0c39-8c1b-4df6-8fa1-24d3dcc902aa",
   "metadata": {
    "tags": []
   },
   "outputs": [
    {
     "data": {
      "text/plain": [
       "torch.Size([17, 4096])"
      ]
     },
     "execution_count": 52,
     "metadata": {},
     "output_type": "execute_result"
    }
   ],
   "source": [
    "embedding_after_edit_normalized = rms_norm(embedding_after_edit, model[\"model.layers.0.post_attention_layernorm.weight\"])\n",
    "embedding_after_edit_normalized.shape"
   ]
  },
  {
   "cell_type": "code",
   "execution_count": 53,
   "id": "c6131025-4ec2-48ed-b149-6e71790cf4c5",
   "metadata": {
    "tags": []
   },
   "outputs": [
    {
     "data": {
      "text/plain": [
       "torch.Size([17, 4096])"
      ]
     },
     "execution_count": 53,
     "metadata": {},
     "output_type": "execute_result"
    }
   ],
   "source": [
    "w1 = model[\"model.layers.0.mlp.gate_proj.weight\"]\n",
    "w2 = model[\"model.layers.0.mlp.down_proj.weight\"]\n",
    "w3 = model[\"model.layers.0.mlp.up_proj.weight\"]\n",
    "output_after_feedforward = torch.matmul(torch.functional.F.silu(torch.matmul(embedding_after_edit_normalized, w1.T)) * torch.matmul(embedding_after_edit_normalized, w3.T), w2.T)\n",
    "output_after_feedforward.shape"
   ]
  },
  {
   "cell_type": "code",
   "execution_count": 54,
   "id": "60c13b50-9090-4f03-a2b7-68aa59d1f4bd",
   "metadata": {
    "tags": []
   },
   "outputs": [
    {
     "data": {
      "text/plain": [
       "torch.Size([17, 4096])"
      ]
     },
     "execution_count": 54,
     "metadata": {},
     "output_type": "execute_result"
    }
   ],
   "source": [
    "layer_0_embedding = embedding_after_edit+output_after_feedforward\n",
    "layer_0_embedding.shape"
   ]
  },
  {
   "cell_type": "code",
   "execution_count": 62,
   "id": "d53b20a9-a485-43ff-a479-e9a5addf9282",
   "metadata": {
    "tags": []
   },
   "outputs": [
    {
     "data": {
      "text/plain": [
       "torch.Size([17, 4096])"
      ]
     },
     "execution_count": 62,
     "metadata": {},
     "output_type": "execute_result"
    }
   ],
   "source": [
    "final_embedding = token_embeddings_unnormalized\n",
    "for layer in range(32):\n",
    "    qkv_attention_store = []\n",
    "    layer_embedding_norm = rms_norm(final_embedding, model[f\"model.layers.{layer}.input_layernorm.weight\"])\n",
    "    q_layer = model[f\"model.layers.{layer}.self_attn.q_proj.weight\"]\n",
    "    q_layer = q_layer.view(32, q_layer.shape[0] // 32, 4096)\n",
    "    k_layer = model[f\"model.layers.{layer}.self_attn.k_proj.weight\"]\n",
    "    k_layer = k_layer.view(8, k_layer.shape[0] // 8, 4096)\n",
    "    v_layer = model[f\"model.layers.{layer}.self_attn.v_proj.weight\"]\n",
    "    v_layer = v_layer.view(8, v_layer.shape[0] // 8, 4096)\n",
    "    w_layer = model[f\"model.layers.{layer}.self_attn.o_proj.weight\"]\n",
    "    for head in range(32):\n",
    "        q_layer_head = q_layer[head]\n",
    "        k_layer_head = k_layer[head//4]\n",
    "        v_layer_head = v_layer[head//4]\n",
    "        \n",
    "        q_per_token = torch.matmul(layer_embedding_norm, q_layer_head.T)\n",
    "        k_per_token = torch.matmul(layer_embedding_norm, k_layer_head.T)\n",
    "        v_per_token = torch.matmul(layer_embedding_norm, v_layer_head.T)\n",
    "        \n",
    "        q_per_token_split_into_pairs = q_per_token.float().view(q_per_token.shape[0], -1, 2)\n",
    "        q_per_token_as_complex_numbers = torch.view_as_complex(q_per_token_split_into_pairs)\n",
    "        q_per_token_split_into_pairs_rotated = torch.view_as_real(q_per_token_as_complex_numbers * freqs_cis)\n",
    "        q_per_token_rotated = q_per_token_split_into_pairs_rotated.view(q_per_token.shape)\n",
    "        \n",
    "        k_per_token_split_into_pairs = k_per_token.float().view(k_per_token.shape[0], -1, 2)\n",
    "        k_per_token_as_complex_numbers = torch.view_as_complex(k_per_token_split_into_pairs)\n",
    "        k_per_token_split_into_pairs_rotated = torch.view_as_real(k_per_token_as_complex_numbers * freqs_cis)\n",
    "        k_per_token_rotated = k_per_token_split_into_pairs_rotated.view(k_per_token.shape)\n",
    "        \n",
    "        qk_per_token = torch.matmul(q_per_token_rotated, k_per_token_rotated.T)/(128)**0.5\n",
    "        mask = torch.full((len(token_embeddings_unnormalized), len(token_embeddings_unnormalized)), float(\"-inf\"))\n",
    "        mask = torch.triu(mask, diagonal=1)\n",
    "        \n",
    "        qk_per_token_after_masking = qk_per_token + mask\n",
    "        qk_per_token_after_masking_after_softmax = torch.nn.functional.softmax(qk_per_token_after_masking, dim=1).to(torch.bfloat16)\n",
    "        qkv_attention = torch.matmul(qk_per_token_after_masking_after_softmax, v_per_token)\n",
    "        qkv_attention_store.append(qkv_attention)\n",
    "\n",
    "    stacked_qkv_attention = torch.cat(qkv_attention_store, dim=-1)\n",
    "    # w_layer = model[f\"layers.{layer}.attention.wo.weight\"]\n",
    "    embedding_delta = torch.matmul(stacked_qkv_attention, w_layer.T)\n",
    "    embedding_after_edit = final_embedding + embedding_delta\n",
    "    embedding_after_edit_normalized = rms_norm(embedding_after_edit, model[f\"model.layers.{layer}.post_attention_layernorm.weight\"])\n",
    "    w1 = model[f\"model.layers.{layer}.mlp.gate_proj.weight\"]\n",
    "    w2 = model[f\"model.layers.{layer}.mlp.down_proj.weight\"]\n",
    "    w3 = model[f\"model.layers.{layer}.mlp.up_proj.weight\"]\n",
    "    output_after_feedforward = torch.matmul(torch.functional.F.silu(torch.matmul(embedding_after_edit_normalized, w1.T)) * torch.matmul(embedding_after_edit_normalized, w3.T), w2.T)\n",
    "    final_embedding = embedding_after_edit+output_after_feedforward\n",
    "    \n",
    "final_embedding = rms_norm(final_embedding, model[\"model.norm.weight\"])\n",
    "final_embedding.shape"
   ]
  },
  {
   "cell_type": "code",
   "execution_count": 64,
   "id": "a73f0bec-6459-4bc8-8ae2-258d5c468aaf",
   "metadata": {
    "tags": []
   },
   "outputs": [
    {
     "data": {
      "text/plain": [
       "torch.Size([128256, 4096])"
      ]
     },
     "execution_count": 64,
     "metadata": {},
     "output_type": "execute_result"
    }
   ],
   "source": [
    "model[\"lm_head.weight\"].shape"
   ]
  },
  {
   "cell_type": "code",
   "execution_count": 65,
   "id": "d5dc805f-a37a-45d9-8f04-39313be011a1",
   "metadata": {
    "tags": []
   },
   "outputs": [
    {
     "data": {
      "text/plain": [
       "torch.Size([128256])"
      ]
     },
     "execution_count": 65,
     "metadata": {},
     "output_type": "execute_result"
    }
   ],
   "source": [
    "logits = torch.matmul(final_embedding[-1], model[\"lm_head.weight\"].T)\n",
    "logits.shape"
   ]
  },
  {
   "cell_type": "code",
   "execution_count": 66,
   "id": "4c6c969f-c3b2-40b2-ac7c-44d7b118fe8a",
   "metadata": {
    "tags": []
   },
   "outputs": [
    {
     "data": {
      "text/plain": [
       "tensor(2983)"
      ]
     },
     "execution_count": 66,
     "metadata": {},
     "output_type": "execute_result"
    }
   ],
   "source": [
    "next_token = torch.argmax(logits, dim=-1)\n",
    "next_token"
   ]
  },
  {
   "cell_type": "code",
   "execution_count": 67,
   "id": "418b3ca5-6cd5-498e-8964-531a4ab2058a",
   "metadata": {
    "tags": []
   },
   "outputs": [
    {
     "data": {
      "text/plain": [
       "'42'"
      ]
     },
     "execution_count": 67,
     "metadata": {},
     "output_type": "execute_result"
    }
   ],
   "source": [
    "tokenizer.decode([next_token.item()])"
   ]
  },
  {
   "cell_type": "code",
   "execution_count": 80,
   "id": "f819a92e-6560-4288-92e6-fae01291992a",
   "metadata": {},
   "outputs": [
    {
     "name": "stdout",
     "output_type": "stream",
     "text": [
      "[0.45268548, 0.42763066, 0.51978886, 0.32976416, 0.34777606, 0.5869958, 0.49654818, 0.30836874, 0.47027594, 0.34596822, 0.34777606, 0.57844096, 0.34596822, 0.35964954, 0.53014666, 0.34876496, 0.3364351]\n",
      "[3.6506994, 9.46519, 8.746158, 10.532458, 10.5204525, 10.4822235, 10.69296, 9.693582, 11.830906, 11.554615, 9.749052, 12.200924, 11.294086, 10.072041, 11.652654, 9.8893795, 10.8385515]\n"
     ]
    }
   ],
   "source": [
    "import numpy as np\n",
    "q_length = []\n",
    "q_r_length = []\n",
    "for i in range(token_embeddings.shape[0]):\n",
    "    q_length.append(np.linalg.norm(token_embeddings_unnormalized.detach().to(torch.float).numpy()[i]))\n",
    "    q_r_length.append(np.linalg.norm(embedding_delta.detach().to(torch.float).numpy()[i]))\n",
    "print(q_length)\n",
    "print(q_r_length)"
   ]
  },
  {
   "cell_type": "code",
   "execution_count": null,
   "id": "4803ebb7-3b41-4f01-bff2-860fe5686478",
   "metadata": {},
   "outputs": [],
   "source": []
  }
 ],
 "metadata": {
  "kernelspec": {
   "display_name": "Python 3 (ipykernel)",
   "language": "python",
   "name": "python3"
  },
  "language_info": {
   "codemirror_mode": {
    "name": "ipython",
    "version": 3
   },
   "file_extension": ".py",
   "mimetype": "text/x-python",
   "name": "python",
   "nbconvert_exporter": "python",
   "pygments_lexer": "ipython3",
   "version": "3.8.10"
  }
 },
 "nbformat": 4,
 "nbformat_minor": 5
}
